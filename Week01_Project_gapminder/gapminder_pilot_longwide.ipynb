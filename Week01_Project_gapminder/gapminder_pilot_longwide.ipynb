{
 "cells": [
  {
   "cell_type": "code",
   "execution_count": 20,
   "metadata": {},
   "outputs": [],
   "source": [
    "import pandas as pd\n",
    "import matplotlib.pyplot as plt\n",
    "import seaborn as sns\n",
    "sns.set()\n",
    "%matplotlib inline"
   ]
  },
  {
   "cell_type": "code",
   "execution_count": 21,
   "metadata": {},
   "outputs": [
    {
     "name": "stdout",
     "output_type": "stream",
     "text": [
      "                       1800  1801  1802  1803  1804  1805  1806  1807  1808  \\\n",
      "Total fertility rate                                                          \n",
      "Abkhazia                NaN   NaN   NaN   NaN   NaN   NaN   NaN   NaN   NaN   \n",
      "Afghanistan            7.00  7.00  7.00  7.00  7.00  7.00  7.00  7.00  7.00   \n",
      "Akrotiri and Dhekelia   NaN   NaN   NaN   NaN   NaN   NaN   NaN   NaN   NaN   \n",
      "Albania                4.60  4.60  4.60  4.60  4.60  4.60  4.60  4.60  4.60   \n",
      "Algeria                6.99  6.99  6.99  6.99  6.99  6.99  6.99  6.99  6.99   \n",
      "...                     ...   ...   ...   ...   ...   ...   ...   ...   ...   \n",
      "Yugoslavia              NaN   NaN   NaN   NaN   NaN   NaN   NaN   NaN   NaN   \n",
      "Zambia                 6.71  6.71  6.71  6.71  6.71  6.71  6.71  6.71  6.71   \n",
      "Zimbabwe               6.75  6.75  6.75  6.75  6.75  6.75  6.75  6.75  6.75   \n",
      "Åland                   NaN   NaN   NaN   NaN   NaN   NaN   NaN   NaN   NaN   \n",
      "Åland                   NaN   NaN   NaN   NaN   NaN   NaN   NaN   NaN   NaN   \n",
      "\n",
      "                       1809  ...  2006  2007  2008  2009  2010  2011  2012  \\\n",
      "Total fertility rate         ...                                             \n",
      "Abkhazia                NaN  ...   NaN   NaN   NaN   NaN   NaN   NaN   NaN   \n",
      "Afghanistan            7.00  ...  6.70  6.46  6.20  5.93  5.66  5.40  5.14   \n",
      "Akrotiri and Dhekelia   NaN  ...   NaN   NaN   NaN   NaN   NaN   NaN   NaN   \n",
      "Albania                4.60  ...  1.85  1.80  1.76  1.74  1.74  1.75  1.76   \n",
      "Algeria                6.99  ...  2.58  2.66  2.73  2.78  2.82  2.83  2.82   \n",
      "...                     ...  ...   ...   ...   ...   ...   ...   ...   ...   \n",
      "Yugoslavia              NaN  ...   NaN   NaN   NaN   NaN   NaN   NaN   NaN   \n",
      "Zambia                 6.71  ...  5.93  5.91  5.88  5.85  5.81  5.77  5.73   \n",
      "Zimbabwe               6.75  ...  3.94  3.90  3.85  3.79  3.72  3.64  3.56   \n",
      "Åland                   NaN  ...   NaN   NaN   NaN   NaN   NaN   NaN   NaN   \n",
      "Åland                   NaN  ...   NaN   NaN   NaN   NaN   NaN   NaN   NaN   \n",
      "\n",
      "                       2013  2014  2015  \n",
      "Total fertility rate                     \n",
      "Abkhazia                NaN   NaN   NaN  \n",
      "Afghanistan            4.90  4.68  4.47  \n",
      "Akrotiri and Dhekelia   NaN   NaN   NaN  \n",
      "Albania                1.77  1.78  1.78  \n",
      "Algeria                2.80  2.76  2.71  \n",
      "...                     ...   ...   ...  \n",
      "Yugoslavia              NaN   NaN   NaN  \n",
      "Zambia                 5.69  5.64  5.59  \n",
      "Zimbabwe               3.49  3.41  3.35  \n",
      "Åland                   NaN   NaN   NaN  \n",
      "Åland                   NaN   NaN   NaN  \n",
      "\n",
      "[260 rows x 216 columns]\n"
     ]
    }
   ],
   "source": [
    "fert = pd.read_csv('gapminder_total_fertility.csv', index_col=0)\n",
    "print(fert)"
   ]
  },
  {
   "cell_type": "code",
   "execution_count": 27,
   "metadata": {},
   "outputs": [
    {
     "name": "stdout",
     "output_type": "stream",
     "text": [
      "                        1800   1801   1802   1803   1804   1805   1806   1807  \\\n",
      "Life expectancy                                                                 \n",
      "Abkhazia                 NaN    NaN    NaN    NaN    NaN    NaN    NaN    NaN   \n",
      "Afghanistan            28.21  28.20  28.19  28.18  28.17  28.16  28.15  28.14   \n",
      "Akrotiri and Dhekelia    NaN    NaN    NaN    NaN    NaN    NaN    NaN    NaN   \n",
      "Albania                35.40  35.40  35.40  35.40  35.40  35.40  35.40  35.40   \n",
      "Algeria                28.82  28.82  28.82  28.82  28.82  28.82  28.82  28.82   \n",
      "...                      ...    ...    ...    ...    ...    ...    ...    ...   \n",
      "Yugoslavia               NaN    NaN    NaN    NaN    NaN    NaN    NaN    NaN   \n",
      "Zambia                 32.60  32.60  32.60  32.60  32.60  32.60  32.60  32.60   \n",
      "Zimbabwe               33.70  33.70  33.70  33.70  33.70  33.70  33.70  33.70   \n",
      "Åland                    NaN    NaN    NaN    NaN    NaN    NaN    NaN    NaN   \n",
      "South Sudan            26.67  26.67  26.67  26.67  26.67  26.67  26.67  26.67   \n",
      "\n",
      "                        1808   1809  ...  2007  2008  2009  2010  2011  2012  \\\n",
      "Life expectancy                      ...                                       \n",
      "Abkhazia                 NaN    NaN  ...   NaN   NaN   NaN   NaN   NaN   NaN   \n",
      "Afghanistan            28.13  28.12  ...  52.4  52.8  53.3  53.6  54.0  54.4   \n",
      "Akrotiri and Dhekelia    NaN    NaN  ...   NaN   NaN   NaN   NaN   NaN   NaN   \n",
      "Albania                35.40  35.40  ...  76.6  76.8  77.0  77.2  77.4  77.5   \n",
      "Algeria                28.82  28.82  ...  75.3  75.5  75.7  76.0  76.1  76.2   \n",
      "...                      ...    ...  ...   ...   ...   ...   ...   ...   ...   \n",
      "Yugoslavia               NaN    NaN  ...   NaN   NaN   NaN   NaN   NaN   NaN   \n",
      "Zambia                 32.60  32.60  ...  49.0  51.1  52.3  53.1  53.7  54.7   \n",
      "Zimbabwe               33.70  33.70  ...  46.4  47.3  48.0  49.1  51.6  54.2   \n",
      "Åland                    NaN    NaN  ...   NaN   NaN   NaN   NaN   NaN   NaN   \n",
      "South Sudan            26.67  26.67  ...  55.5  55.6  55.8  56.0  55.9  56.0   \n",
      "\n",
      "                       2013  2014  2015   2016  \n",
      "Life expectancy                                 \n",
      "Abkhazia                NaN   NaN   NaN    NaN  \n",
      "Afghanistan            54.8  54.9  53.8  52.72  \n",
      "Akrotiri and Dhekelia   NaN   NaN   NaN    NaN  \n",
      "Albania                77.7  77.9  78.0  78.10  \n",
      "Algeria                76.3  76.3  76.4  76.50  \n",
      "...                     ...   ...   ...    ...  \n",
      "Yugoslavia              NaN   NaN   NaN    NaN  \n",
      "Zambia                 55.6  56.3  56.7  57.10  \n",
      "Zimbabwe               55.7  57.0  59.3  61.69  \n",
      "Åland                   NaN   NaN   NaN    NaN  \n",
      "South Sudan            56.0  56.1  56.1  56.10  \n",
      "\n",
      "[260 rows x 217 columns]\n"
     ]
    }
   ],
   "source": [
    "life = pd.read_excel('gapminder_lifeexpectancy.xlsx', index_col=0)\n",
    "print(life)"
   ]
  },
  {
   "cell_type": "code",
   "execution_count": 28,
   "metadata": {},
   "outputs": [
    {
     "name": "stdout",
     "output_type": "stream",
     "text": [
      "(260, 216)\n"
     ]
    }
   ],
   "source": [
    "print(fert.shape)"
   ]
  },
  {
   "cell_type": "code",
   "execution_count": 29,
   "metadata": {},
   "outputs": [
    {
     "name": "stdout",
     "output_type": "stream",
     "text": [
      "(260, 217)\n"
     ]
    }
   ],
   "source": [
    "print(life.shape)"
   ]
  },
  {
   "cell_type": "code",
   "execution_count": 30,
   "metadata": {},
   "outputs": [
    {
     "data": {
      "text/plain": [
       "Index(['1800', '1801', '1802', '1803', '1804', '1805', '1806', '1807', '1808',\n",
       "       '1809',\n",
       "       ...\n",
       "       '2006', '2007', '2008', '2009', '2010', '2011', '2012', '2013', '2014',\n",
       "       '2015'],\n",
       "      dtype='object', length=216)"
      ]
     },
     "execution_count": 30,
     "metadata": {},
     "output_type": "execute_result"
    }
   ],
   "source": [
    "fert.columns"
   ]
  },
  {
   "cell_type": "code",
   "execution_count": 31,
   "metadata": {},
   "outputs": [
    {
     "data": {
      "text/plain": [
       "Int64Index([1800, 1801, 1802, 1803, 1804, 1805, 1806, 1807, 1808, 1809,\n",
       "            ...\n",
       "            2007, 2008, 2009, 2010, 2011, 2012, 2013, 2014, 2015, 2016],\n",
       "           dtype='int64', length=217)"
      ]
     },
     "execution_count": 31,
     "metadata": {},
     "output_type": "execute_result"
    }
   ],
   "source": [
    "life.columns"
   ]
  },
  {
   "cell_type": "code",
   "execution_count": 32,
   "metadata": {},
   "outputs": [
    {
     "data": {
      "text/plain": [
       "Int64Index([1800, 1801, 1802, 1803, 1804, 1805, 1806, 1807, 1808, 1809,\n",
       "            ...\n",
       "            2006, 2007, 2008, 2009, 2010, 2011, 2012, 2013, 2014, 2015],\n",
       "           dtype='int64', length=216)"
      ]
     },
     "execution_count": 32,
     "metadata": {},
     "output_type": "execute_result"
    }
   ],
   "source": [
    "ncol = [int(x) for x in fert.columns]\n",
    "fert.set_axis(axis=1, labels=ncol, inplace=True)\n",
    "fert.columns"
   ]
  },
  {
   "cell_type": "code",
   "execution_count": 33,
   "metadata": {},
   "outputs": [
    {
     "name": "stdout",
     "output_type": "stream",
     "text": [
      "Total fertility rate      \n",
      "Afghanistan           1800    7.00\n",
      "                      1801    7.00\n",
      "                      1802    7.00\n",
      "                      1803    7.00\n",
      "                      1804    7.00\n",
      "                              ... \n",
      "Zimbabwe              2011    3.64\n",
      "                      2012    3.56\n",
      "                      2013    3.49\n",
      "                      2014    3.41\n",
      "                      2015    3.35\n",
      "Length: 43412, dtype: float64\n"
     ]
    }
   ],
   "source": [
    "sfert = fert.stack()\n",
    "print(sfert)"
   ]
  },
  {
   "cell_type": "code",
   "execution_count": 34,
   "metadata": {},
   "outputs": [
    {
     "name": "stdout",
     "output_type": "stream",
     "text": [
      "Life expectancy      \n",
      "Afghanistan      1800    28.21\n",
      "                 1801    28.20\n",
      "                 1802    28.19\n",
      "                 1803    28.18\n",
      "                 1804    28.17\n",
      "                         ...  \n",
      "South Sudan      2012    56.00\n",
      "                 2013    56.00\n",
      "                 2014    56.10\n",
      "                 2015    56.10\n",
      "                 2016    56.10\n",
      "Length: 43857, dtype: float64\n"
     ]
    }
   ],
   "source": [
    "slife = life.stack()\n",
    "print(slife)"
   ]
  },
  {
   "cell_type": "code",
   "execution_count": 36,
   "metadata": {},
   "outputs": [
    {
     "name": "stdout",
     "output_type": "stream",
     "text": [
      "                  fertility  lifeexp\n",
      "Afghanistan 1800        7.0    28.21\n",
      "            1801        7.0    28.20\n",
      "            1802        7.0    28.19\n",
      "            1803        7.0    28.18\n",
      "            1804        7.0    28.17\n",
      "...                     ...      ...\n",
      "Åland       2002        NaN    81.80\n",
      "            2003        NaN    80.63\n",
      "            2004        NaN    79.88\n",
      "            2005        NaN    80.00\n",
      "            2006        NaN    80.10\n",
      "\n",
      "[44007 rows x 2 columns]\n"
     ]
    }
   ],
   "source": [
    "d = {'fertility': sfert, 'lifeexp': slife}\n",
    "df2 = pd.DataFrame(data=d)\n",
    "print(df2)"
   ]
  },
  {
   "cell_type": "code",
   "execution_count": 37,
   "metadata": {},
   "outputs": [
    {
     "name": "stdout",
     "output_type": "stream",
     "text": [
      "                                                   1800       1810       1820  \\\n",
      "Total population                                                                \n",
      "Abkhazia                                            NaN        NaN        NaN   \n",
      "Afghanistan                                   3280000.0  3280000.0  3323519.0   \n",
      "Akrotiri and Dhekelia                               NaN        NaN        NaN   \n",
      "Albania                                        410445.0   423591.0   438671.0   \n",
      "Algeria                                       2503218.0  2595056.0  2713079.0   \n",
      "...                                                 ...        ...        ...   \n",
      "Northern Marianas                                   NaN        NaN        NaN   \n",
      "South Georgia and the South Sandwich Islands        NaN        NaN        NaN   \n",
      "US Minor Outlying Islands                           NaN        NaN        NaN   \n",
      "Virgin Islands                                      NaN        NaN        NaN   \n",
      "West Bank                                           NaN        NaN        NaN   \n",
      "\n",
      "                                                   1830       1840       1850  \\\n",
      "Total population                                                                \n",
      "Abkhazia                                            NaN        NaN        NaN   \n",
      "Afghanistan                                   3448982.0  3625022.0  3810047.0   \n",
      "Akrotiri and Dhekelia                               NaN        NaN        NaN   \n",
      "Albania                                        457234.0   478227.0   506889.0   \n",
      "Algeria                                       2880355.0  3082721.0  3299305.0   \n",
      "...                                                 ...        ...        ...   \n",
      "Northern Marianas                                   NaN        NaN        NaN   \n",
      "South Georgia and the South Sandwich Islands        NaN        NaN        NaN   \n",
      "US Minor Outlying Islands                           NaN        NaN        NaN   \n",
      "Virgin Islands                                      NaN        NaN        NaN   \n",
      "West Bank                                           NaN        NaN        NaN   \n",
      "\n",
      "                                                   1860       1870       1880  \\\n",
      "Total population                                                                \n",
      "Abkhazia                                            NaN        NaN        NaN   \n",
      "Afghanistan                                   3973968.0  4169690.0  4419695.0   \n",
      "Akrotiri and Dhekelia                               NaN        NaN        NaN   \n",
      "Albania                                        552800.0   610036.0   672544.0   \n",
      "Algeria                                       3536468.0  3811028.0  4143163.0   \n",
      "...                                                 ...        ...        ...   \n",
      "Northern Marianas                                   NaN        NaN        NaN   \n",
      "South Georgia and the South Sandwich Islands        NaN        NaN        NaN   \n",
      "US Minor Outlying Islands                           NaN        NaN        NaN   \n",
      "Virgin Islands                                      NaN        NaN        NaN   \n",
      "West Bank                                           NaN        NaN        NaN   \n",
      "\n",
      "                                                   1890  ...        2006  \\\n",
      "Total population                                         ...               \n",
      "Abkhazia                                            NaN  ...         NaN   \n",
      "Afghanistan                                   4710171.0  ...  25183615.0   \n",
      "Akrotiri and Dhekelia                               NaN  ...     15700.0   \n",
      "Albania                                        741688.0  ...   3050741.0   \n",
      "Algeria                                       4525691.0  ...  33749328.0   \n",
      "...                                                 ...  ...         ...   \n",
      "Northern Marianas                                   NaN  ...         NaN   \n",
      "South Georgia and the South Sandwich Islands        NaN  ...         NaN   \n",
      "US Minor Outlying Islands                           NaN  ...         NaN   \n",
      "Virgin Islands                                      NaN  ...         NaN   \n",
      "West Bank                                           NaN  ...         NaN   \n",
      "\n",
      "                                                    2007        2008  \\\n",
      "Total population                                                       \n",
      "Abkhazia                                             NaN         NaN   \n",
      "Afghanistan                                   25877544.0  26528741.0   \n",
      "Akrotiri and Dhekelia                            15700.0     15700.0   \n",
      "Albania                                        3010849.0   2968026.0   \n",
      "Algeria                                       34261971.0  34811059.0   \n",
      "...                                                  ...         ...   \n",
      "Northern Marianas                                    NaN         NaN   \n",
      "South Georgia and the South Sandwich Islands         NaN         NaN   \n",
      "US Minor Outlying Islands                            NaN         NaN   \n",
      "Virgin Islands                                       NaN         NaN   \n",
      "West Bank                                            NaN         NaN   \n",
      "\n",
      "                                                    2009        2010  \\\n",
      "Total population                                                       \n",
      "Abkhazia                                             NaN         NaN   \n",
      "Afghanistan                                   27207291.0  27962207.0   \n",
      "Akrotiri and Dhekelia                                NaN         NaN   \n",
      "Albania                                        2929886.0   2901883.0   \n",
      "Algeria                                       35401790.0  36036159.0   \n",
      "...                                                  ...         ...   \n",
      "Northern Marianas                                    NaN         NaN   \n",
      "South Georgia and the South Sandwich Islands         NaN         NaN   \n",
      "US Minor Outlying Islands                            NaN         NaN   \n",
      "Virgin Islands                                       NaN         NaN   \n",
      "West Bank                                            NaN         NaN   \n",
      "\n",
      "                                                    2011        2012  \\\n",
      "Total population                                                       \n",
      "Abkhazia                                             NaN         NaN   \n",
      "Afghanistan                                   28809167.0  29726803.0   \n",
      "Akrotiri and Dhekelia                                NaN         NaN   \n",
      "Albania                                        2886010.0   2880667.0   \n",
      "Algeria                                       36717132.0  37439427.0   \n",
      "...                                                  ...         ...   \n",
      "Northern Marianas                                    NaN         NaN   \n",
      "South Georgia and the South Sandwich Islands         NaN         NaN   \n",
      "US Minor Outlying Islands                            NaN         NaN   \n",
      "Virgin Islands                                       NaN         NaN   \n",
      "West Bank                                            NaN         NaN   \n",
      "\n",
      "                                                    2013        2014  \\\n",
      "Total population                                                       \n",
      "Abkhazia                                             NaN         NaN   \n",
      "Afghanistan                                   30682500.0  31627506.0   \n",
      "Akrotiri and Dhekelia                                NaN         NaN   \n",
      "Albania                                        2883281.0   2889676.0   \n",
      "Algeria                                       38186135.0  38934334.0   \n",
      "...                                                  ...         ...   \n",
      "Northern Marianas                                    NaN         NaN   \n",
      "South Georgia and the South Sandwich Islands         NaN         NaN   \n",
      "US Minor Outlying Islands                            NaN         NaN   \n",
      "Virgin Islands                                       NaN         NaN   \n",
      "West Bank                                            NaN         NaN   \n",
      "\n",
      "                                                    2015  \n",
      "Total population                                          \n",
      "Abkhazia                                             NaN  \n",
      "Afghanistan                                   32526562.0  \n",
      "Akrotiri and Dhekelia                                NaN  \n",
      "Albania                                        2896679.0  \n",
      "Algeria                                       39666519.0  \n",
      "...                                                  ...  \n",
      "Northern Marianas                                    NaN  \n",
      "South Georgia and the South Sandwich Islands         NaN  \n",
      "US Minor Outlying Islands                            NaN  \n",
      "Virgin Islands                                       NaN  \n",
      "West Bank                                            NaN  \n",
      "\n",
      "[275 rows x 81 columns]\n"
     ]
    }
   ],
   "source": [
    "pop = pd.read_excel('gapminder_population.xlsx', index_col=0)\n",
    "print(pop)"
   ]
  },
  {
   "cell_type": "code",
   "execution_count": 38,
   "metadata": {},
   "outputs": [
    {
     "name": "stdout",
     "output_type": "stream",
     "text": [
      "(275, 81)\n"
     ]
    }
   ],
   "source": [
    "print(pop.shape)"
   ]
  },
  {
   "cell_type": "code",
   "execution_count": 39,
   "metadata": {},
   "outputs": [
    {
     "data": {
      "text/plain": [
       "Int64Index([1800, 1810, 1820, 1830, 1840, 1850, 1860, 1870, 1880, 1890, 1900,\n",
       "            1910, 1920, 1930, 1940, 1950, 1951, 1952, 1953, 1954, 1955, 1956,\n",
       "            1957, 1958, 1959, 1960, 1961, 1962, 1963, 1964, 1965, 1966, 1967,\n",
       "            1968, 1969, 1970, 1971, 1972, 1973, 1974, 1975, 1976, 1977, 1978,\n",
       "            1979, 1980, 1981, 1982, 1983, 1984, 1985, 1986, 1987, 1988, 1989,\n",
       "            1990, 1991, 1992, 1993, 1994, 1995, 1996, 1997, 1998, 1999, 2000,\n",
       "            2001, 2002, 2003, 2004, 2005, 2006, 2007, 2008, 2009, 2010, 2011,\n",
       "            2012, 2013, 2014, 2015],\n",
       "           dtype='int64')"
      ]
     },
     "execution_count": 39,
     "metadata": {},
     "output_type": "execute_result"
    }
   ],
   "source": [
    "pop.columns"
   ]
  },
  {
   "cell_type": "code",
   "execution_count": 40,
   "metadata": {},
   "outputs": [
    {
     "name": "stdout",
     "output_type": "stream",
     "text": [
      "Total population               \n",
      "Afghanistan                1800    3280000.0\n",
      "                           1810    3280000.0\n",
      "                           1820    3323519.0\n",
      "                           1830    3448982.0\n",
      "                           1840    3625022.0\n",
      "                                     ...    \n",
      "Sint Maarten (Dutch part)  2011      33979.0\n",
      "                           2012      35134.0\n",
      "                           2013      36442.0\n",
      "                           2014      37696.0\n",
      "                           2015      38745.0\n",
      "Length: 20176, dtype: float64\n"
     ]
    }
   ],
   "source": [
    "spop = pop.stack()\n",
    "print(spop)"
   ]
  },
  {
   "cell_type": "code",
   "execution_count": 42,
   "metadata": {},
   "outputs": [
    {
     "name": "stdout",
     "output_type": "stream",
     "text": [
      "                  fertility  lifeexp  population\n",
      "Afghanistan 1800        7.0    28.21   3280000.0\n",
      "            1801        7.0    28.20         NaN\n",
      "            1802        7.0    28.19         NaN\n",
      "            1803        7.0    28.18         NaN\n",
      "            1804        7.0    28.17         NaN\n",
      "...                     ...      ...         ...\n",
      "Åland       2006        NaN    80.10     26923.0\n",
      "            2007        NaN      NaN     26923.0\n",
      "            2008        NaN      NaN     26923.0\n",
      "            2009        NaN      NaN     26923.0\n",
      "            2010        NaN      NaN     26923.0\n",
      "\n",
      "[47688 rows x 3 columns]\n"
     ]
    }
   ],
   "source": [
    "e = {'fertility': sfert, 'lifeexp': slife, 'population': spop}\n",
    "df2 = pd.DataFrame(data=e)\n",
    "print(df2)"
   ]
  },
  {
   "cell_type": "code",
   "execution_count": 43,
   "metadata": {},
   "outputs": [
    {
     "name": "stdout",
     "output_type": "stream",
     "text": [
      "Afghanistan  1800  fertility           7.00\n",
      "                   lifeexp            28.21\n",
      "                   population    3280000.00\n",
      "             1801  fertility           7.00\n",
      "                   lifeexp            28.20\n",
      "                                    ...    \n",
      "Åland        2006  population      26923.00\n",
      "             2007  population      26923.00\n",
      "             2008  population      26923.00\n",
      "             2009  population      26923.00\n",
      "             2010  population      26923.00\n",
      "Length: 107445, dtype: float64\n"
     ]
    }
   ],
   "source": [
    "df3 = df2.stack()\n",
    "print(df3)"
   ]
  },
  {
   "cell_type": "code",
   "execution_count": 44,
   "metadata": {},
   "outputs": [
    {
     "name": "stdout",
     "output_type": "stream",
     "text": [
      "     Afghanistan                     Akrotiri and Dhekelia   Albania          \\\n",
      "       fertility lifeexp  population            population fertility lifeexp   \n",
      "1800        7.00   28.21   3280000.0                   NaN      4.60    35.4   \n",
      "1801        7.00   28.20         NaN                   NaN      4.60    35.4   \n",
      "1802        7.00   28.19         NaN                   NaN      4.60    35.4   \n",
      "1803        7.00   28.18         NaN                   NaN      4.60    35.4   \n",
      "1804        7.00   28.17         NaN                   NaN      4.60    35.4   \n",
      "...          ...     ...         ...                   ...       ...     ...   \n",
      "2012        5.14   54.40  29726803.0                   NaN      1.76    77.5   \n",
      "2013        4.90   54.80  30682500.0                   NaN      1.77    77.7   \n",
      "2014        4.68   54.90  31627506.0                   NaN      1.78    77.9   \n",
      "2015        4.47   53.80  32526562.0                   NaN      1.78    78.0   \n",
      "2016         NaN   52.72         NaN                   NaN       NaN    78.1   \n",
      "\n",
      "                  Algeria                      ...       Yemen Yugoslavia  \\\n",
      "     population fertility lifeexp  population  ...  population population   \n",
      "1800   410445.0      6.99   28.82   2503218.0  ...   2593000.0        NaN   \n",
      "1801        NaN      6.99   28.82         NaN  ...         NaN        NaN   \n",
      "1802        NaN      6.99   28.82         NaN  ...         NaN        NaN   \n",
      "1803        NaN      6.99   28.82         NaN  ...         NaN        NaN   \n",
      "1804        NaN      6.99   28.82         NaN  ...         NaN        NaN   \n",
      "...         ...       ...     ...         ...  ...         ...        ...   \n",
      "2012  2880667.0      2.82   76.20  37439427.0  ...  24882792.0        NaN   \n",
      "2013  2883281.0      2.80   76.30  38186135.0  ...  25533217.0        NaN   \n",
      "2014  2889676.0      2.76   76.30  38934334.0  ...  26183676.0        NaN   \n",
      "2015  2896679.0      2.71   76.40  39666519.0  ...  26832215.0        NaN   \n",
      "2016        NaN       NaN   76.50         NaN  ...         NaN        NaN   \n",
      "\n",
      "        Zambia                      Zimbabwe                          Åland  \\\n",
      "     fertility lifeexp  population fertility lifeexp  population population   \n",
      "1800      6.71    32.6    747000.0      6.75   33.70   1085814.0        NaN   \n",
      "1801      6.71    32.6         NaN      6.75   33.70         NaN        NaN   \n",
      "1802      6.71    32.6         NaN      6.75   33.70         NaN        NaN   \n",
      "1803      6.71    32.6         NaN      6.75   33.70         NaN        NaN   \n",
      "1804      6.71    32.6         NaN      6.75   33.70         NaN        NaN   \n",
      "...        ...     ...         ...       ...     ...         ...        ...   \n",
      "2012      5.73    54.7  14786581.0      3.56   54.20  14565482.0        NaN   \n",
      "2013      5.69    55.6  15246086.0      3.49   55.70  14898092.0        NaN   \n",
      "2014      5.64    56.3  15721343.0      3.41   57.00  15245855.0        NaN   \n",
      "2015      5.59    56.7  16211767.0      3.35   59.30  15602751.0        NaN   \n",
      "2016       NaN    57.1         NaN       NaN   61.69         NaN        NaN   \n",
      "\n",
      "              \n",
      "     lifeexp  \n",
      "1800     NaN  \n",
      "1801     NaN  \n",
      "1802     NaN  \n",
      "1803     NaN  \n",
      "1804     NaN  \n",
      "...      ...  \n",
      "2012     NaN  \n",
      "2013     NaN  \n",
      "2014     NaN  \n",
      "2015     NaN  \n",
      "2016     NaN  \n",
      "\n",
      "[217 rows x 667 columns]\n"
     ]
    }
   ],
   "source": [
    "df4 = df3.unstack((0,2))\n",
    "print(df4)"
   ]
  },
  {
   "cell_type": "code",
   "execution_count": 45,
   "metadata": {},
   "outputs": [],
   "source": [
    "#df4.to_excel('gapminder_check.xlsx')"
   ]
  },
  {
   "cell_type": "code",
   "execution_count": 46,
   "metadata": {},
   "outputs": [
    {
     "data": {
      "text/plain": [
       "<matplotlib.axes._subplots.AxesSubplot at 0x1a26d7b890>"
      ]
     },
     "execution_count": 46,
     "metadata": {},
     "output_type": "execute_result"
    },
    {
     "data": {
      "image/png": "[encoded data removed]",
      "text/plain": [
       "<Figure size 432x288 with 1 Axes>"
      ]
     },
     "metadata": {
      "needs_background": "light"
     },
     "output_type": "display_data"
    }
   ],
   "source": [
    "import pylab as plt\n",
    "df4[['Germany', 'France', 'Sweden']].plot()"
   ]
  },
  {
   "cell_type": "code",
   "execution_count": 47,
   "metadata": {},
   "outputs": [
    {
     "name": "stderr",
     "output_type": "stream",
     "text": [
      "'c' argument looks like a single numeric RGB or RGBA sequence, which should be avoided as value-mapping will have precedence in case its length matches with 'x' & 'y'.  Please use a 2-D array with a single row if you really want to specify the same RGB or RGBA value for all points.\n"
     ]
    },
    {
     "data": {
      "text/plain": [
       "<matplotlib.axes._subplots.AxesSubplot at 0x1a254c2e10>"
      ]
     },
     "execution_count": 47,
     "metadata": {},
     "output_type": "execute_result"
    },
    {
     "data": {
      "image/png": "[encoded data removed]",
      "text/plain": [
       "<Figure size 432x288 with 1 Axes>"
      ]
     },
     "metadata": {
      "needs_background": "light"
     },
     "output_type": "display_data"
    }
   ],
   "source": [
    "df5 = df3.unstack(2)\n",
    "df5.plot.scatter('fertility', 'lifeexp', s=0.1)"
   ]
  },
  {
   "cell_type": "code",
   "execution_count": 79,
   "metadata": {},
   "outputs": [
    {
     "name": "stderr",
     "output_type": "stream",
     "text": [
      "'c' argument looks like a single numeric RGB or RGBA sequence, which should be avoided as value-mapping will have precedence in case its length matches with 'x' & 'y'.  Please use a 2-D array with a single row if you really want to specify the same RGB or RGBA value for all points.\n"
     ]
    },
    {
     "data": {
      "text/plain": [
       "<matplotlib.axes._subplots.AxesSubplot at 0x1a290acc10>"
      ]
     },
     "execution_count": 79,
     "metadata": {},
     "output_type": "execute_result"
    },
    {
     "data": {
      "image/png": "[encoded data removed]",
      "text/plain": [
       "<Figure size 432x288 with 1 Axes>"
      ]
     },
     "metadata": {
      "needs_background": "light"
     },
     "output_type": "display_data"
    }
   ],
   "source": [
    "df6 = df3.unstack(1)\n",
    "df6 = df6[2015]\n",
    "df6 = df6.unstack(1)\n",
    "df6.plot.scatter('fertility', 'lifeexp', s=0.1)"
   ]
  },
  {
   "cell_type": "code",
   "execution_count": 80,
   "metadata": {},
   "outputs": [
    {
     "data": {
      "text/plain": [
       "<matplotlib.axes._subplots.AxesSubplot at 0x1a29228f90>"
      ]
     },
     "execution_count": 80,
     "metadata": {},
     "output_type": "execute_result"
    },
    {
     "data": {
      "image/png": "[encoded data removed]",
      "text/plain": [
       "<Figure size 432x288 with 1 Axes>"
      ]
     },
     "metadata": {
      "needs_background": "light"
     },
     "output_type": "display_data"
    }
   ],
   "source": [
    "cmap = plt.get_cmap('tab20', lut = len(df6)).colors\n",
    "df6.plot.scatter('fertility', 'lifeexp', s=0.1, c=cmap)"
   ]
  },
  {
   "cell_type": "code",
   "execution_count": 91,
   "metadata": {},
   "outputs": [
    {
     "data": {
      "text/plain": [
       "<matplotlib.axes._subplots.AxesSubplot at 0x1a28ff8ed0>"
      ]
     },
     "execution_count": 91,
     "metadata": {},
     "output_type": "execute_result"
    },
    {
     "data": {
      "image/png": "[encoded data removed]",
      "text/plain": [
       "<Figure size 432x288 with 1 Axes>"
      ]
     },
     "metadata": {
      "needs_background": "light"
     },
     "output_type": "display_data"
    }
   ],
   "source": [
    "#change size of marker with s=df2['population']\n",
    "cmap = plt.get_cmap('tab20', lut = len(df6)).colors\n",
    "df6.plot.scatter('fertility', 'lifeexp', s=df2['population']**0.4, c=cmap)"
   ]
  },
  {
   "cell_type": "code",
   "execution_count": 109,
   "metadata": {},
   "outputs": [
    {
     "data": {
      "text/plain": [
       "(1, 8.5, 40, 90)"
      ]
     },
     "execution_count": 109,
     "metadata": {},
     "output_type": "execute_result"
    },
    {
     "data": {
      "image/png": "[encoded data removed]",
      "text/plain": [
       "<Figure size 432x288 with 1 Axes>"
      ]
     },
     "metadata": {
      "needs_background": "light"
     },
     "output_type": "display_data"
    }
   ],
   "source": [
    "cmap = plt.get_cmap('tab20', lut = len(df6)).colors\n",
    "df6.plot.scatter('fertility', 'lifeexp', s=df2['population']**0.4, c=cmap)\n",
    "plt.axis((1,8.5,40,90))"
   ]
  },
  {
   "cell_type": "code",
   "execution_count": 120,
   "metadata": {},
   "outputs": [
    {
     "data": {
      "image/png": "[encoded data removed]",
      "text/plain": [
       "<Figure size 432x288 with 1 Axes>"
      ]
     },
     "metadata": {
      "needs_background": "light"
     },
     "output_type": "display_data"
    }
   ],
   "source": [
    "df7 = df3.unstack(1)\n",
    "df7 = df7[1950]\n",
    "df7 = df7.unstack(1)\n",
    "cmap = plt.get_cmap('tab20', lut = len(gm)).colors\n",
    "df7.plot.scatter('fertility', 'lifeexp', s=df2['population']**0.4, c=cmap)\n",
    "plt.axis((1,8.5,20,90))\n",
    "plt.title('1950')\n",
    "plt.savefig('lifeexp_1950.png', bbox_inches='tight')"
   ]
  },
  {
   "cell_type": "code",
   "execution_count": 135,
   "metadata": {},
   "outputs": [
    {
     "data": {
      "text/plain": [
       "<Figure size 432x288 with 0 Axes>"
      ]
     },
     "metadata": {},
     "output_type": "display_data"
    },
    {
     "data": {
      "text/plain": [
       "<Figure size 432x288 with 0 Axes>"
      ]
     },
     "metadata": {},
     "output_type": "display_data"
    },
    {
     "data": {
      "text/plain": [
       "<Figure size 432x288 with 0 Axes>"
      ]
     },
     "metadata": {},
     "output_type": "display_data"
    },
    {
     "data": {
      "text/plain": [
       "<Figure size 432x288 with 0 Axes>"
      ]
     },
     "metadata": {},
     "output_type": "display_data"
    },
    {
     "data": {
      "text/plain": [
       "<Figure size 432x288 with 0 Axes>"
      ]
     },
     "metadata": {},
     "output_type": "display_data"
    },
    {
     "data": {
      "text/plain": [
       "<Figure size 432x288 with 0 Axes>"
      ]
     },
     "metadata": {},
     "output_type": "display_data"
    },
    {
     "data": {
      "text/plain": [
       "<Figure size 432x288 with 0 Axes>"
      ]
     },
     "metadata": {},
     "output_type": "display_data"
    },
    {
     "data": {
      "text/plain": [
       "<Figure size 432x288 with 0 Axes>"
      ]
     },
     "metadata": {},
     "output_type": "display_data"
    },
    {
     "data": {
      "text/plain": [
       "<Figure size 432x288 with 0 Axes>"
      ]
     },
     "metadata": {},
     "output_type": "display_data"
    },
    {
     "data": {
      "text/plain": [
       "<Figure size 432x288 with 0 Axes>"
      ]
     },
     "metadata": {},
     "output_type": "display_data"
    },
    {
     "data": {
      "text/plain": [
       "<Figure size 432x288 with 0 Axes>"
      ]
     },
     "metadata": {},
     "output_type": "display_data"
    },
    {
     "data": {
      "text/plain": [
       "<Figure size 432x288 with 0 Axes>"
      ]
     },
     "metadata": {},
     "output_type": "display_data"
    },
    {
     "data": {
      "text/plain": [
       "<Figure size 432x288 with 0 Axes>"
      ]
     },
     "metadata": {},
     "output_type": "display_data"
    },
    {
     "data": {
      "text/plain": [
       "<Figure size 432x288 with 0 Axes>"
      ]
     },
     "metadata": {},
     "output_type": "display_data"
    },
    {
     "data": {
      "text/plain": [
       "<Figure size 432x288 with 0 Axes>"
      ]
     },
     "metadata": {},
     "output_type": "display_data"
    },
    {
     "data": {
      "text/plain": [
       "<Figure size 432x288 with 0 Axes>"
      ]
     },
     "metadata": {},
     "output_type": "display_data"
    },
    {
     "data": {
      "text/plain": [
       "<Figure size 432x288 with 0 Axes>"
      ]
     },
     "metadata": {},
     "output_type": "display_data"
    },
    {
     "data": {
      "text/plain": [
       "<Figure size 432x288 with 0 Axes>"
      ]
     },
     "metadata": {},
     "output_type": "display_data"
    },
    {
     "data": {
      "text/plain": [
       "<Figure size 432x288 with 0 Axes>"
      ]
     },
     "metadata": {},
     "output_type": "display_data"
    },
    {
     "data": {
      "text/plain": [
       "<Figure size 432x288 with 0 Axes>"
      ]
     },
     "metadata": {},
     "output_type": "display_data"
    },
    {
     "data": {
      "text/plain": [
       "<Figure size 432x288 with 0 Axes>"
      ]
     },
     "metadata": {},
     "output_type": "display_data"
    },
    {
     "data": {
      "text/plain": [
       "<Figure size 432x288 with 0 Axes>"
      ]
     },
     "metadata": {},
     "output_type": "display_data"
    },
    {
     "data": {
      "text/plain": [
       "<Figure size 432x288 with 0 Axes>"
      ]
     },
     "metadata": {},
     "output_type": "display_data"
    },
    {
     "data": {
      "text/plain": [
       "<Figure size 432x288 with 0 Axes>"
      ]
     },
     "metadata": {},
     "output_type": "display_data"
    },
    {
     "data": {
      "text/plain": [
       "<Figure size 432x288 with 0 Axes>"
      ]
     },
     "metadata": {},
     "output_type": "display_data"
    },
    {
     "data": {
      "text/plain": [
       "<Figure size 432x288 with 0 Axes>"
      ]
     },
     "metadata": {},
     "output_type": "display_data"
    },
    {
     "data": {
      "text/plain": [
       "<Figure size 432x288 with 0 Axes>"
      ]
     },
     "metadata": {},
     "output_type": "display_data"
    },
    {
     "data": {
      "text/plain": [
       "<Figure size 432x288 with 0 Axes>"
      ]
     },
     "metadata": {},
     "output_type": "display_data"
    },
    {
     "data": {
      "text/plain": [
       "<Figure size 432x288 with 0 Axes>"
      ]
     },
     "metadata": {},
     "output_type": "display_data"
    },
    {
     "data": {
      "text/plain": [
       "<Figure size 432x288 with 0 Axes>"
      ]
     },
     "metadata": {},
     "output_type": "display_data"
    },
    {
     "data": {
      "text/plain": [
       "<Figure size 432x288 with 0 Axes>"
      ]
     },
     "metadata": {},
     "output_type": "display_data"
    },
    {
     "data": {
      "text/plain": [
       "<Figure size 432x288 with 0 Axes>"
      ]
     },
     "metadata": {},
     "output_type": "display_data"
    },
    {
     "data": {
      "text/plain": [
       "<Figure size 432x288 with 0 Axes>"
      ]
     },
     "metadata": {},
     "output_type": "display_data"
    },
    {
     "data": {
      "text/plain": [
       "<Figure size 432x288 with 0 Axes>"
      ]
     },
     "metadata": {},
     "output_type": "display_data"
    },
    {
     "data": {
      "text/plain": [
       "<Figure size 432x288 with 0 Axes>"
      ]
     },
     "metadata": {},
     "output_type": "display_data"
    },
    {
     "data": {
      "text/plain": [
       "<Figure size 432x288 with 0 Axes>"
      ]
     },
     "metadata": {},
     "output_type": "display_data"
    },
    {
     "data": {
      "text/plain": [
       "<Figure size 432x288 with 0 Axes>"
      ]
     },
     "metadata": {},
     "output_type": "display_data"
    },
    {
     "data": {
      "text/plain": [
       "<Figure size 432x288 with 0 Axes>"
      ]
     },
     "metadata": {},
     "output_type": "display_data"
    },
    {
     "data": {
      "text/plain": [
       "<Figure size 432x288 with 0 Axes>"
      ]
     },
     "metadata": {},
     "output_type": "display_data"
    },
    {
     "data": {
      "text/plain": [
       "<Figure size 432x288 with 0 Axes>"
      ]
     },
     "metadata": {},
     "output_type": "display_data"
    },
    {
     "data": {
      "text/plain": [
       "<Figure size 432x288 with 0 Axes>"
      ]
     },
     "metadata": {},
     "output_type": "display_data"
    },
    {
     "data": {
      "text/plain": [
       "<Figure size 432x288 with 0 Axes>"
      ]
     },
     "metadata": {},
     "output_type": "display_data"
    },
    {
     "data": {
      "text/plain": [
       "<Figure size 432x288 with 0 Axes>"
      ]
     },
     "metadata": {},
     "output_type": "display_data"
    },
    {
     "data": {
      "text/plain": [
       "<Figure size 432x288 with 0 Axes>"
      ]
     },
     "metadata": {},
     "output_type": "display_data"
    },
    {
     "data": {
      "text/plain": [
       "<Figure size 432x288 with 0 Axes>"
      ]
     },
     "metadata": {},
     "output_type": "display_data"
    },
    {
     "data": {
      "text/plain": [
       "<Figure size 432x288 with 0 Axes>"
      ]
     },
     "metadata": {},
     "output_type": "display_data"
    },
    {
     "data": {
      "text/plain": [
       "<Figure size 432x288 with 0 Axes>"
      ]
     },
     "metadata": {},
     "output_type": "display_data"
    },
    {
     "data": {
      "text/plain": [
       "<Figure size 432x288 with 0 Axes>"
      ]
     },
     "metadata": {},
     "output_type": "display_data"
    },
    {
     "data": {
      "text/plain": [
       "<Figure size 432x288 with 0 Axes>"
      ]
     },
     "metadata": {},
     "output_type": "display_data"
    },
    {
     "data": {
      "text/plain": [
       "<Figure size 432x288 with 0 Axes>"
      ]
     },
     "metadata": {},
     "output_type": "display_data"
    },
    {
     "data": {
      "text/plain": [
       "<Figure size 432x288 with 0 Axes>"
      ]
     },
     "metadata": {},
     "output_type": "display_data"
    },
    {
     "data": {
      "text/plain": [
       "<Figure size 432x288 with 0 Axes>"
      ]
     },
     "metadata": {},
     "output_type": "display_data"
    },
    {
     "data": {
      "text/plain": [
       "<Figure size 432x288 with 0 Axes>"
      ]
     },
     "metadata": {},
     "output_type": "display_data"
    },
    {
     "data": {
      "text/plain": [
       "<Figure size 432x288 with 0 Axes>"
      ]
     },
     "metadata": {},
     "output_type": "display_data"
    },
    {
     "data": {
      "text/plain": [
       "<Figure size 432x288 with 0 Axes>"
      ]
     },
     "metadata": {},
     "output_type": "display_data"
    },
    {
     "data": {
      "text/plain": [
       "<Figure size 432x288 with 0 Axes>"
      ]
     },
     "metadata": {},
     "output_type": "display_data"
    }
   ],
   "source": [
    "gm = df3.unstack(1)\n",
    "for i in range (1960, 2016):\n",
    "    gm1 = gm[i]\n",
    "    gm1 = gm1.unstack(1)\n",
    "    cmap = plt.get_cmap('tab20', lut = len(gm1)).colors\n",
    "    gm1.plot.scatter('fertility', 'lifeexp', s=df2['population']**0.4, c=cmap)\n",
    "    plt.axis((1,8.5,20,90))\n",
    "    plt.title(f'{i}')\n",
    "    plt.savefig(f'scatter_images/lifeexp_{i}.png', bbox_inches='tight')\n",
    "    plt.clf()\n"
   ]
  },
  {
   "cell_type": "code",
   "execution_count": 136,
   "metadata": {},
   "outputs": [],
   "source": [
    "import imageio\n",
    "\n",
    "images = []\n",
    "\n",
    "for i in range(1960, 2016):\n",
    "    filename = 'scatter_images/lifeexp_{}.png'.format(i)\n",
    "    images.append(imageio.imread(filename))\n",
    "\n",
    "imageio.mimsave('output_gapminder.gif', images, fps=20)"
   ]
  },
  {
   "cell_type": "code",
   "execution_count": null,
   "metadata": {},
   "outputs": [],
   "source": []
  }
 ],
 "metadata": {
  "kernelspec": {
   "display_name": "Python 3",
   "language": "python",
   "name": "python3"
  },
  "language_info": {
   "codemirror_mode": {
    "name": "ipython",
    "version": 3
   },
   "file_extension": ".py",
   "mimetype": "text/x-python",
   "name": "python",
   "nbconvert_exporter": "python",
   "pygments_lexer": "ipython3",
   "version": "3.7.6"
  }
 },
 "nbformat": 4,
 "nbformat_minor": 4
}

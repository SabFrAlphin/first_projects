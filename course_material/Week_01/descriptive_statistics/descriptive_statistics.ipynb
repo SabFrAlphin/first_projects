{
 "cells": [
  {
   "cell_type": "markdown",
   "metadata": {},
   "source": [
    "# Descriptive Statistics\n",
    "---\n"
   ]
  },
  {
   "cell_type": "markdown",
   "metadata": {},
   "source": [
    "![descriptive_statistics_img](http://phhp-faculty-cantrell.sites.medinfo.ufl.edu/files/2012/07/mod10-big_picture_inference.gif)"
   ]
  },
  {
   "cell_type": "markdown",
   "metadata": {},
   "source": [
    "# Part 1: Definitions"
   ]
  },
  {
   "cell_type": "markdown",
   "metadata": {},
   "source": [
    "---"
   ]
  },
  {
   "cell_type": "markdown",
   "metadata": {},
   "source": [
    "## Statistics\n",
    "\n",
    "Statistics is a set of methods and measures that deal with collecting, cleaning and analyzing a dataset and making quantitative statements about the population."
   ]
  },
  {
   "cell_type": "markdown",
   "metadata": {},
   "source": [
    "#### Population\n",
    "\n",
    "A population is a group of \"all individuals, objects, or measurements whose properties are being studied\" - https://openstax.org/books/introductory-statistics/pages/1-key-terms\n",
    "\n",
    "#### Sample\n",
    "\n",
    "A sample is a subset of the population. Preferrably it is a random subset.\n",
    "\n",
    "#### Variable\n",
    "\n",
    "\"A characteristic of interest for each person or object in a population\" - https://openstax.org/books/introductory-statistics/pages/1-key-terms\n",
    "\n",
    "#### Random Variable\n",
    "\n",
    "A variable whose value is determined by a random process.\n",
    "\n",
    "#### Descriptive Statistics\n",
    "\n",
    "- A set of methods and measures to describe a dataset.\n",
    "\n",
    "- There is no uncertainty in descriptive statistics! It is not based on any theory of probability.\n",
    "\n",
    "Before we dive into the most widely used measures, let's have a look at the type of variables that we encounter in datasets.\n",
    "\n",
    "---"
   ]
  },
  {
   "cell_type": "markdown",
   "metadata": {},
   "source": [
    "<img src=\"https://i.stack.imgur.com/3QemG.gif\" alt=\"variables_breakdown_image\" style=\"width:400px;\"/>"
   ]
  },
  {
   "cell_type": "markdown",
   "metadata": {},
   "source": [
    "---\n",
    "\n",
    "## Categorical Variables\n",
    "\n",
    "- **Nominal Variables**\n",
    "\n",
    "    The values of nominal variables do not have a natural ordering (i.e. no ordinal relationship). \n",
    "    \n",
    "    Examples:\n",
    "    \n",
    "    - `[\"Republican\", \"Democrat\", \"Independent\"]`\n",
    "    - `[\"Maryland\", \"New Jersey\"]`\n",
    "    \n",
    "\n",
    "- **Ordinal Variables**\n",
    "\n",
    "    The values of ordinal variables have a natural ordering. However, the difference between the values is not measurable.\n",
    "    \n",
    "    Examples:\n",
    "    \n",
    "    - `[\"Bad\", \"OK\", \"Good\", \"Very Good\"]`\n",
    "    - `[\"Economy\", \"Business Class\", \"First Class\"]`\n",
    "\n",
    "## Numeric Variables\n",
    "\n",
    "   The values of metric variables have a natural ordering and the distance between two values is measurable. It is sensible to add, subtract, or take averages with these values.\n",
    "\n",
    "- **Discrete Variables**\n",
    "\n",
    "    The values of a discrete variable are countable. They assume a finite number of isolated values in discrete intervals. Values are usually obtained by counting.\n",
    "    \n",
    "    Examples:\n",
    "    \n",
    "    - `Number of books ordered each day`\n",
    "    - `Count of cases of the flu`\n",
    "\n",
    "\n",
    "- **Continuous Variables**\n",
    "\n",
    "    The values of a continuous variable are uncountable. They assume an infinite number of different values. Values are usually obtained by measuring.\n",
    "    \n",
    "    Examples:\n",
    "    \n",
    "    - `Unemployment rate`\n",
    "    - `Mass of object`\n",
    "    \n",
    "---"
   ]
  },
  {
   "cell_type": "code",
   "execution_count": 1,
   "metadata": {},
   "outputs": [],
   "source": [
    "# ! pip install scipy"
   ]
  },
  {
   "cell_type": "code",
   "execution_count": 2,
   "metadata": {},
   "outputs": [
    {
     "data": {
      "text/html": [
       "<div>\n",
       "<style scoped>\n",
       "    .dataframe tbody tr th:only-of-type {\n",
       "        vertical-align: middle;\n",
       "    }\n",
       "\n",
       "    .dataframe tbody tr th {\n",
       "        vertical-align: top;\n",
       "    }\n",
       "\n",
       "    .dataframe thead th {\n",
       "        text-align: right;\n",
       "    }\n",
       "</style>\n",
       "<table border=\"1\" class=\"dataframe\">\n",
       "  <thead>\n",
       "    <tr style=\"text-align: right;\">\n",
       "      <th></th>\n",
       "      <th>Name</th>\n",
       "      <th>Type 1</th>\n",
       "      <th>Type 2</th>\n",
       "      <th>Total</th>\n",
       "      <th>HP</th>\n",
       "      <th>Attack</th>\n",
       "      <th>Defense</th>\n",
       "      <th>Sp. Atk</th>\n",
       "      <th>Sp. Def</th>\n",
       "      <th>Speed</th>\n",
       "      <th>Generation</th>\n",
       "      <th>Legendary</th>\n",
       "    </tr>\n",
       "    <tr>\n",
       "      <th>#</th>\n",
       "      <th></th>\n",
       "      <th></th>\n",
       "      <th></th>\n",
       "      <th></th>\n",
       "      <th></th>\n",
       "      <th></th>\n",
       "      <th></th>\n",
       "      <th></th>\n",
       "      <th></th>\n",
       "      <th></th>\n",
       "      <th></th>\n",
       "      <th></th>\n",
       "    </tr>\n",
       "  </thead>\n",
       "  <tbody>\n",
       "    <tr>\n",
       "      <th>1</th>\n",
       "      <td>Bulbasaur</td>\n",
       "      <td>Grass</td>\n",
       "      <td>Poison</td>\n",
       "      <td>318</td>\n",
       "      <td>45</td>\n",
       "      <td>49</td>\n",
       "      <td>49</td>\n",
       "      <td>65</td>\n",
       "      <td>65</td>\n",
       "      <td>45</td>\n",
       "      <td>1</td>\n",
       "      <td>False</td>\n",
       "    </tr>\n",
       "    <tr>\n",
       "      <th>2</th>\n",
       "      <td>Ivysaur</td>\n",
       "      <td>Grass</td>\n",
       "      <td>Poison</td>\n",
       "      <td>405</td>\n",
       "      <td>60</td>\n",
       "      <td>62</td>\n",
       "      <td>63</td>\n",
       "      <td>80</td>\n",
       "      <td>80</td>\n",
       "      <td>60</td>\n",
       "      <td>1</td>\n",
       "      <td>False</td>\n",
       "    </tr>\n",
       "    <tr>\n",
       "      <th>3</th>\n",
       "      <td>Venusaur</td>\n",
       "      <td>Grass</td>\n",
       "      <td>Poison</td>\n",
       "      <td>525</td>\n",
       "      <td>80</td>\n",
       "      <td>82</td>\n",
       "      <td>83</td>\n",
       "      <td>100</td>\n",
       "      <td>100</td>\n",
       "      <td>80</td>\n",
       "      <td>1</td>\n",
       "      <td>False</td>\n",
       "    </tr>\n",
       "    <tr>\n",
       "      <th>3</th>\n",
       "      <td>VenusaurMega Venusaur</td>\n",
       "      <td>Grass</td>\n",
       "      <td>Poison</td>\n",
       "      <td>625</td>\n",
       "      <td>80</td>\n",
       "      <td>100</td>\n",
       "      <td>123</td>\n",
       "      <td>122</td>\n",
       "      <td>120</td>\n",
       "      <td>80</td>\n",
       "      <td>1</td>\n",
       "      <td>False</td>\n",
       "    </tr>\n",
       "    <tr>\n",
       "      <th>4</th>\n",
       "      <td>Charmander</td>\n",
       "      <td>Fire</td>\n",
       "      <td>NaN</td>\n",
       "      <td>309</td>\n",
       "      <td>39</td>\n",
       "      <td>52</td>\n",
       "      <td>43</td>\n",
       "      <td>60</td>\n",
       "      <td>50</td>\n",
       "      <td>65</td>\n",
       "      <td>1</td>\n",
       "      <td>False</td>\n",
       "    </tr>\n",
<<<<<<< HEAD
       "    <tr>\n",
       "      <th>...</th>\n",
       "      <td>...</td>\n",
       "      <td>...</td>\n",
       "      <td>...</td>\n",
       "      <td>...</td>\n",
       "      <td>...</td>\n",
       "      <td>...</td>\n",
       "      <td>...</td>\n",
       "      <td>...</td>\n",
       "      <td>...</td>\n",
       "      <td>...</td>\n",
       "      <td>...</td>\n",
       "      <td>...</td>\n",
       "    </tr>\n",
       "    <tr>\n",
       "      <th>719</th>\n",
       "      <td>Diancie</td>\n",
       "      <td>Rock</td>\n",
       "      <td>Fairy</td>\n",
       "      <td>600</td>\n",
       "      <td>50</td>\n",
       "      <td>100</td>\n",
       "      <td>150</td>\n",
       "      <td>100</td>\n",
       "      <td>150</td>\n",
       "      <td>50</td>\n",
       "      <td>6</td>\n",
       "      <td>True</td>\n",
       "    </tr>\n",
       "    <tr>\n",
       "      <th>719</th>\n",
       "      <td>DiancieMega Diancie</td>\n",
       "      <td>Rock</td>\n",
       "      <td>Fairy</td>\n",
       "      <td>700</td>\n",
       "      <td>50</td>\n",
       "      <td>160</td>\n",
       "      <td>110</td>\n",
       "      <td>160</td>\n",
       "      <td>110</td>\n",
       "      <td>110</td>\n",
       "      <td>6</td>\n",
       "      <td>True</td>\n",
       "    </tr>\n",
       "    <tr>\n",
       "      <th>720</th>\n",
       "      <td>HoopaHoopa Confined</td>\n",
       "      <td>Psychic</td>\n",
       "      <td>Ghost</td>\n",
       "      <td>600</td>\n",
       "      <td>80</td>\n",
       "      <td>110</td>\n",
       "      <td>60</td>\n",
       "      <td>150</td>\n",
       "      <td>130</td>\n",
       "      <td>70</td>\n",
       "      <td>6</td>\n",
       "      <td>True</td>\n",
       "    </tr>\n",
       "    <tr>\n",
       "      <th>720</th>\n",
       "      <td>HoopaHoopa Unbound</td>\n",
       "      <td>Psychic</td>\n",
       "      <td>Dark</td>\n",
       "      <td>680</td>\n",
       "      <td>80</td>\n",
       "      <td>160</td>\n",
       "      <td>60</td>\n",
       "      <td>170</td>\n",
       "      <td>130</td>\n",
       "      <td>80</td>\n",
       "      <td>6</td>\n",
       "      <td>True</td>\n",
       "    </tr>\n",
       "    <tr>\n",
       "      <th>721</th>\n",
       "      <td>Volcanion</td>\n",
       "      <td>Fire</td>\n",
       "      <td>Water</td>\n",
       "      <td>600</td>\n",
       "      <td>80</td>\n",
       "      <td>110</td>\n",
       "      <td>120</td>\n",
       "      <td>130</td>\n",
       "      <td>90</td>\n",
       "      <td>70</td>\n",
       "      <td>6</td>\n",
       "      <td>True</td>\n",
       "    </tr>\n",
       "  </tbody>\n",
       "</table>\n",
       "<p>800 rows × 12 columns</p>\n",
       "</div>"
      ],
      "text/plain": [
       "                      Name   Type 1  Type 2  Total  HP  Attack  Defense  \\\n",
       "#                                                                         \n",
       "1                Bulbasaur    Grass  Poison    318  45      49       49   \n",
       "2                  Ivysaur    Grass  Poison    405  60      62       63   \n",
       "3                 Venusaur    Grass  Poison    525  80      82       83   \n",
       "3    VenusaurMega Venusaur    Grass  Poison    625  80     100      123   \n",
       "4               Charmander     Fire     NaN    309  39      52       43   \n",
       "..                     ...      ...     ...    ...  ..     ...      ...   \n",
       "719                Diancie     Rock   Fairy    600  50     100      150   \n",
       "719    DiancieMega Diancie     Rock   Fairy    700  50     160      110   \n",
       "720    HoopaHoopa Confined  Psychic   Ghost    600  80     110       60   \n",
       "720     HoopaHoopa Unbound  Psychic    Dark    680  80     160       60   \n",
       "721              Volcanion     Fire   Water    600  80     110      120   \n",
       "\n",
       "     Sp. Atk  Sp. Def  Speed  Generation  Legendary  \n",
       "#                                                    \n",
       "1         65       65     45           1      False  \n",
       "2         80       80     60           1      False  \n",
       "3        100      100     80           1      False  \n",
       "3        122      120     80           1      False  \n",
       "4         60       50     65           1      False  \n",
       "..       ...      ...    ...         ...        ...  \n",
       "719      100      150     50           6       True  \n",
       "719      160      110    110           6       True  \n",
       "720      150      130     70           6       True  \n",
       "720      170      130     80           6       True  \n",
       "721      130       90     70           6       True  \n",
       "\n",
       "[800 rows x 12 columns]"
=======
       "  </tbody>\n",
       "</table>\n",
       "</div>"
      ],
      "text/plain": [
       "                    Name Type 1  Type 2  Total  HP  Attack  Defense  Sp. Atk  \\\n",
       "#                                                                              \n",
       "1              Bulbasaur  Grass  Poison    318  45      49       49       65   \n",
       "2                Ivysaur  Grass  Poison    405  60      62       63       80   \n",
       "3               Venusaur  Grass  Poison    525  80      82       83      100   \n",
       "3  VenusaurMega Venusaur  Grass  Poison    625  80     100      123      122   \n",
       "4             Charmander   Fire     NaN    309  39      52       43       60   \n",
       "\n",
       "   Sp. Def  Speed  Generation  Legendary  \n",
       "#                                         \n",
       "1       65     45           1      False  \n",
       "2       80     60           1      False  \n",
       "3      100     80           1      False  \n",
       "3      120     80           1      False  \n",
       "4       50     65           1      False  "
>>>>>>> 1928928ee12d7a943ac403fce66d694e769ed130
      ]
     },
     "execution_count": 2,
     "metadata": {},
     "output_type": "execute_result"
    }
   ],
   "source": [
    "# import the necessary libraries\n",
    "import pandas as pd\n",
    "import matplotlib.pyplot as plt\n",
    "from scipy import stats\n",
    "import numpy as np\n",
    "%matplotlib inline\n",
    "\n",
    "df = pd.read_csv('pokemon.csv', index_col=0)\n",
    "df"
   ]
  },
  {
   "cell_type": "markdown",
   "metadata": {},
   "source": [
    "### What types of variables do we have here in the Pokemon data set?"
   ]
  },
  {
   "cell_type": "code",
   "execution_count": 3,
   "metadata": {},
   "outputs": [
    {
     "data": {
      "text/plain": [
       "Index(['Name', 'Type 1', 'Type 2', 'Total', 'HP', 'Attack', 'Defense',\n",
       "       'Sp. Atk', 'Sp. Def', 'Speed', 'Generation', 'Legendary'],\n",
       "      dtype='object')"
      ]
     },
     "execution_count": 3,
     "metadata": {},
     "output_type": "execute_result"
    }
   ],
   "source": [
    "#View variables / columns / features\n",
    "df.columns"
   ]
  },
  {
   "cell_type": "code",
   "execution_count": 4,
   "metadata": {},
   "outputs": [],
   "source": [
    "# #Name --> Nominal\n",
    "# #Type 1 --> Nominal\n",
    "# #Type 2 --> Nominal\n",
    "# #Total ---> Discrete \n",
    "# .\n",
    "# .\n",
    "# .\n",
    "# #Generation ---> Ordinal\n",
    "# #Legendary ---> Categorical - Binary (special case)"
   ]
  },
  {
   "cell_type": "markdown",
   "metadata": {},
   "source": [
    "---"
   ]
  },
  {
   "cell_type": "markdown",
   "metadata": {},
   "source": [
    "# Part 2: Describing statistics of our Variables"
   ]
  },
  {
   "cell_type": "markdown",
   "metadata": {},
   "source": [
    "---\n",
    "## 2a. Measures of Central Tendency/Location\n",
    "\n",
    "Measures of central tendency are concerned with the question what a typical value of the variable is.\n",
    "\n",
    "---\n",
    "#### 1. Mean\n",
    "\n",
    "- Arithmetic mean: \n",
    "$\\frac{\\sum_{i=1}^n x_i}{n}$\n",
    "\n",
    "\n",
    "- Geometric mean\n",
    "$\\sqrt[n]{\\prod_{i=1}^n x_i}$\n",
    "\n",
    "\n",
    "- Weighted arithmetic mean\n",
    "$\\frac{w_1*x_1 + w_2*x_2 + ... + w_n*x_n}{n}$\n",
    "\n",
    "Where $w_i$ is the weight assigned to the $i_{th}$ observation of x.\n",
    "\n",
    "**Why do we concern ourselves with different concepts of the mean?**\n",
    "- [On Average, You're Using the Wrong Average (Towards Data Science Article)](\n",
    "https://towardsdatascience.com/on-average-youre-using-the-wrong-average-geometric-harmonic-means-in-data-analysis-2a703e21ea0)\n",
    "\n",
    "#### 2. Median\n",
    "\n",
    "The value that divides the sample into two groups of equal size. The probability of observing a value larger than the median and the probability of observing a value smaller than the median in the sample are 50% each.\n",
    "\n",
    "#### 3. Mode\n",
    "\n",
    "The Mode of a variable is the value that occurs most often in the dataset.\n",
    "\n",
    "\n",
    "---\n",
    "   \n",
    "   \n",
    "**Why do we concern ourselves with different concepts of centrality?**\n",
    "\n",
    "http://krspiced.pythonanywhere.com/chapters/appendix/ethics_in_data_science/statistical_pitfalls/README.html\n",
    "\n",
    "If the distribution is symmetrical, the measures of central tendency are equal."
   ]
  },
  {
   "cell_type": "markdown",
   "metadata": {},
   "source": [
    "---\n",
    "## 2b. Measures of Dispersion (or Variability)\n",
    "\n",
    "Measures of dispersion are concerned with the question: \n",
    "- \"How far do the values of the variable diverge from the measure of central tendency?\"\n",
    "\n",
    "---\n",
    "\n",
    "#### 1. Median Average Deviation (MAD)\n",
    "\n",
    "median($|x_i - \\bar{x}|$)\n",
    "\n",
    "#### 2. Variance\n",
    "\n",
    "- $\\frac{\\sum_{i=1}^n (x_i - \\overline{x})^2}{n}$\n",
    "- The variance is the average squared distance from the mean. \n",
    "\n",
    "#### 3. Standard Deviation\n",
    "\n",
    "- $\\sqrt{Variance}$\n",
    "- The standard deviation is the square root of the variance. \n",
    "- Useful when considering how far the data are distributed from the mean.\n",
    "- The standard deviation represents the typical deviation of observations from the mean. *Usually* approx. 70% of the data will be within one standard deviation of the mean and about 95% will be within two standard deviations (though these are not strict rules). \n",
    "\n",
    "#### 4. Quantile\n",
    "\n",
    "- A generalization of the concept of the median. The q-Quantile of the variable are those values that divide the sample into q groups of equal size. One commonly used Quantile is the 4-Quantile or Quartile, which divides the sample into 4 groups of equal size.\n",
    "\n",
    "- Other commonly used Quantiles are Quintiles (5-Quantiles) and Percentiles (100-Quantiles).\n",
    "\n",
    "#### 5. Minimum, Maximum, Range\n",
    "- $Range = Maximum - Minimum$\n",
    "\n",
    "\n",
    "#### 6. Inter-Quartile-Range (IQR)\n",
    "\n",
    "- $Q_{0.75} - Q_{0.25}$\n",
    "\n",
    "#### 7. Boxplots\n",
    "\n",
    "- A visual representation of the variability."
   ]
  },
  {
   "cell_type": "markdown",
   "metadata": {},
   "source": [
    "---\n",
    "\n",
    "## 2c. Measures of Symmetry and Curvature\n",
    "\n",
    "---\n",
    "\n",
    "#### Skewness\n",
    "\n",
    "$\\frac{1}{n}*\\frac{\\sum_{i=1}^n (x_i - \\overline{x})^3}{Variance^{3/2}}$\n",
    "\n",
    "#### Kurtosis\n",
    "\n",
    "$\\frac{1}{n}*\\frac{\\sum_{i=1}^n (x_i - \\overline{x})^4}{Variance^2}$"
   ]
  },
  {
   "cell_type": "markdown",
   "metadata": {},
   "source": [
    "---\n",
    "\n",
    "# Part 3. Exercise\n",
    "\n",
    "---"
   ]
  },
  {
   "cell_type": "markdown",
   "metadata": {},
   "source": [
    "#### Exercise: Find functions in pandas, scipy or numpy that allow you to calculate the measures"
   ]
  },
  {
   "cell_type": "code",
   "execution_count": 5,
<<<<<<< HEAD
=======
   "metadata": {},
   "outputs": [
    {
     "data": {
      "text/html": [
       "<div>\n",
       "<style scoped>\n",
       "    .dataframe tbody tr th:only-of-type {\n",
       "        vertical-align: middle;\n",
       "    }\n",
       "\n",
       "    .dataframe tbody tr th {\n",
       "        vertical-align: top;\n",
       "    }\n",
       "\n",
       "    .dataframe thead th {\n",
       "        text-align: right;\n",
       "    }\n",
       "</style>\n",
       "<table border=\"1\" class=\"dataframe\">\n",
       "  <thead>\n",
       "    <tr style=\"text-align: right;\">\n",
       "      <th></th>\n",
       "      <th>Name</th>\n",
       "      <th>Type 1</th>\n",
       "      <th>Type 2</th>\n",
       "      <th>Total</th>\n",
       "      <th>HP</th>\n",
       "      <th>Attack</th>\n",
       "      <th>Defense</th>\n",
       "      <th>Sp. Atk</th>\n",
       "      <th>Sp. Def</th>\n",
       "      <th>Speed</th>\n",
       "      <th>Generation</th>\n",
       "      <th>Legendary</th>\n",
       "    </tr>\n",
       "    <tr>\n",
       "      <th>#</th>\n",
       "      <th></th>\n",
       "      <th></th>\n",
       "      <th></th>\n",
       "      <th></th>\n",
       "      <th></th>\n",
       "      <th></th>\n",
       "      <th></th>\n",
       "      <th></th>\n",
       "      <th></th>\n",
       "      <th></th>\n",
       "      <th></th>\n",
       "      <th></th>\n",
       "    </tr>\n",
       "  </thead>\n",
       "  <tbody>\n",
       "    <tr>\n",
       "      <th>1</th>\n",
       "      <td>Bulbasaur</td>\n",
       "      <td>Grass</td>\n",
       "      <td>Poison</td>\n",
       "      <td>318</td>\n",
       "      <td>45</td>\n",
       "      <td>49</td>\n",
       "      <td>49</td>\n",
       "      <td>65</td>\n",
       "      <td>65</td>\n",
       "      <td>45</td>\n",
       "      <td>1</td>\n",
       "      <td>False</td>\n",
       "    </tr>\n",
       "    <tr>\n",
       "      <th>2</th>\n",
       "      <td>Ivysaur</td>\n",
       "      <td>Grass</td>\n",
       "      <td>Poison</td>\n",
       "      <td>405</td>\n",
       "      <td>60</td>\n",
       "      <td>62</td>\n",
       "      <td>63</td>\n",
       "      <td>80</td>\n",
       "      <td>80</td>\n",
       "      <td>60</td>\n",
       "      <td>1</td>\n",
       "      <td>False</td>\n",
       "    </tr>\n",
       "    <tr>\n",
       "      <th>3</th>\n",
       "      <td>Venusaur</td>\n",
       "      <td>Grass</td>\n",
       "      <td>Poison</td>\n",
       "      <td>525</td>\n",
       "      <td>80</td>\n",
       "      <td>82</td>\n",
       "      <td>83</td>\n",
       "      <td>100</td>\n",
       "      <td>100</td>\n",
       "      <td>80</td>\n",
       "      <td>1</td>\n",
       "      <td>False</td>\n",
       "    </tr>\n",
       "    <tr>\n",
       "      <th>3</th>\n",
       "      <td>VenusaurMega Venusaur</td>\n",
       "      <td>Grass</td>\n",
       "      <td>Poison</td>\n",
       "      <td>625</td>\n",
       "      <td>80</td>\n",
       "      <td>100</td>\n",
       "      <td>123</td>\n",
       "      <td>122</td>\n",
       "      <td>120</td>\n",
       "      <td>80</td>\n",
       "      <td>1</td>\n",
       "      <td>False</td>\n",
       "    </tr>\n",
       "    <tr>\n",
       "      <th>4</th>\n",
       "      <td>Charmander</td>\n",
       "      <td>Fire</td>\n",
       "      <td>NaN</td>\n",
       "      <td>309</td>\n",
       "      <td>39</td>\n",
       "      <td>52</td>\n",
       "      <td>43</td>\n",
       "      <td>60</td>\n",
       "      <td>50</td>\n",
       "      <td>65</td>\n",
       "      <td>1</td>\n",
       "      <td>False</td>\n",
       "    </tr>\n",
       "    <tr>\n",
       "      <th>...</th>\n",
       "      <td>...</td>\n",
       "      <td>...</td>\n",
       "      <td>...</td>\n",
       "      <td>...</td>\n",
       "      <td>...</td>\n",
       "      <td>...</td>\n",
       "      <td>...</td>\n",
       "      <td>...</td>\n",
       "      <td>...</td>\n",
       "      <td>...</td>\n",
       "      <td>...</td>\n",
       "      <td>...</td>\n",
       "    </tr>\n",
       "    <tr>\n",
       "      <th>719</th>\n",
       "      <td>Diancie</td>\n",
       "      <td>Rock</td>\n",
       "      <td>Fairy</td>\n",
       "      <td>600</td>\n",
       "      <td>50</td>\n",
       "      <td>100</td>\n",
       "      <td>150</td>\n",
       "      <td>100</td>\n",
       "      <td>150</td>\n",
       "      <td>50</td>\n",
       "      <td>6</td>\n",
       "      <td>True</td>\n",
       "    </tr>\n",
       "    <tr>\n",
       "      <th>719</th>\n",
       "      <td>DiancieMega Diancie</td>\n",
       "      <td>Rock</td>\n",
       "      <td>Fairy</td>\n",
       "      <td>700</td>\n",
       "      <td>50</td>\n",
       "      <td>160</td>\n",
       "      <td>110</td>\n",
       "      <td>160</td>\n",
       "      <td>110</td>\n",
       "      <td>110</td>\n",
       "      <td>6</td>\n",
       "      <td>True</td>\n",
       "    </tr>\n",
       "    <tr>\n",
       "      <th>720</th>\n",
       "      <td>HoopaHoopa Confined</td>\n",
       "      <td>Psychic</td>\n",
       "      <td>Ghost</td>\n",
       "      <td>600</td>\n",
       "      <td>80</td>\n",
       "      <td>110</td>\n",
       "      <td>60</td>\n",
       "      <td>150</td>\n",
       "      <td>130</td>\n",
       "      <td>70</td>\n",
       "      <td>6</td>\n",
       "      <td>True</td>\n",
       "    </tr>\n",
       "    <tr>\n",
       "      <th>720</th>\n",
       "      <td>HoopaHoopa Unbound</td>\n",
       "      <td>Psychic</td>\n",
       "      <td>Dark</td>\n",
       "      <td>680</td>\n",
       "      <td>80</td>\n",
       "      <td>160</td>\n",
       "      <td>60</td>\n",
       "      <td>170</td>\n",
       "      <td>130</td>\n",
       "      <td>80</td>\n",
       "      <td>6</td>\n",
       "      <td>True</td>\n",
       "    </tr>\n",
       "    <tr>\n",
       "      <th>721</th>\n",
       "      <td>Volcanion</td>\n",
       "      <td>Fire</td>\n",
       "      <td>Water</td>\n",
       "      <td>600</td>\n",
       "      <td>80</td>\n",
       "      <td>110</td>\n",
       "      <td>120</td>\n",
       "      <td>130</td>\n",
       "      <td>90</td>\n",
       "      <td>70</td>\n",
       "      <td>6</td>\n",
       "      <td>True</td>\n",
       "    </tr>\n",
       "  </tbody>\n",
       "</table>\n",
       "<p>800 rows × 12 columns</p>\n",
       "</div>"
      ],
      "text/plain": [
       "                      Name   Type 1  Type 2  Total  HP  Attack  Defense  \\\n",
       "#                                                                         \n",
       "1                Bulbasaur    Grass  Poison    318  45      49       49   \n",
       "2                  Ivysaur    Grass  Poison    405  60      62       63   \n",
       "3                 Venusaur    Grass  Poison    525  80      82       83   \n",
       "3    VenusaurMega Venusaur    Grass  Poison    625  80     100      123   \n",
       "4               Charmander     Fire     NaN    309  39      52       43   \n",
       "..                     ...      ...     ...    ...  ..     ...      ...   \n",
       "719                Diancie     Rock   Fairy    600  50     100      150   \n",
       "719    DiancieMega Diancie     Rock   Fairy    700  50     160      110   \n",
       "720    HoopaHoopa Confined  Psychic   Ghost    600  80     110       60   \n",
       "720     HoopaHoopa Unbound  Psychic    Dark    680  80     160       60   \n",
       "721              Volcanion     Fire   Water    600  80     110      120   \n",
       "\n",
       "     Sp. Atk  Sp. Def  Speed  Generation  Legendary  \n",
       "#                                                    \n",
       "1         65       65     45           1      False  \n",
       "2         80       80     60           1      False  \n",
       "3        100      100     80           1      False  \n",
       "3        122      120     80           1      False  \n",
       "4         60       50     65           1      False  \n",
       "..       ...      ...    ...         ...        ...  \n",
       "719      100      150     50           6       True  \n",
       "719      160      110    110           6       True  \n",
       "720      150      130     70           6       True  \n",
       "720      170      130     80           6       True  \n",
       "721      130       90     70           6       True  \n",
       "\n",
       "[800 rows x 12 columns]"
      ]
     },
     "execution_count": 5,
     "metadata": {},
     "output_type": "execute_result"
    }
   ],
   "source": [
    "df"
   ]
  },
  {
   "cell_type": "code",
   "execution_count": 6,
>>>>>>> 1928928ee12d7a943ac403fce66d694e769ed130
   "metadata": {},
   "outputs": [
    {
     "data": {
      "text/plain": [
       "Total         435.10250\n",
       "HP             69.25875\n",
       "Attack         79.00125\n",
       "Defense        73.84250\n",
       "Sp. Atk        72.82000\n",
       "Sp. Def        71.90250\n",
       "Speed          68.27750\n",
       "Generation      3.32375\n",
       "Legendary       0.08125\n",
       "dtype: float64"
      ]
     },
     "execution_count": 5,
     "metadata": {},
     "output_type": "execute_result"
    }
   ],
   "source": [
    "# Measures of central tendency\n",
    "import pandas as pd\n",
    "\n",
<<<<<<< HEAD
    "## arithmetic mean\n",
    "\n",
    "df.mean()"
   ]
  },
  {
   "cell_type": "code",
   "execution_count": 6,
   "metadata": {},
   "outputs": [
    {
     "data": {
      "text/plain": [
       "Total         450.0\n",
       "HP             65.0\n",
       "Attack         75.0\n",
       "Defense        70.0\n",
       "Sp. Atk        65.0\n",
       "Sp. Def        70.0\n",
       "Speed          65.0\n",
       "Generation      3.0\n",
       "Legendary       0.0\n",
       "dtype: float64"
      ]
     },
     "execution_count": 6,
     "metadata": {},
     "output_type": "execute_result"
    }
   ],
   "source": [
    "## median\n",
    "\n",
    "df.median()"
=======
    "## arithmetic mean"
>>>>>>> 1928928ee12d7a943ac403fce66d694e769ed130
   ]
  },
  {
   "cell_type": "code",
<<<<<<< HEAD
=======
   "execution_count": 7,
   "metadata": {},
   "outputs": [
    {
     "data": {
      "text/plain": [
       "Total         435.10250\n",
       "HP             69.25875\n",
       "Attack         79.00125\n",
       "Defense        73.84250\n",
       "Sp. Atk        72.82000\n",
       "Sp. Def        71.90250\n",
       "Speed          68.27750\n",
       "Generation      3.32375\n",
       "Legendary       0.08125\n",
       "dtype: float64"
      ]
     },
     "execution_count": 7,
     "metadata": {},
     "output_type": "execute_result"
    }
   ],
   "source": [
    "df.mean()"
   ]
  },
  {
   "cell_type": "code",
>>>>>>> 1928928ee12d7a943ac403fce66d694e769ed130
   "execution_count": 8,
   "metadata": {},
   "outputs": [
    {
     "data": {
      "text/plain": [
       "Total           600\n",
       "HP               60\n",
       "Attack          100\n",
       "Defense          70\n",
       "Sp. Atk          60\n",
       "Sp. Def          80\n",
       "Speed            50\n",
       "Generation        1\n",
       "Legendary     False\n",
       "Name: 0, dtype: object"
      ]
     },
     "execution_count": 8,
     "metadata": {},
     "output_type": "execute_result"
    }
   ],
   "source": [
    "## mode\n",
    "\n",
    "df.mode(numeric_only=True).iloc[0]"
   ]
  },
  {
   "cell_type": "code",
   "execution_count": 10,
   "metadata": {},
   "outputs": [
    {
     "data": {
      "text/plain": [
       "89.89749999999998"
      ]
     },
     "execution_count": 10,
     "metadata": {},
     "output_type": "execute_result"
    }
   ],
   "source": [
    "## median"
   ]
  },
  {
   "cell_type": "code",
   "execution_count": 9,
   "metadata": {},
   "outputs": [
    {
     "data": {
      "text/plain": [
       "Total         450.0\n",
       "HP             65.0\n",
       "Attack         75.0\n",
       "Defense        70.0\n",
       "Sp. Atk        65.0\n",
       "Sp. Def        70.0\n",
       "Speed          65.0\n",
       "Generation      3.0\n",
       "Legendary       0.0\n",
       "dtype: float64"
      ]
     },
     "execution_count": 9,
     "metadata": {},
     "output_type": "execute_result"
    }
   ],
   "source": [
    "df.median()"
   ]
  },
  {
   "cell_type": "code",
   "execution_count": 10,
   "metadata": {},
   "outputs": [],
   "source": [
    "## mode"
   ]
  },
  {
   "cell_type": "code",
   "execution_count": 11,
   "metadata": {},
   "outputs": [
    {
     "data": {
      "text/plain": [
       "Total           600\n",
       "HP               60\n",
       "Attack          100\n",
       "Defense          70\n",
       "Sp. Atk          60\n",
       "Sp. Def          80\n",
       "Speed            50\n",
       "Generation        1\n",
       "Legendary     False\n",
       "Name: 0, dtype: object"
      ]
     },
     "execution_count": 11,
     "metadata": {},
     "output_type": "execute_result"
    }
   ],
   "source": [
    "df.mode(numeric_only=True).iloc[0]"
   ]
  },
  {
   "cell_type": "code",
   "execution_count": 12,
   "metadata": {},
   "outputs": [
    {
     "data": {
      "text/plain": [
       "89.89749999999998"
      ]
     },
     "execution_count": 12,
     "metadata": {},
     "output_type": "execute_result"
    }
   ],
   "source": [
    "# Measures of variability\n",
    "\n",
    "## MAD\n",
<<<<<<< HEAD
=======
    "\n",
>>>>>>> 1928928ee12d7a943ac403fce66d694e769ed130
    "abs(df['Total'] - df['Total'].mean()).median()"
   ]
  },
  {
   "cell_type": "code",
<<<<<<< HEAD
   "execution_count": 11,
=======
   "execution_count": 13,
   "metadata": {},
   "outputs": [],
   "source": [
    "from scipy import stats"
   ]
  },
  {
   "cell_type": "code",
   "execution_count": 14,
   "metadata": {},
   "outputs": [
    {
     "data": {
      "text/plain": [
       "126.02099999999999"
      ]
     },
     "execution_count": 14,
     "metadata": {},
     "output_type": "execute_result"
    }
   ],
   "source": [
    "stats.median_absolute_deviation(df['Total'])"
   ]
  },
  {
   "cell_type": "code",
   "execution_count": 15,
>>>>>>> 1928928ee12d7a943ac403fce66d694e769ed130
   "metadata": {},
   "outputs": [
    {
     "data": {
      "text/plain": [
<<<<<<< HEAD
       "844.5111326658338"
      ]
     },
     "execution_count": 11,
=======
       "844.5111326658323"
      ]
     },
     "execution_count": 15,
>>>>>>> 1928928ee12d7a943ac403fce66d694e769ed130
     "metadata": {},
     "output_type": "execute_result"
    }
   ],
   "source": [
    "## Variance\n",
    "df['Speed'].var()"
   ]
  },
  {
   "cell_type": "code",
<<<<<<< HEAD
   "execution_count": 12,
=======
   "execution_count": 16,
>>>>>>> 1928928ee12d7a943ac403fce66d694e769ed130
   "metadata": {},
   "outputs": [
    {
     "data": {
      "text/plain": [
<<<<<<< HEAD
       "29.06047371716149"
      ]
     },
     "execution_count": 12,
=======
       "29.060473717161464"
      ]
     },
     "execution_count": 16,
>>>>>>> 1928928ee12d7a943ac403fce66d694e769ed130
     "metadata": {},
     "output_type": "execute_result"
    }
   ],
   "source": [
    "## Standard Deviation\n",
<<<<<<< HEAD
    "df['Speed'].std()\n",
    "np.sqrt(df['Speed'].var())\n",
    "   # 68% (roughly) of the time, the speed value of any given pokemon will be between 39 and 97\n",
    "   # on average, the speed of a given pokemon deviates from 68(the mean) by 29 in either direction?"
=======
    "df['Speed'].std()"
   ]
  },
  {
   "cell_type": "code",
   "execution_count": 17,
   "metadata": {},
   "outputs": [
    {
     "data": {
      "text/plain": [
       "97"
      ]
     },
     "execution_count": 17,
     "metadata": {},
     "output_type": "execute_result"
    }
   ],
   "source": [
    "68+29"
   ]
  },
  {
   "cell_type": "code",
   "execution_count": 18,
   "metadata": {},
   "outputs": [
    {
     "data": {
      "text/plain": [
       "29.060473717161464"
      ]
     },
     "execution_count": 18,
     "metadata": {},
     "output_type": "execute_result"
    }
   ],
   "source": [
    "np.sqrt(df['Speed'].var())\n",
    "# 68% (roughly) of the time, the speed value of any given pokemon will be between 39 and 97\n",
    "# on average, the speed of a given pokemon deviates from 68 (the mean) by 29 in either direction?"
   ]
  },
  {
   "cell_type": "code",
   "execution_count": 19,
   "metadata": {},
   "outputs": [
    {
     "data": {
      "text/plain": [
       "<matplotlib.axes._subplots.AxesSubplot at 0x120325358>"
      ]
     },
     "execution_count": 19,
     "metadata": {},
     "output_type": "execute_result"
    },
    {
     "data": {
      "image/png": "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\n",
      "text/plain": [
       "<Figure size 432x288 with 1 Axes>"
      ]
     },
     "metadata": {
      "needs_background": "light"
     },
     "output_type": "display_data"
    }
   ],
   "source": [
    "df['Speed'].hist()"
>>>>>>> 1928928ee12d7a943ac403fce66d694e769ed130
   ]
  },
  {
   "cell_type": "code",
<<<<<<< HEAD
   "execution_count": 13,
=======
   "execution_count": 20,
>>>>>>> 1928928ee12d7a943ac403fce66d694e769ed130
   "metadata": {},
   "outputs": [
    {
     "data": {
      "text/plain": [
       "175"
      ]
     },
<<<<<<< HEAD
     "execution_count": 13,
=======
     "execution_count": 20,
>>>>>>> 1928928ee12d7a943ac403fce66d694e769ed130
     "metadata": {},
     "output_type": "execute_result"
    }
   ],
   "source": [
    "## Range\n",
<<<<<<< HEAD
    "\n",
=======
>>>>>>> 1928928ee12d7a943ac403fce66d694e769ed130
    "df['Speed'].max() - df['Speed'].min()"
   ]
  },
  {
   "cell_type": "code",
<<<<<<< HEAD
   "execution_count": 14,
=======
   "execution_count": 21,
>>>>>>> 1928928ee12d7a943ac403fce66d694e769ed130
   "metadata": {},
   "outputs": [
    {
     "data": {
      "text/plain": [
       "45.0"
      ]
     },
<<<<<<< HEAD
     "execution_count": 14,
=======
     "execution_count": 21,
>>>>>>> 1928928ee12d7a943ac403fce66d694e769ed130
     "metadata": {},
     "output_type": "execute_result"
    }
   ],
   "source": [
    "## IQR\n",
<<<<<<< HEAD
    "\n",
    "df['Speed'].quantile(0.75) - df['Speed'].quantile(0.25)\n",
    "\n",
    "stats.iqr(df['Speed'], rng=(25,75))\n"
   ]
  },
  {
   "cell_type": "code",
   "execution_count": 15,
   "metadata": {},
   "outputs": [
    {
     "data": {
      "text/plain": [
       "<matplotlib.axes._subplots.AxesSubplot at 0x10a609f10>"
      ]
     },
     "execution_count": 15,
     "metadata": {},
     "output_type": "execute_result"
    },
    {
     "data": {
      "image/png": "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\n",
      "text/plain": [
       "<Figure size 432x288 with 1 Axes>"
      ]
     },
     "metadata": {
      "needs_background": "light"
     },
     "output_type": "display_data"
    }
   ],
   "source": [
    "## Boxplot\n",
    "\n",
    "df.boxplot('Speed')"
=======
    "df['Speed'].quantile(0.75) - df['Speed'].quantile(0.25)"
>>>>>>> 1928928ee12d7a943ac403fce66d694e769ed130
   ]
  },
  {
   "cell_type": "code",
   "execution_count": 22,
   "metadata": {},
   "outputs": [
    {
     "data": {
      "text/plain": [
       "45.0"
      ]
     },
     "execution_count": 22,
     "metadata": {},
     "output_type": "execute_result"
    }
   ],
   "source": [
    "stats.iqr(df['Speed'], rng=(25, 75))"
   ]
  },
  {
   "cell_type": "code",
   "execution_count": 23,
   "metadata": {},
   "outputs": [
    {
     "data": {
      "text/plain": [
       "<matplotlib.axes._subplots.AxesSubplot at 0x1224c8780>"
      ]
     },
     "execution_count": 23,
     "metadata": {},
     "output_type": "execute_result"
    },
    {
     "data": {
      "image/png": "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\n",
      "text/plain": [
       "<Figure size 432x288 with 1 Axes>"
      ]
     },
     "metadata": {
      "needs_background": "light"
     },
     "output_type": "display_data"
    }
   ],
   "source": [
    "## Boxplot\n",
    "df.boxplot('Speed')"
   ]
  },
  {
   "cell_type": "code",
   "execution_count": 24,
   "metadata": {},
   "outputs": [
    {
     "data": {
      "text/plain": [
       "0.35793329506082994"
      ]
     },
     "execution_count": 24,
     "metadata": {},
     "output_type": "execute_result"
    }
   ],
   "source": [
    "# Measure of Symmetry\n",
    "\n",
    "## Skewness\n",
<<<<<<< HEAD
    "\n",
=======
>>>>>>> 1928928ee12d7a943ac403fce66d694e769ed130
    "df['Speed'].skew()"
   ]
  },
  {
   "cell_type": "code",
<<<<<<< HEAD
   "execution_count": null,
   "metadata": {},
   "outputs": [],
   "source": [
    "## Measure of Curvature"
   ]
  },
  {
   "cell_type": "code",
   "execution_count": 16,
=======
   "execution_count": 25,
>>>>>>> 1928928ee12d7a943ac403fce66d694e769ed130
   "metadata": {},
   "outputs": [
    {
     "data": {
      "text/plain": [
       "-0.24245216406408776"
      ]
     },
<<<<<<< HEAD
     "execution_count": 16,
=======
     "execution_count": 25,
>>>>>>> 1928928ee12d7a943ac403fce66d694e769ed130
     "metadata": {},
     "output_type": "execute_result"
    }
   ],
   "source": [
<<<<<<< HEAD
    "## Kurtosis\n",
    "\n",
=======
    "## Measure of Curvature\n",
    "\n",
    "## Kurtosis\n",
>>>>>>> 1928928ee12d7a943ac403fce66d694e769ed130
    "stats.kurtosis(df['Speed'])"
   ]
  },
  {
   "cell_type": "markdown",
   "metadata": {},
   "source": [
    "# Part 4. Empirical Distributions"
   ]
  },
  {
   "cell_type": "markdown",
   "metadata": {},
   "source": [
    "---\n",
    "\n",
    "## Empirical distributions - Probability Density / Mass Function\n",
    "\n",
    "The **probability density function** (for `continuous variables`) and the **probability mass function** (`for discrete variables`) provide a relative likelihood that the value of the variable would equal that of any given datapoint.\n",
    "\n",
    "---\n",
    "\n",
    "#### Univariate distributions (i.e. looking at a single variable)\n",
    "\n",
    "- Frequency table: `.value_counts()`\n",
    "\n",
    "- Histogram: `.hist()`\n",
    "\n",
    "\n",
    "#### Multivariate distributions (i.e. comparing multiple variables against each other)\n",
    "\n",
    "- Categorical and Ordinal Variables: `crosstab()`\n",
    "\n",
    "- Metric Variables: `corr()`"
   ]
  },
  {
   "cell_type": "code",
<<<<<<< HEAD
   "execution_count": 17,
=======
   "execution_count": 26,
>>>>>>> 1928928ee12d7a943ac403fce66d694e769ed130
   "metadata": {},
   "outputs": [
    {
     "data": {
      "text/plain": [
<<<<<<< HEAD
       "<matplotlib.axes._subplots.AxesSubplot at 0x1a1eee9e90>"
      ]
     },
     "execution_count": 17,
=======
       "<matplotlib.axes._subplots.AxesSubplot at 0x122456a58>"
      ]
     },
     "execution_count": 26,
>>>>>>> 1928928ee12d7a943ac403fce66d694e769ed130
     "metadata": {},
     "output_type": "execute_result"
    },
    {
     "data": {
<<<<<<< HEAD
      "image/png": "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\n",
=======
      "image/png": "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\n",
>>>>>>> 1928928ee12d7a943ac403fce66d694e769ed130
      "text/plain": [
       "<Figure size 432x288 with 1 Axes>"
      ]
     },
     "metadata": {
      "needs_background": "light"
     },
     "output_type": "display_data"
    }
   ],
   "source": [
    "#\"Frequency Table\"\n",
    "df['Legendary'].value_counts(normalize=True).plot.bar()"
   ]
  },
  {
   "cell_type": "markdown",
   "metadata": {},
   "source": [
    "#### Look at histograms"
   ]
  },
  {
   "cell_type": "code",
<<<<<<< HEAD
   "execution_count": 18,
=======
   "execution_count": 27,
>>>>>>> 1928928ee12d7a943ac403fce66d694e769ed130
   "metadata": {},
   "outputs": [
    {
     "data": {
      "text/plain": [
<<<<<<< HEAD
       "<matplotlib.legend.Legend at 0x1a1f056bd0>"
      ]
     },
     "execution_count": 18,
=======
       "<matplotlib.legend.Legend at 0x1226c7898>"
      ]
     },
     "execution_count": 27,
>>>>>>> 1928928ee12d7a943ac403fce66d694e769ed130
     "metadata": {},
     "output_type": "execute_result"
    },
    {
     "data": {
<<<<<<< HEAD
      "image/png": "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\n",
=======
      "image/png": "iVBORw0KGgoAAAANSUhEUgAAAt0AAAGDCAYAAAD3W6zoAAAABHNCSVQICAgIfAhkiAAAAAlwSFlzAAALEgAACxIB0t1+/AAAADh0RVh0U29mdHdhcmUAbWF0cGxvdGxpYiB2ZXJzaW9uMy4yLjEsIGh0dHA6Ly9tYXRwbG90bGliLm9yZy+j8jraAAAgAElEQVR4nOzde7xVdZ3/8deHAwiIVyxKcQIVLxiWiGhjF7w0UlrWRIVZE110fpWVjfMrbNIcGx2dn+Y0Wk1UjnYxvI0jecnCQrt6N+8mKSWWpngFQTjw+f2xFsz2eM7ZC2SxN5vX8/HYD/Za673W/uyv28OHdb5r7chMJEmSJNVnQKsLkCRJkjqdTbckSZJUM5tuSZIkqWY23ZIkSVLNbLolSZKkmtl0S5IkSTWz6ZbUMhFxV0RMbnUddYuIf4mIxyPikRbXkRGxUytr2BBFxPSI+EUNx50cEQvW9XEltSebbkm1iIj5EXFQj3UvaF4yc/fMnNvkOKPLZnFgTaXWKiL+CjgWGJeZr1hHx8yIWBwRiyLi4Yj4ckR0rYtjt5OI2DIizomIRyLi2Yj4XUTMaHVdq0TEkIh4KiIO6GXbmRFxcSvqktSebLolbdTWQzP/V8DCzPzLmu7YpLbXZOZw4EDgfcCRa1lfOzsTGA7sBmwBvB2Y19KKGmTmUuAC4O8a15f/ADocOK8VdUlqTzbdklqm8Wx4REyKiJsi4pmIeDQivlzGriv/fKo8s/u6iBgQEV+IiD9ExF8i4jsRsUXDcf+u3LYwIo7v8TonRsTFEfG9iHgGmF6+9q/Ls5Z/joizI2Jww/EyIj4eEfeXZ1y/FBE7RsSvynovbMw37HcQ8BNg27L2c8v1by+n1jwVEXMjYrceY/K5iLgdWNzsHwWZeS/wc+DV5f5HRsS8iHgiImZHxLZ9jP3rI+KhVdN7IuLDEXFPRDwZEVdHxKvW9v33V0N5rP9THuupiPhqREQfb29v4PzMfDIzV2bmvZl5cY9jfSoiHohi+s7/i4gBDdv7e0+7RsRPyhrvi4j3NGwbUdb9TETcAOzYz3+C84B3RcSwhnUHU/z9elVEfKis4dmyzr/v60DRY/pPRJwbEf/SsHxoRNxWjtuvImKPhm2fi+K3Hs+W7+fAfmqW1AqZ6cOHDx/r/AHMBw7qsW468IveMsCvgQ+Uz4cD+5bPRwMJDGzY78MUZzx3KLP/DXy33DYOWAS8HhgMnA4sb3idE8vld1A0RkOBvYB9gYHl690DHNPweglcBmwO7A48D1xTvv4WwN3AB/sYh8nAgoblnYHFwJuBQcBny/cyuGFMbgO2B4b2ccwEdmp4v48AHwEOAB4HJgCbAGcB1/XcD5gCPARMKtcfVtawWzkGXwB+tTbvv2INlwNbUvwW4DFgSh/v81vAXcCHgLF9jMPPgK3LY/0O+Giz9wRsWr7/D5Xb9ixrHldunwVcWOZeDTxMw+e2lzp+B7y/YfkHwL+Xzw+haNoDeBPwHDChj8/G6v+u5fK5wL+Uz/cE/gLsA3QBHyw/K5sAu5TvZ9uG/2d2bPXPAB8+fLzw0fICfPjw0ZmPsiFYBDzV8HiOvpvu64B/BrbpcZzRvLjpvgb4eMPyLhSN9EDgBOAHDduGAct4YdN9XZPajwEubVhOYL+G5ZuBzzUsn7GqyerlWD0bq+OBCxuWB5RN3eSGMflwk/oSeAZ4Evg98C/lcb4N/FtDbng5LqMb9jsO+APw6obcVcBHetT0HPCqNX3/FWt4fcP2C4EZfbzPocDny9dbTtFEv6XHOExpWP44cE2z9wS8F/h5j9f6BvBFioZ2ObBrw7ZT6L/p/gLw4/L55uXr7NlH9n+AT/fx2eiv6f468KUex7qPopHfiaIhPwgYtL7/X/fhw0e1h9NLJNXpHZm55aoHRVPUl49QnAW+NyJujIhD+8luS9E4rvIHioZ7ZLntoVUbMvM5YGGP/R9qXIiInSPi8igu2HuGosnapsc+jzY8X9LL8vB+6u2z9sxcWdazXV/19WFCZm6VmTtm5hfK4/Q89iKK99547GMomv47G9a9CvhKOW3hKeAJijOzjftVff9Vami8i8tz9DF2mbkkM0/JzL2AERQN+kURsXVDrHGs/lC+frP39Cpgn1Xbyu1HAK8AXkbxWep53P58F9i/nEYzFfh9Zt4KEBFviYjflNNYngLeyos/W1W8Cji2R83bU5zdnkfx3/VE4C8RMauvaUWSWsemW1JbyMz7M/Nw4OXAacDFEbEpxdm/nv5E0YSs8ldAN0Uj+Gdg1KoNETGUomF7wcv1WP46cC/FFIbNKc6u9jXP+KV6Qe3lfObtKc5291Xf2h57U4r33njsdwPviIhPN6x7CPj7xn8gZebQzPxVTTWsscxc9Y+hTYExDZu2b3j+V+XrQ//v6SHg2h7bhmfmxyimu3T3ctz+avsDxbz69wMfoLyAMiI2AS6hmOI0svyH55X0/dl6juI3M6s03u3mIeDkHjUPy8wflDWcn5mvpxj7pPh/SFIbsemW1BYi4v0R8bLyjO1T5eqVFE3QSor5w6v8APhMRIyJiOEUzdgFmdkNXAy8LSL+ury470SaN9CbUUzXWBQRuwIfW1fvqxcXAodExIERMYjidoLPA2vT4Pb0A+BDEfHasuE7Bbg+M+c3ZP5EcceTT0fEqvf5n8BxEbE7QERsERHvrrGGSqK4CHbviBgcEUOAT1N8Nu5riP3fiNgqIrYvt19Q4T1dDuwcER+IiEHlY++I2C0zV1BcI3BiRAyLiHEU86ebOQ84GtgP+H65bjDFnOvHgO6IeAvwN/0c4zbgfRHRFRFTKKaOrPJN4P9ExD5R2DQiDomIzSJil4g4oBzvpRS/eVhZoWZJ65FNt6R2MQW4KyIWAV8BppXTC54DTgZ+Wf5afV/gHIpf6V8HPEjRaHwSIDPvKp/PojjrvYhivuvz/bz2P1Lcdu9Ziubmgn6yL0lm3kdxRvQsiov33ga8LTOXrYNjz6GYM34JxXvfEZjWS+6PFI33jIj4aGZeSnFmdFY5veZO4C111lD1cMB/UYzTnyguPj2knLKyymUUc75vA66gmFNOf+8pM5+laH6nlcd9pMxuUh7zaIopL49QzKv+rwq1XkJxQec1mfnnhtf5FMU/tJ6k+IzN7ucYn6b4PKya7vI/qwci8yaK20KeXR5rHsWFyZR1n0oxTo9Q/LbouAo1S1qPInNtf4spSe2vPBP+FMXUkQdbXY/WnYhIiv+ubXPvbknqi2e6JXWciHhbOTVgU4r5tHdQ3BVEkqSWsOmW1IkOo5g28CdgLMVUFX+tJ0lqGaeXSJIkSTXzTLckSZJUM5tuSZIkqWYDW13A+rDNNtvk6NGj12ifxYsXs+mmm9ZT0EbOsa1PR43tyvI2wwOanxtYmUV2QNR3HqGjxrbNOLb1cWzr49jWY0Mf15tvvvnxzHxZb9s2iqZ79OjR3HTTTWu0z9y5c5k8eXI9BW3kHNv6OLb1cWzr49jWx7Gtj2Nbjw19XCPiD31tc3qJpPb0ta8VjyrRG7/G126slpUkqRVsuiW1pwsvLB5VonddyIV3VctKktQKNt2SJElSzTaKOd2SJEmqbvny5SxYsIClS5eu19fdYostuOeee9bra66NIUOGMGrUKAYNGlR5H5tuSZIkvcCCBQvYbLPNGD16NBGx3l732WefZbPNNltvr7c2MpOFCxeyYMECxowZU3k/p5dIkiTpBZYuXcqIESPWa8O9oYgIRowYsca/BfBMt6T2NHdu9ej06llJUjU23H1bm7HxTLckSZJUM5tuSe3p9NOLR5Xor07n9F9Vy0qS1Ao23ZLa0+WXF48q0d9dzuW/q5aVJG0Y5s+fz6677sr06dPZeeedOeKII5gzZw777bcfY8eO5YYbbmDx4sV8+MMfZtKkSey5555cdtllq/d9wxvewIQJE5gwYQK/+tWvgP/9xsupU6ey6667csQRR5CZ6+X9OKdbkiRJ/Zp87uQXrXvP7u/h43t/nOeWP8dbv//WF22f/trpTH/tdB5/7nGmXjj1BduqXoszb948LrroIs455xz23ntvzj//fH7xi18we/ZsTjnlFMaNG8cBBxzAOeecw1NPPcWkSZM46KCDePnLX85PfvIThgwZwv3338/hhx/OTTfdBMCtt97KXXfdxbbbbst+++3HL3/5S17/+tev8ZisKZtuSZIktaUxY8Ywfvx4AHbffXcOPPBAIoLx48czf/58FixYwOzZszm9nI64dOlS/vjHP7Ltttty9NFHc9ttt9HV1cXvfve71cecNGkSo0aNAuC1r30t8+fPt+mWJElS6/V3ZnrYoGH9bt9m2DZrfZepTTbZZPXzAQMGrF4eMGAA3d3ddHV1cckll7DLLru8YL8TTzyRkSNH8tvf/paVK1cyZMiQXo/Z1dVFd3f3WtW2pmy6pZdo9IwrWl3CaseO72b6eqhn/qmH1P4aDB1aPTqoelaS1DkOPvhgzjrrLM466ywigltvvZU999yTp59+mlGjRjFgwADOO+88VqxY0epSbboltamrrqoePaJ6VpLUOY4//niOOeYY9thjD1auXMmYMWO4/PLL+fjHP8673vUuvvOd7zBlyhQ23XTTVpdq0y1JkqT2M3r0aO68887Vy+eee26v277xjW+8aN+xY8dy++23r14+7bTTAJg8eTKTJ09evf7ss89ex1X3zVsGSmpPX/pS8agSvfZLfOnaallJklrBpltSe7rmmuJRJfrgNVzzYLWsJEmtYNMtSZIk1cymW5IkSaqZTbckSZJUM+9eIqk9jRhRPTqselaSpFbwTLek9nTJJcWjSvQ9l3DJe6plJUkbn8mTJ3PTTTcB8Na3vpWnnnpqvdfgmW5JkiRtNK688sqWvK5nuiW1p+OOKx5VonOO47g51bKSpA3D/Pnz2XXXXZk+fTo777wzRxxxBHPmzGG//fZj7Nix3HDDDSxevJgPf/jDTJo0iT333JPLLrsMgCVLljBt2jR222033vnOd7JkyZLVxx09ejSPP/44AO94xzvYa6+92H333Zk5c+bqzPDhw/mnf/onXvOa17Dvvvvy6KOPvuT345luSe3p17+uHl1QPStJWgsN3+K42nveAx//ODz3HLz1rS/ePn168Xj8cZg69YXb5s6t9LLz5s3joosu4pxzzmHvvffm/PPP5xe/+AWzZ8/mlFNOYdy4cRxwwAGcc845PPXUU0yaNImDDjqIb3zjGwwbNox77rmH22+/nQkTJvR6/HPOOYett96aJUuWsPfee/Oud72LESNGsHjxYvbdd19OPvlkPvvZz/LNb36TL3zhC5Vq7otNtyRJktrSmDFjGD9+PAC77747Bx54IBHB+PHjmT9/PgsWLGD27NmcfvrpACxdupQ//vGPXHfddXzqU58CYI899mCPPfbo9fj/8R//waWXXgrAQw89xP3338+IESMYPHgwhx56KAB77bUXP/nJT17ye7HpliRJUv/6OzM9bFj/27fZpvKZ7Z422WST1c8HDBiwennAgAF0d3fT1dXFJZdcwi677LLGx547dy5z5szh17/+NcOGDWPy5MksXboUgEGDBhERAHR1ddHd3b1W9TdyTrckSZI2SAcffDBnnXUWmQnArbfeCsAb3/hGzj//fADuvPNObr/99hft+/TTT7PVVlsxbNgw7r33Xn7zm9/UWqtNt6T2NGpU8agS3XwUozavlpUkdY7jjz+e5cuXs8cee7D77rtz/PHHA/Cxj32MRYsWsdtuu3HCCSew1157vWjfKVOm0N3dzW677caMGTPYd999a63V6SWS2tP3vlc9+rfVs5KkDcPo0aO58847Vy+fe+65vW77xje+8aJ9hw4dyqxZs3o97vz581c/v+qqq3rNLFq0aPXzqVOnMrXnhaBrwTPdkiRJUs1suiW1p2OOKR5Voj86hmN+VC0rSVIrOL1EUnu67bbq0UeqZyVJagXPdEuSJOlFVt0RRC+2NmNTa9MdEVMi4r6ImBcRM3rZvklEXFBuvz4iRpfrR0TEzyJiUUSc3ZAfFhFXRMS9EXFXRJxaZ/2SJEkboyFDhrBw4UIb715kJgsXLmTIkCFrtF9t00siogv4KvBmYAFwY0TMzsy7G2IfAZ7MzJ0iYhpwGvBeYClwPPDq8tHo9Mz8WUQMBq6JiLdkZu+XnkqSJGmNjRo1igULFvDYY4+t19ddunTpGjezrTBkyBBGVbyt7Sp1zumeBMzLzAcAImIWcBjQ2HQfBpxYPr8YODsiIjMXA7+IiJ0aD5iZzwE/K58vi4hbAG/OK3WinXeuHh1RPStJam7QoEGMGTNmvb/u3Llz2XPPPdf7664PdTbd2wEPNSwvAPbpK5OZ3RHxNDACeLzZwSNiS+BtwFfWSbWS2svMmdWjb6uelSSpFaKuuToRMRWYkpkfLZc/AOyTmUc3ZO4sMwvK5d+XmcfL5enAxMZ9yvUDgR8CV2fmv/fx+kcBRwGMHDlyr75ukN6XRYsWMXz48DXaR9V02tje8fDTrS5htZFD4dElra6iM43ZoqujPrftpNN+JrQTx7Y+jm09NvRx3X///W/OzIm9bavzTPfDwPYNy6PKdb1lFpSN9BbAwgrHngnc31fDDZCZM8scEydOzMmTJ1evnOLXG2u6j6rptLGdPuOKVpew2rHjuznjjs64E+gpPzoLgM9P+WTT7MJBRXbE8ubZtXXulE076nPbTjrtZ0I7cWzr49jWo5PHtc6/nW8ExkbEGIrmehrwvh6Z2cAHgV8DU4GfZpNT7xHxLxTN+UfXecWS2sYOT/T8N3rflkf1rCRJrVBb013O0T4auBroAs7JzLsi4iTgpsycDXwb+G5EzAOeoGjMAYiI+cDmwOCIeAfwN8AzwD8B9wK3RATA2Zn5rbrehyRJkvRS1fp76My8Eriyx7oTGp4vBd7dx76j+zhsrKv6JEmSpPXBb6SUJEmSatYZV1xJ6jh3v3yHytnBWT0rSVIr2HRLaksnHXRU5ezWy6tnJUlqBaeXSJIkSTWz6ZbUls784emc+cPTK2UfH3Q6jw+qlpUkqRWcXiKpLb3y2ccrZ7ujelaSpFbwTLckSZJUM5tuSZIkqWY23ZIkSVLNnNMtqS3dst2ulbObrKyelSSpFWy6JbWlf3vT9MrZrbqrZyVJagWnl0iSJEk1s+mW1Ja+fukpfP3SUyplHxt8Co8NrpaVJKkVnF4iqS1tteSZytkVVM9KktQKnumWJEmSambTLUmSJNXMpluSJEmqmXO6JbWlX77qNZWzQ1ZWz0qS1Ao23ZLa0ln7HV45u2V39awkSa3g9BJJkiSpZjbdktrSuRd+kXMv/GKl7KODv8ijg6tlJUlqBaeXSGpLQ7qfr5xNqmclSWoFz3RLkiRJNbPpliRJkmpm0y1JkiTVzDndktrSNTtOqpwdurJ6VpKkVrDpltSWvrnP31bObtFdPStJUis4vUSSJEmqmU23pLY06/wZzDp/RqXsI4Nn8MjgallJklrBpluSJEmqmU23JEmSVDObbkmSJKlmNt2SJElSzbxloKS2dPmub6ic3XRF9awkSa1g0y2pLX1vwiGVs5utqJ6VJKkVbLoltaUhy5cCsHTQkKbZlRTZATTPrq07Hn6a6TOuqO347Wj+qf5jRpLWFZtuSW3p3ItOBGDa+05tmv3L4CL7imXNs5IktcIaXUgZEQMiYvO6ipEkSZI6UdOmOyLOj4jNI2JT4E7g7oj4v/WXJkmSJHWGKme6x2XmM8A7gKuAMcAHqhw8IqZExH0RMS8iXvQdzRGxSURcUG6/PiJGl+tHRMTPImJRRJzdY5+9IuKOcp//iIioUoskSZLUKlWa7kERMYii6Z6dmcuBbLZTRHQBXwXeAowDDo+IcT1iHwGezMydgDOB08r1S4HjgX/s5dBfB44ExpaPKRXegyRJktQyVS6k/AYwH/gtcF1EvAp4psJ+k4B5mfkAQETMAg4D7m7IHAacWD6/GDg7IiIzFwO/iIidGg8YEa8ENs/M35TL3+F/z8BL6iAXjz+ocnb4iupZSZJaITKbnrR+8U4RAzOzu0lmKjAlMz9aLn8A2Cczj27I3FlmFpTLvy8zj5fL04GJq/aJiInAqZl5ULn8BuBzmXloL69/FHAUwMiRI/eaNWvWGr3HRYsWMXz48DXaR9V02tje8fDTrS5htZFD4dElra6iM22MYzt+uy3Wy+t02s+EduLY1sexrceGPq7777//zZk5sbdtTc90R8RI4BRg28x8SzlF5HXAt9dtmetWZs4EZgJMnDgxJ0+evEb7z507lzXdR9V02ti2072bjx3fzRl3dMadQLd6rvjHzJPDmjd+KyiyXdTXJHbS2FY1/4jJ6+V1Ou1nQjtxbOvj2Najk8e1ypzuc4GrgW3L5d8Bx1TY72Fg+4blUeW6XjMRMRDYAljY5JijmhxTUgf4+v/8K1//n3+tlH1s8L/y2OBqWUmSWqFK071NZl4IrAQop5WsqLDfjcDYiBgTEYOBacDsHpnZwAfL51OBn2Y/810y88/AMxGxb3nXkr8DLqtQiyRJktQyVX5XujgiRlDesSQi9gWaTmLNzO6IOJriLHkXcE5m3hURJwE3ZeZsiikq342IecATFI055evMBzYHBkfEO4C/ycy7gY9TnH0fSnEBpRdRSpIkqa1Vabr/geKM9I4R8UvgZRRnpZvKzCuBK3usO6Hh+VLg3X3sO7qP9TcBr67y+pIkSVI7aNp0Z+YtEfEmYBcggPvKe3VLkiRJqqDK3Uv+rseqCRFBZn6nppokie/t+dbK2c1WVM9KktQKVaaX7N3wfAhwIHALYNMtqTaX7/bGytlNV1TPSpLUClWml3yycTkitgTW7JtmJGkNvfKZxwD48+Yva5rtjiI7MJtnJUlqhSq3DOxpMTBmXRciSY3OvPwMzrz8jErZxwedweODqmUlSWqFKnO6f0h5u0CKJn0ccGGdRUmSJEmdpMqc7tMbnncDf8jMBTXVI0mSJHWcKnO6r10fhUiSJEmdqs+mOyKe5X+nlbxgE5CZuXltVUmSJEkdpM+mOzM3W5+FSFKjb056Z+Xs5t3Vs5IktUKVOd0ARMTLKe7TDUBm/rGWiiQJuGanfSpnh62snpUkqRWa3jIwIt4eEfcDDwLXAvOBq2quS9JGboeFC9hhYbVrtpfHApaH13dLktpXlft0fwnYF/hdZo6h+EbK39RalaSN3ilXn80pV59dKbtw0NksHFQtK0lSK1Rpupdn5kJgQEQMyMyfARNrrkuSJEnqGFXmdD8VEcOB64DvR8RfKL6VUpIkSVIFVc50HwY8B3wG+BHwe+BtdRYlSZIkdZIqZ7r/HrggMx8Gzqu5HkmSJKnjVGm6NwN+HBFPABcAF2Xmo/WWJWljd9ZfT6uc3aK7elaSpFao8jXw/wz8c0TsAbwXuDYiFmTmQbVXJ2mj9cvRr62cHbqyelaSpFaoMqd7lb8AjwALgZfXU44kFcY9+gDjHn2gUnZZPMCyqJaVJKkVqnw5zscjYi5wDTACODIz96i7MEkbtxOumckJ18yslH1i0EyeGFQtK0lSK1SZ0709cExm3lZ3MZIkSVInqjKn+7j1UYgkSZLUqdZkTrckSZKktWDTLUmSJNWsypxuIuJVwNjMnBMRQ4GBmflsvaVJ2pj92xs/WDm7ZXf1rCRJrdC06Y6II4GjgK2BHYFRwH8CB9ZbmqSN2S2jdqucHbKyelaSpFaoMr3kE8B+wDMAmXk/3qdbUs0mLLiHCQvuqZRdOuAelg6olpUkqRWqNN3PZ+ayVQsRMRDI+kqSJPjsdefx2evOq5R9auB5PDWwWlaSpFao0nRfGxGfB4ZGxJuBi4Af1luWJEmS1DmqNN0zgMeAO4C/B64EvlBnUZIkSVInqfLlOCuBb5YPSZIkSWuoyt1L9gNOBF5V5gPIzNyh3tIkSZKkzlDlPt3fBj4D3AysqLccSSqcdOBRlbNbL6+elSSpFao03U9n5lW1VyJJDe4eWf2XaYP9xZskqc312XRHxITy6c8i4v8B/w08v2p7Zt5Sc22SNmL7zb8NgF+Ofm3T7JIBRXboyuZZSZJaob8z3Wf0WJ7Y8DyBA9Z9OZJU+OSvZgHVmu6nBxbZoctsuiVJ7anPpjsz9weIiB0y84HGbRHh73IlSZKkiqrcp/viXtZdVOXgETElIu6LiHkRMaOX7ZtExAXl9usjYnTDtuPK9fdFxMEN6z8TEXdFxJ0R8YOIGFKlFkmSJKlV+pvTvSuwO7BFRPxtw6bNgaaNbkR0AV8F3gwsAG6MiNmZeXdD7CPAk5m5U0RMA04D3hsR44Bp5etvC8yJiJ2BVwCfAsZl5pKIuLDMnVv1DUuSJEnrW39zuncBDgW2BN7WsP5Z4MgKx54EzFs1NSUiZgGHAY1N92EU9wCH4oz62RER5fpZmfk88GBEzCuP98ey5qERsRwYBvypQi2SJElSy/Q3p/sy4LKIeF1m/notjr0d8FDD8gJgn74ymdkdEU8DI8r1v+mx73aZ+euIOJ2i+V4C/Dgzf7wWtUlqc58/+OjK2RHLq2clSWqFKl8DvzYNdy0iYiuKs+BjgKeAiyLi/Zn5vV6yRwFHAYwcOZK5c+eu0WstWrRojfdRNZ02tseO7251CauNHNpe9bw0ryj/rPJ+1iS7djprbKtZX/+fdtrPhHbi2NbHsa1HJ49rlS/HWVsPA9s3LI8q1/WWWRARA4EtgIX97HsQ8GBmPgYQEf8N/DXwoqY7M2cCMwEmTpyYkydPXqPi586dy5ruo2o6bWynz7ii1SWsduz4bs64o87/rdefA+ddD8A1O/X8BdmLPTegyA5b2Ty7tjppbKuaf8Tk9fI6nfYzoZ04tvVxbOvRyePa591LIuLT5Z/7reWxbwTGRsSYiBhMccHj7B6Z2cAHy+dTgZ9mZpbrp5V3NxkDjAVuoJhWsm9EDCvnfh8I3LOW9UlqY0fecClH3nBppewzAy/lmYHVspIktUJ/twz8UPnnWWtz4MzsBo4GrqZojC/MzLsi4qSIeHsZ+zYworxQ8h+AGeW+dwEXUlx0+SPgE5m5IjOvp7jg8hbgjrL+mWtTnyRJkrS+9Pe70nsi4n5g249ux+UAAB9HSURBVIi4vWF9AJmZezQ7eGZeCVzZY90JDc+XAu/uY9+TgZN7Wf9F4IvNXluSJElqF/3dveTwiHgFxZnqt/eVkyRJktS/fq8KysxHgNeUc7J3Llffl5nLa69MktRSo9fTRcLHju9uiwuS5596SKtLkNTBml6KHxFvAr4DzKeYWrJ9RHwwM6+ruTZJG7HPHHps5ew2y6tnJUlqhSr3v/oy8DeZeR9A+XXsPwD2qrMwSRu3P2/+ssrZgVk9K0lSK/R395JVBq1quAEy83fAoPpKkiQ49J7rOPSear9QW9x1HYu7/OWbJKl9VTnTfVNEfIv//QKaI4Cb6itJkuD9txY3Prp8tzc2zT7bVWQ3XdE8K0lSK1Rpuj8GfAL4VLn8c+BrtVUkSZIkdZimTXdmPk8xr/vL9ZcjSZIkdZ4qc7olSZIkvQQ23ZIkSVLNqtyne3xm3rE+ipGkVT72juMqZ1+2rHpWkqRWqHIh5dciYhPgXOD7mfl0vSVJEjw5bIvK2S6qZyVJaoWm00sy8w0UtwncHrg5Is6PiDfXXpmkjdrUO+Yw9Y45lbKLuuawqKtaVpKkVqg0pzsz7we+AHwOeBPwHxFxb0T8bZ3FSdp42XRLkjpJ06Y7IvaIiDOBe4ADgLdl5m7l8zNrrk+SJEna4FWZ030W8C3g85m5ZNXKzPxTRHyhtsokSZKkDlGl6T4EWJKZKwAiYgAwJDOfy8zv1lqdJEmS1AGqzOmeAwxtWB5WrpMkSZJUQZUz3UMyc9GqhcxcFBHDaqxJkpj+7hMrZ1++rHpWkqRWqHKme3FETFi1EBF7AUv6yUvSS7Z00BCWDhpSKTuAIQygWlaSpFaocqb7GOCiiPgTEMArgPfWWpU2WKNnXNE0c+z4bqZXyGnj9v5bis/I9yYc0jT7bFeR3WxF86wkSa3QtOnOzBsjYldgl3LVfZm5vN6yJG3sDr3350C1pntxV5G16ZYktasqZ7oB9gZGl/kJEUFmfqe2qiRJkqQO0rTpjojvAjsCtwErytUJ2HRLkiRJFVQ50z0RGJeZWXcxkiRJUieqcveSOykunpQkSZK0Fqqc6d4GuDsibgCeX7UyM99eW1WSNnrT3ndq5ewrllXPSpLUClWa7hPrLkKSJEnqZFVuGXhtRLwKGJuZc8pvo+yqvzRJG7Mjr/9vAL65z982zT49sMhu0d08K0lSKzSd0x0RRwIXA98oV20H/E+dRUnSgb+/gQN/f0Ol7JIBN7BkQLWsJEmtUOVCyk8A+wHPAGTm/cDL6yxKkiRJ6iRVmu7nM3PZqoWIGEhxn25JkiRJFVRpuq+NiM8DQyPizcBFwA/rLUuSJEnqHFWa7hnAY8AdwN8DVwJfqLMoSVo6cBOWDtykUjbYhKBaVpKkVqhy95KVwDfLhyStF9Pf88+VsyOXVc9KktQKTZvuiHiQXuZwZ+YOtVQkSZIkdZgqX44zseH5EODdwNb1lCNJhU/+8gcAnLXf4U2zTw0sslt2N89KktQKTed0Z+bChsfDmfnvwCHroTZJG7H9/vBb9vvDbytllw74LUsHVMtKktQKVaaXTGhYHEBx5rvKGXJJkiRJVLt7yRkNj38F9gLeU+XgETElIu6LiHkRMaOX7ZtExAXl9usjYnTDtuPK9fdFxMEN67eMiIsj4t6IuCciXlelFkmSJKlVqty9ZP+1OXBEdAFfBd4MLABujIjZmXl3Q+wjwJOZuVNETANOA94bEeOAacDuwLbAnIjYOTNXAF8BfpSZUyNiMDBsbeqTJEmS1pcq00v+ob/tmfnlPjZNAuZl5gPlcWYBhwGNTfdhwInl84uBsyMiyvWzMvN54MGImAdMioi7gTcC08vXXgYsQ1LHeXLo5pWzXVTPSpLUCpHZ/ze6R8T5wN7A7HLV24AbgPsBMrPXG+RGxFRgSmZ+tFz+ALBPZh7dkLmzzCwol38P7EPRiP8mM79Xrv82cBUwD5hJ0bi/BrgZ+HRmLu7l9Y8CjgIYOXLkXrNmzWoyFC+0aNEihg8fvkb7CO54+OmmmZFD4dEl66GYjZBjWx/Htj7tMrbjt9ui1SWsc/5dVh/Hth4b+rjuv//+N2fmxN62VbkgchQwITOfBYiIE4ErMvP9667EygYCE4BPZub1EfEVim/MPL5nMDNnUjToTJw4MSdPnrxGLzR37lzWdB/B9BlXNM0cO76bM+7wWtw6OLb1cWzr0y5jO/+Iya0uYZ3z77L6OLb16ORxrXIh5UheOIVjWbmumYeB7RuWR5Xres1ExEBgC2BhP/suABZk5vXl+ospmnBJHeaz157LZ689t1L2yYHn8uTAallJklqhyqmF7wA3RMSl5fI7gPMq7HcjMDYixlA0zNOA9/XIzAY+CPwamAr8NDMzImYD50fElykupBwL3JCZKyLioYjYJTPvAw7khXPEJXWICQ/fWzn7/IDqWUmSWqHK3UtOjoirgDeUqz6UmbdW2K87Io4Grga6gHMy866IOAm4KTNnA98GvlteKPkERWNOmbuQoqHuBj5R3rkE4JPA98s7lzwAfGgN3q8kSZK03lWdRDcMeCYz/ysiXhYRYzLzwWY7ZeaVwJU91p3Q8HwpxdfK97bvycDJvay/jRd+Nb0kSZLU1prO6Y6ILwKfA44rVw0CvldnUZIkSVInqXKm+53AnsAtAJn5p4jYrNaqJG30/rzZNpWzA7N6VpKkVqjSdC8rL25MgIjYtOaaJInPvO0fK2e3WV49K0lSK1S5ZeCFEfENYMuIOBKYA3yz3rIkSZKkztHvme7yK9kvAHYFngF2AU7IzJ+sh9okbcROmDMTgJMOOqpp9olBRXbr5c2zkiS1Qr9Ndzmt5MrMHA/YaEtab8b95YHK2WVRPStJUitUmV5yS0TsXXslkiRJUoeqciHlPsAREfEHYDEQFCfB96i1MkmSJKlD9Nl0N3wBzsHrsR5JkiSp4/R3pvtiYC+Kr28/cD3VI0kAPLD1dpWzg7J6VpKkVuiv6R4QEZ8Hdo6If+i5MTO/XF9ZkjZ2n5/yycrZEcurZyVJaoX+LqScBqygaMw36+UhSZIkqYI+z3Rn5n3AaRFxe2ZetR5rkiRO+dFZQLUz3gsHFVnPeEuS2lXTu5fYcEtqhR2eeLhydnlUz0qS1ApV7tMtSZIk6SWw6ZYkSZJq1rTpjohhEXF8RHyzXB4bEYfWX5okSZLUGap8I+V/ATcDryuXHwYuAi6vqyhJuvvlO1TODs7qWUmSWqFK071jZr43Ig4HyMznIiJqrkvSRu6kg46qnN16efWsJEmtUGVO97KIGAokQETsCDxfa1WSJElSB6lypvtE4EfA9hHxfWA/YHqNNUkSZ/7wdAA+87Z/bJp9fFCR3WZ586wkSa1Q5T7dP46Im4F9gQA+nZmP116ZpI3aK5+t/mOmO/yRJElqb02b7oj4IXA+MDszF9dfkiRJktRZqszpPh14A3B3RFwcEVMjYkjNdUmSJEkdo8r0kmuBayOiCzgAOBI4B9i85tokSZKkjlDlQkrKu5e8DXgvMAE4r86iJOmW7XatnN1kZfWsJEmtUGVO94XAJIo7mJwNXJuZK+suTNLG7d/eNL1ydqvu6llJklqhypnubwOHZ+aKuouRJEmSOlGfTXdEHJCZPwU2BQ7r+SWUmfnfNdcmaSP29UtPAeBj7/x80+xjg4vsy5Y1z0qS1Ar9nel+E/BTirncPSVg0y2pNlsteaZydgXVs5IktUKfTXdmfrF8elJmPti4LSLG1FqVJEmS1EGq3Kf7kl7WXbyuC5EkSZI6VX9zuncFdge2iIi/bdi0OeCX40iSJEkV9TenexfgUGBLXjiv+1mKL8iRpNr88lWvqZwdsrJ6VpKkVuhvTvdlwGUR8brM/PV6rEmSOGu/wytnt+yunpUkqRWq3Kf71oj4BMVUk9XTSjLzw7VVJUmSJHWQKhdSfhd4BXAwcC0wimKKiSTV5twLv8i5F36xeRB4dPAXeXRwtawkSa1QpeneKTOPBxZn5nnAIcA+9ZYlaWM3pPt5hnQ/XymbPE9SLStJUitUabqXl38+FRGvBrYAXl7l4BExJSLui4h5ETGjl+2bRMQF5fbrI2J0w7bjyvX3RcTBPfbriohbI+LyKnVIkiRJrVSl6Z4ZEVsBxwOzgbuBf2u2U0R0AV8F3gKMAw6PiHE9Yh8BnszMnYAzgdPKfccB0yjmkU8BvlYeb5VPA/dUqF2SJElquaZNd2Z+KzOfzMxrM3OHzHx5Zv5nhWNPAuZl5gOZuQyYBRzWI3MYcF75/GLgwIiIcv2szHy+/DbMeeXxiIhRFFNcvlXlDUqSJEmt1t+X4/xDfztm5pebHHs74KGG5QW8eC746kxmdkfE08CIcv1veuy7Xfn834HPAps1eX1JG7BrdpxUOTt0ZfWsJEmt0N8tA9uuqY2IQ4G/ZObNETG5SfYo4CiAkSNHMnfu3DV6rUWLFq3xPoJjx3c3zYwcWi2nNddRYzv+7QAcS5X38/byz/ree0eNbZtpl7HtxJ/5/l1WH8e2Hp08rv19Oc4/v8RjPwxs37A8qlzXW2ZBRAykuEhzYT/7vh14e0S8leKe4ZtHxPcy8/291D8TmAkwceLEnDx58hoVP3fuXNZ0H8H0GVc0zRw7vpsz7qhyi3itKce2Po5tfdplbOcfMbnVJaxz/l1WH8e2Hp08rk3ndEfEzhFxTUTcWS7vERFfqHDsG4GxETEmIgZTXBg5u0dmNvDB8vlU4KeZmeX6aeXdTcYAY4EbMvO4zByVmaPL4/20t4Zb0oZv1vkzmHX+i2561KtHBs/gkcHVspIktUKVu5d8EziO8taBmXk7RcPbr8zsBo4Grqa408iFmXlXRJwUEat+F/xtYEREzAP+AZhR7nsXcCHFnVJ+BHwiM1esyRuTJEmS2kWV3+cNy8wbipuKrFZp8l1mXglc2WPdCQ3PlwLv7mPfk4GT+zn2XGBulTokSZKkVqpypvvxiNgRSICImAr8udaqJEmSpA5S5Uz3JyguSNw1Ih4GHgSOqLUqSZIkqYM0bboz8wHgoIjYlOLM+HMUc7r/UHNtkjZil+/6hsrZTVdUz0qS1Ar9fTnO5hRnubcDLgPmlMvHArcD318fBUraOH1vwiGVs5utqJ6VJKkV+jvT/V3gSeDXwJHAPwEBvDMzb1sPtUnaiA1ZvhSApYOGNM2upMgOoHlWkqRW6K/p3iEzxwNExLcoLp78q/KOI5JUq3MvOhGAae87tWn2L4OL7CuWNc9KfRld4cu9NjTHju/u90vL5p/qb4mk9aW/u5csX/WkvEf2AhtuSZIkac31d6b7NRHxTPk8gKHlcgCZmZvXXp0kSZLUAfpsujOza30WIkmSJHWqKl+OI0mSJOklqPLlOJK03l08/qDK2eErqmclSWoFm25JbcmmW5LUSZxeIqktbfXc02z13NOVsit4mhVUy0qS1Aqe6ZbUlr7+P/8KVLtP92ODi6z36ZYktSvPdEuSJEk1s+mWJEmSambTLUmSJNXMpluSJEmqmRdSSmpL39vzrZWzm62onpUkqRVsuiW1pct3e2Pl7KYrqmclSWoFp5dIakuvfOYxXvnMY5Wy3fEY3VEtK0lSK9h0S2pLZ15+Bmdefkal7OODzuDxQdWykiS1gk23JEmSVDObbkmSJKlmNt2SJElSzWy6JUmSpJp5y0BJbembk95ZObt5d/WsJEmtYNMtqS1ds9M+lbPDVlbPSpLUCk4vkdSWdli4gB0WLqiUXR4LWB7VspIktYJNt6S2dMrVZ3PK1WdXyi4cdDYLB1XLSpLUCjbdkiRJUs1suiVJkqSa2XRLkiRJNbPpliRJkmrmLQMltaWz/npa5ewW3dWzkiS1gk23pLb0y9GvrZwdurJ6VpKkVnB6iaS2NO7RBxj36AOVssviAZZFtawkSa1g0y2pLZ1wzUxOuGZmpewTg2byxKBqWUmSWsGmW5IkSapZrXO6I2IK8BWgC/hWZp7aY/smwHeAvYCFwHszc3657TjgI8AK4FOZeXVEbF/mRwIJzMzMr9T5Hl6K0TOuaHUJkiRJagO1nemOiC7gq8BbgHHA4RExrkfsI8CTmbkTcCZwWrnvOGAasDswBfhaebxu4NjMHAfsC3yil2NKkiRJbaXO6SWTgHmZ+UBmLgNmAYf1yBwGnFc+vxg4MCKiXD8rM5/PzAeBecCkzPxzZt4CkJnPAvcA29X4HiRJkqSXLDKzngNHTAWmZOZHy+UPAPtk5tENmTvLzIJy+ffAPsCJwG8y83vl+m8DV2XmxQ37jgauA16dmc/08vpHAUcBjBw5cq9Zs2atUf2LFi1i+PDha7RPT3c8/PRL2r9TjRwKjy5pdRWdqZPG9hW/uxeAR3betWn2gSVFdoehzbNrq5PGtt04tvVpNrbjt9ti/RXTYdZFn6AX29DHdf/99785Myf2tm2DvE93RAwHLgGO6a3hBsjMmcBMgIkTJ+bkyZPX6DXmzp3Lmu7T03TndPfq2PHdnHHHBvnRa3udNbavLv64Yw2yNeqssW0vjm19mo3t/CMmr79iOsy66BP0Yp08rnVOL3kY2L5heVS5rtdMRAwEtqC4oLLPfSNiEEXD/f3M/O9aKpfUchMW3MOEBfdUyi4dcA9LB1TLSpLUCnU23TcCYyNiTEQMprgwcnaPzGzgg+XzqcBPs5jvMhuYFhGbRMQYYCxwQznf+9vAPZn55Rprl9Rin73uPD573XnNg8BTA8/jqYHVspIktUJtv8/LzO6IOBq4muKWgedk5l0RcRJwU2bOpmigvxsR84AnKBpzytyFwN0Udyz5RGauiIjXAx8A7oiI28qX+nxmXlnX+5AkSZJeqlon0ZXN8JU91p3Q8Hwp8O4+9j0ZOLnHul8Ase4rlSRJkurjN1JKkiRJNbPpliRJkmrmPZoktaWTDjyqcnbr5dWzkiS1gk23pLZ098gdKmcHZ/WsJEmt4PQSSW1pv/m3sd/825oHgSUDbmPJgGpZSZJawTPdktrSJ381C4Bfjn5t0+zTA4vs0GXNs5IktYJnuiVJkqSa2XRLkiRJNbPpliRJkmpm0y1JkiTVzAspJbWlzx98dOXsiOXVs5IktYJNt6S29MCIUZWzg7J6VpKkVnB6iaS2dOC86zlw3vWVss8NuJ7nBlTLSpLUCp7pltSWjrzhUgCu2WmfptlnBhbZYcuaZyVJagXPdEuSJEk1s+mWJEmSambTLUmSJNXMpluSJEmqmRdSSmpLnzn02MrZbZZXz0qS1Ao23ZLa0p83f1nl7MCsnpUkqRWcXiKpLR16z3Uces91lbKLu65jcVe1rCRJreCZbklt6f23XgnA5bu9sWn22a4iu+mK5llJklrBM92SJElSzTzTLUnSRmr0jCtaXcJ6N//UQ1pdgjZSnumWJEmSambTLUmSJNXM6SWS2tLH3nFc5ezLllXPSpLUCjbdktrSk8O2qJztonpWkqRWsOmW1Jam3jEHgIvHH9Q0u6iryA5f0TwraeO2ri4ePXZ8N9M3kAtRvXi0PTinW1JbmnrHnNWNdzOLuuasbrwlSWpHNt2SJElSzWy6JUmSpJrZdEuSJEk1s+mWJEmSaubdSyS1penvPrFy9uXLqmclSWoFm25JbWnpoCGVswOonpUkqRWcXiKpLb3/lit4/y3V7oH7bNcVPNu1YdwvV5K0cbLpltSWDr335xx6788rZRd3/ZzFXdWykiS1Qq1Nd0RMiYj7ImJeRMzoZfsmEXFBuf36iBjdsO24cv19EXFw1WNKkiRJ7aa2pjsiuoCvAm8BxgGHR8S4HrGPAE9m5k7AmcBp5b7jgGnA7sAU4GsR0VXxmJIkSVJbqfNCyknAvMx8ACAiZgGHAXc3ZA4DTiyfXwycHRFRrp+Vmc8DD0bEvPJ4VDimJEmSSqNnbDjXvBw7vpvp66De+acesg6qWbfqnF6yHfBQw/KCcl2vmczsBp4GRvSzb5VjSpIkSW2lY28ZGBFHAUeVi4si4r41PMQ2wOPrtioBfMqxrU0nje3rVj057dDK+/yB6tk11Ulj224c2/o4tvVxbOuxrsY1TlsHxaydV/W1oc6m+2Fg+4blUeW63jILImIgsAWwsMm+zY4JQGbOBGaubfERcVNmTlzb/dU3x7Y+jm19HNv6OLb1cWzr49jWo5PHtc7pJTcCYyNiTEQMprgwcnaPzGzgg+XzqcBPMzPL9dPKu5uMAcYCN1Q8piRJktRWajvTnZndEXE0cDXQBZyTmXdFxEnATZk5G/g28N3yQsknKJpoytyFFBdIdgOfyMwVAL0ds673IEmSJK0Ltc7pzswrgSt7rDuh4flS4N197HsycHKVY9ZkraemqCnHtj6ObX0c2/o4tvVxbOvj2NajY8c1itkckiRJkuri18BLkiRJNbPp7sGvmV93ImL7iPhZRNwdEXdFxKfL9SdGxMMRcVv5eGura90QRcT8iLijHMObynVbR8RPIuL+8s+tWl3nhiYidmn4bN4WEc9ExDF+btdORJwTEX+JiDsb1vX6OY3Cf5Q/f2+PiAmtq7z99TG2/y8i7i3H79KI2LJcPzoiljR8fv+zdZW3vz7Gts+fARFxXPm5vS8iDm5N1RuGPsb2goZxnR8Rt5XrO+pz6/SSBuXXzP8OeDPFF+/cCByemX7j5VqIiFcCr8zMWyJiM+Bm4B3Ae4BFmXl6SwvcwEXEfGBiZj7esO7fgCcy89TyH41bZebnWlXjhq78mfAwsA/wIfzcrrGIeCOwCPhOZr66XNfr57RsYj4JvJVizL+Smfu0qvZ218fY/g3FncC6I4o7FZdjOxq4fFVO/etjbE+kl58BETEO+AHFN2dvC8wBdl51Awi9UG9j22P7GcDTmXlSp31uPdP9Qqu/uj4zlwGrvmZeayEz/5yZt5TPnwXuwW8QrdthwHnl8/Mo/pGjtXcg8PvM/EOrC9lQZeZ1FHenatTX5/Qwir+IMzN/A2xZ/uNdvehtbDPzx+U3PAP8huL7LLSG+vjc9uUwYFZmPp+ZDwLzKPoJ9aK/sY2IoDgx94P1WtR6YtP9Qn7NfE3Kf63uCVxfrjq6/PXnOU6BWGsJ/Dgibo7iG1gBRmbmn8vnjwAjW1Nax5jGC3/4+7ldN/r6nPozeN36MHBVw/KYiLg1Iq6NiDe0qqgNXG8/A/zcrjtvAB7NzPsb1nXM59amW7WLiOHAJcAxmfkM8HVgR+C1wJ+BM1pY3obs9Zk5AXgL8InyV3arlV805fyxtRTFF3C9HbioXOXntgZ+TusREf/0/9u7u1ArqjAO48/fDCtDuiiEguiDIgvMootAKEH7kCIwIpQog4KESCQiqpuoi7AujCDoIoxuVJJKlL4owi4yQkvNr7qoKDDkBAWBSVD5djFzaB/bx1TOeNjb5wfDzF57ZlizWCzemVmzFs08F2vapAPAhVV1DfAosDbJjMnK34CyDejeEsY+6BiqemvQPdaxTF2v45DkdJqAe01VvQ1QVSNV9XdVHQZexddwJ6SqfmrXPwMbaMpxZPR1fLv+efJyOPAWAturagSstxNsvHpqGzwBktwP3A7c097U0HZ9+KXd/hL4Drh80jI5gI7SBlhvJ0CSqcCdwBujacNWbw26x3Ka+QnU9s1aDXxdVat60nv7aC4C9hx5rI4uyfT241SSTAdupinHTcDSdrelwMbJyeFQGPPExXo7ocarp5uA+9pRTK6n+ZjqQL8TqL8ktwKPA3dU1aGe9PPaD4NJcglwGfD95ORyMB2lDdgELE4yLcnFNGW79WTnbwgsAL6pqv2jCcNWbzudkXLQjDd1/SRna5DNBe4Fdo8O/wM8BSxJMofmlfIPwEOTk72BNhPY0NzXMBVYW1UfJNkGrE/yAPAjzQcpOk7tjcxNjK2bL1hvj1+SdcA84Nwk+4GngZX0r6fv0Yxc8i1wiGbEGI1jnLJ9EpgGfNS2D59X1TLgBuDZJH8Ch4FlVXWsHwqecsYp23n92oCq2ptkPbCPpkvPw45cMr5+ZVtVq/nvNzQwZPXWIQMlSZKkjtm9RJIkSeqYQbckSZLUMYNuSZIkqWMG3ZIkSVLHDLolSZKkjhl0S9IQSrI5yS1HpK1I8so4+3+S5LqTkztJOvUYdEvScFpHM+5tr37j4EqSTgKDbkkaTm8Ct7Wz65LkIuB8msmpvkiyN8kz/Q5McrBn+64kr7fb5yV5K8m2dpnbpt+YZGe77BidLVWS9C9npJSkIVRVvybZCiykmWZ9MbAeeK797zTg4ySzq2rXMZ72JeDFqvo0yYU0s/fOAh6jmYVvS5KzgT8m/IIkacD5pFuShldvF5PRriV3J9kO7ACuAq48jvMtAF5OshPYBMxog+wtwKoky4FzquqviboASRoWBt2SNLw2AvOTXAucBfxK81R6flXNBt4FzuhzXPVs9/4/Bbi+qua0ywVVdbCqVgIPAmcCW5Jc0cXFSNIgM+iWpCFVVQeBzcBrNE+5ZwC/A78lmUnT9aSfkSSzkkwBFvWkfwg8MvojyZx2fWlV7a6q54FtgEG3JB3BoFuShts64GpgXVV9RdOt5BtgLU23kH6eAN4BPgMO9KQvB65LsivJPmBZm74iyZ4ku4A/gfcn/jIkabClqv5/L0mSJEknzCfdkiRJUscMuiVJkqSOGXRLkiRJHTPoliRJkjpm0C1JkiR1zKBbkiRJ6phBtyRJktQxg25JkiSpY/8AP5VIAwZqzaoAAAAASUVORK5CYII=\n",
>>>>>>> 1928928ee12d7a943ac403fce66d694e769ed130
      "text/plain": [
       "<Figure size 864x432 with 1 Axes>"
      ]
     },
     "metadata": {
      "needs_background": "light"
     },
     "output_type": "display_data"
    }
   ],
   "source": [
    "df['Speed'].hist(figsize=(12,6), density=True, bins=10)\n",
    "plt.title('Histogram for Pokemon Speed Values')\n",
    "plt.xlabel('Values')\n",
    "plt.ylabel('Relative frequency of the values')\n",
    "plt.axvline(df['Speed'].mean(), c='g', linestyle='--', label='mean')\n",
    "plt.axvline(df['Speed'].median(), c='r', linestyle='--', label='median')\n",
    "plt.legend()"
   ]
  },
  {
   "cell_type": "code",
<<<<<<< HEAD
   "execution_count": 20,
   "metadata": {},
   "outputs": [
    {
     "name": "stderr",
     "output_type": "stream",
     "text": [
      "/Users/JoseMontero/opt/anaconda3/lib/python3.7/site-packages/pandas/core/indexing.py:671: SettingWithCopyWarning: \n",
      "A value is trying to be set on a copy of a slice from a DataFrame\n",
      "\n",
      "See the caveats in the documentation: https://pandas.pydata.org/pandas-docs/stable/user_guide/indexing.html#returning-a-view-versus-a-copy\n",
      "  self._setitem_with_indexer(indexer, value)\n"
     ]
    }
   ],
   "source": [
    "#Artifical\n",
    "df['Speed'].iloc[-3] = 1000"
   ]
  },
  {
   "cell_type": "code",
   "execution_count": null,
=======
   "execution_count": 28,
>>>>>>> 1928928ee12d7a943ac403fce66d694e769ed130
   "metadata": {},
   "outputs": [],
   "source": []
  },
  {
   "cell_type": "code",
   "execution_count": 19,
   "metadata": {},
   "outputs": [
    {
     "data": {
      "text/html": [
       "<div>\n",
       "<style scoped>\n",
       "    .dataframe tbody tr th:only-of-type {\n",
       "        vertical-align: middle;\n",
       "    }\n",
       "\n",
       "    .dataframe tbody tr th {\n",
       "        vertical-align: top;\n",
       "    }\n",
       "\n",
       "    .dataframe thead th {\n",
       "        text-align: right;\n",
       "    }\n",
       "</style>\n",
       "<table border=\"1\" class=\"dataframe\">\n",
       "  <thead>\n",
       "    <tr style=\"text-align: right;\">\n",
       "      <th>Speed</th>\n",
       "      <th>5</th>\n",
       "      <th>10</th>\n",
       "      <th>15</th>\n",
       "      <th>20</th>\n",
       "      <th>22</th>\n",
       "      <th>23</th>\n",
       "      <th>24</th>\n",
       "      <th>25</th>\n",
       "      <th>28</th>\n",
       "      <th>29</th>\n",
       "      <th>...</th>\n",
       "      <th>126</th>\n",
       "      <th>127</th>\n",
       "      <th>128</th>\n",
       "      <th>130</th>\n",
       "      <th>135</th>\n",
       "      <th>140</th>\n",
       "      <th>145</th>\n",
       "      <th>150</th>\n",
       "      <th>160</th>\n",
       "      <th>180</th>\n",
       "    </tr>\n",
       "    <tr>\n",
       "      <th>Generation</th>\n",
       "      <th></th>\n",
       "      <th></th>\n",
       "      <th></th>\n",
       "      <th></th>\n",
       "      <th></th>\n",
       "      <th></th>\n",
       "      <th></th>\n",
       "      <th></th>\n",
       "      <th></th>\n",
       "      <th></th>\n",
       "      <th></th>\n",
       "      <th></th>\n",
       "      <th></th>\n",
       "      <th></th>\n",
       "      <th></th>\n",
       "      <th></th>\n",
       "      <th></th>\n",
       "      <th></th>\n",
       "      <th></th>\n",
       "      <th></th>\n",
       "      <th></th>\n",
       "    </tr>\n",
       "  </thead>\n",
       "  <tbody>\n",
       "    <tr>\n",
       "      <th>1</th>\n",
       "      <td>0</td>\n",
       "      <td>0</td>\n",
       "      <td>1</td>\n",
       "      <td>2</td>\n",
       "      <td>0</td>\n",
       "      <td>0</td>\n",
       "      <td>0</td>\n",
       "      <td>3</td>\n",
       "      <td>0</td>\n",
       "      <td>0</td>\n",
       "      <td>...</td>\n",
       "      <td>0</td>\n",
       "      <td>0</td>\n",
       "      <td>0</td>\n",
       "      <td>5</td>\n",
       "      <td>0</td>\n",
       "      <td>2</td>\n",
       "      <td>1</td>\n",
       "      <td>2</td>\n",
       "      <td>0</td>\n",
       "      <td>0</td>\n",
       "    </tr>\n",
       "    <tr>\n",
       "      <th>2</th>\n",
       "      <td>1</td>\n",
       "      <td>0</td>\n",
       "      <td>4</td>\n",
       "      <td>3</td>\n",
       "      <td>0</td>\n",
       "      <td>0</td>\n",
       "      <td>0</td>\n",
       "      <td>0</td>\n",
       "      <td>0</td>\n",
       "      <td>0</td>\n",
       "      <td>...</td>\n",
       "      <td>0</td>\n",
       "      <td>0</td>\n",
       "      <td>0</td>\n",
       "      <td>1</td>\n",
       "      <td>0</td>\n",
       "      <td>0</td>\n",
       "      <td>0</td>\n",
       "      <td>0</td>\n",
       "      <td>0</td>\n",
       "      <td>0</td>\n",
       "    </tr>\n",
       "    <tr>\n",
       "      <th>3</th>\n",
       "      <td>0</td>\n",
       "      <td>1</td>\n",
       "      <td>2</td>\n",
       "      <td>5</td>\n",
       "      <td>0</td>\n",
       "      <td>2</td>\n",
       "      <td>0</td>\n",
       "      <td>4</td>\n",
       "      <td>1</td>\n",
       "      <td>0</td>\n",
       "      <td>...</td>\n",
       "      <td>0</td>\n",
       "      <td>0</td>\n",
       "      <td>0</td>\n",
       "      <td>0</td>\n",
       "      <td>1</td>\n",
       "      <td>0</td>\n",
       "      <td>1</td>\n",
       "      <td>2</td>\n",
       "      <td>1</td>\n",
       "      <td>1</td>\n",
       "    </tr>\n",
       "    <tr>\n",
       "      <th>4</th>\n",
       "      <td>1</td>\n",
       "      <td>1</td>\n",
       "      <td>0</td>\n",
       "      <td>0</td>\n",
       "      <td>0</td>\n",
       "      <td>1</td>\n",
       "      <td>0</td>\n",
       "      <td>1</td>\n",
       "      <td>0</td>\n",
       "      <td>0</td>\n",
       "      <td>...</td>\n",
       "      <td>0</td>\n",
       "      <td>1</td>\n",
       "      <td>0</td>\n",
       "      <td>0</td>\n",
       "      <td>1</td>\n",
       "      <td>0</td>\n",
       "      <td>0</td>\n",
       "      <td>0</td>\n",
       "      <td>0</td>\n",
       "      <td>0</td>\n",
       "    </tr>\n",
       "    <tr>\n",
       "      <th>5</th>\n",
       "      <td>0</td>\n",
       "      <td>1</td>\n",
       "      <td>2</td>\n",
       "      <td>5</td>\n",
       "      <td>1</td>\n",
       "      <td>0</td>\n",
       "      <td>1</td>\n",
       "      <td>2</td>\n",
       "      <td>0</td>\n",
       "      <td>1</td>\n",
       "      <td>...</td>\n",
       "      <td>0</td>\n",
       "      <td>0</td>\n",
       "      <td>1</td>\n",
       "      <td>0</td>\n",
       "      <td>0</td>\n",
       "      <td>0</td>\n",
       "      <td>1</td>\n",
       "      <td>0</td>\n",
       "      <td>0</td>\n",
       "      <td>0</td>\n",
       "    </tr>\n",
       "    <tr>\n",
       "      <th>6</th>\n",
       "      <td>0</td>\n",
       "      <td>0</td>\n",
       "      <td>0</td>\n",
       "      <td>0</td>\n",
       "      <td>0</td>\n",
       "      <td>1</td>\n",
       "      <td>0</td>\n",
       "      <td>0</td>\n",
       "      <td>3</td>\n",
       "      <td>2</td>\n",
       "      <td>...</td>\n",
       "      <td>1</td>\n",
       "      <td>0</td>\n",
       "      <td>0</td>\n",
       "      <td>0</td>\n",
       "      <td>0</td>\n",
       "      <td>0</td>\n",
       "      <td>0</td>\n",
       "      <td>0</td>\n",
       "      <td>0</td>\n",
       "      <td>0</td>\n",
       "    </tr>\n",
       "  </tbody>\n",
       "</table>\n",
       "<p>6 rows × 108 columns</p>\n",
       "</div>"
      ],
      "text/plain": [
       "Speed       5    10   15   20   22   23   24   25   28   29   ...  126  127  \\\n",
       "Generation                                                    ...             \n",
       "1             0    0    1    2    0    0    0    3    0    0  ...    0    0   \n",
       "2             1    0    4    3    0    0    0    0    0    0  ...    0    0   \n",
       "3             0    1    2    5    0    2    0    4    1    0  ...    0    0   \n",
       "4             1    1    0    0    0    1    0    1    0    0  ...    0    1   \n",
       "5             0    1    2    5    1    0    1    2    0    1  ...    0    0   \n",
       "6             0    0    0    0    0    1    0    0    3    2  ...    1    0   \n",
       "\n",
       "Speed       128  130  135  140  145  150  160  180  \n",
       "Generation                                          \n",
       "1             0    5    0    2    1    2    0    0  \n",
       "2             0    1    0    0    0    0    0    0  \n",
       "3             0    0    1    0    1    2    1    1  \n",
       "4             0    0    1    0    0    0    0    0  \n",
       "5             1    0    0    0    1    0    0    0  \n",
       "6             0    0    0    0    0    0    0    0  \n",
       "\n",
       "[6 rows x 108 columns]"
      ]
     },
     "execution_count": 19,
     "metadata": {},
     "output_type": "execute_result"
    }
   ],
   "source": [
    "#Artificially add in an outlier\n",
    "# df['Speed'].iloc[-3] = 5000"
   ]
  },
  {
   "cell_type": "code",
   "execution_count": 29,
   "metadata": {},
   "outputs": [
    {
     "data": {
      "text/plain": [
       "(68.2775, 65.0)"
      ]
     },
     "execution_count": 29,
     "metadata": {},
     "output_type": "execute_result"
    }
   ],
   "source": [
    "df['Speed'].mean(), df['Speed'].median()"
   ]
  },
  {
   "cell_type": "code",
   "execution_count": 30,
   "metadata": {},
   "outputs": [
    {
     "data": {
      "text/html": [
       "<div>\n",
       "<style scoped>\n",
       "    .dataframe tbody tr th:only-of-type {\n",
       "        vertical-align: middle;\n",
       "    }\n",
       "\n",
       "    .dataframe tbody tr th {\n",
       "        vertical-align: top;\n",
       "    }\n",
       "\n",
       "    .dataframe thead th {\n",
       "        text-align: right;\n",
       "    }\n",
       "</style>\n",
       "<table border=\"1\" class=\"dataframe\">\n",
       "  <thead>\n",
       "    <tr style=\"text-align: right;\">\n",
       "      <th>Speed</th>\n",
       "      <th>5</th>\n",
       "      <th>10</th>\n",
       "      <th>15</th>\n",
       "      <th>20</th>\n",
       "      <th>22</th>\n",
       "      <th>23</th>\n",
       "      <th>24</th>\n",
       "      <th>25</th>\n",
       "      <th>28</th>\n",
       "      <th>29</th>\n",
       "      <th>...</th>\n",
       "      <th>126</th>\n",
       "      <th>127</th>\n",
       "      <th>128</th>\n",
       "      <th>130</th>\n",
       "      <th>135</th>\n",
       "      <th>140</th>\n",
       "      <th>145</th>\n",
       "      <th>150</th>\n",
       "      <th>160</th>\n",
       "      <th>180</th>\n",
       "    </tr>\n",
       "    <tr>\n",
       "      <th>Generation</th>\n",
       "      <th></th>\n",
       "      <th></th>\n",
       "      <th></th>\n",
       "      <th></th>\n",
       "      <th></th>\n",
       "      <th></th>\n",
       "      <th></th>\n",
       "      <th></th>\n",
       "      <th></th>\n",
       "      <th></th>\n",
       "      <th></th>\n",
       "      <th></th>\n",
       "      <th></th>\n",
       "      <th></th>\n",
       "      <th></th>\n",
       "      <th></th>\n",
       "      <th></th>\n",
       "      <th></th>\n",
       "      <th></th>\n",
       "      <th></th>\n",
       "      <th></th>\n",
       "    </tr>\n",
       "  </thead>\n",
       "  <tbody>\n",
       "    <tr>\n",
       "      <th>1</th>\n",
       "      <td>0</td>\n",
       "      <td>0</td>\n",
       "      <td>1</td>\n",
       "      <td>2</td>\n",
       "      <td>0</td>\n",
       "      <td>0</td>\n",
       "      <td>0</td>\n",
       "      <td>3</td>\n",
       "      <td>0</td>\n",
       "      <td>0</td>\n",
       "      <td>...</td>\n",
       "      <td>0</td>\n",
       "      <td>0</td>\n",
       "      <td>0</td>\n",
       "      <td>5</td>\n",
       "      <td>0</td>\n",
       "      <td>2</td>\n",
       "      <td>1</td>\n",
       "      <td>2</td>\n",
       "      <td>0</td>\n",
       "      <td>0</td>\n",
       "    </tr>\n",
       "    <tr>\n",
       "      <th>2</th>\n",
       "      <td>1</td>\n",
       "      <td>0</td>\n",
       "      <td>4</td>\n",
       "      <td>3</td>\n",
       "      <td>0</td>\n",
       "      <td>0</td>\n",
       "      <td>0</td>\n",
       "      <td>0</td>\n",
       "      <td>0</td>\n",
       "      <td>0</td>\n",
       "      <td>...</td>\n",
       "      <td>0</td>\n",
       "      <td>0</td>\n",
       "      <td>0</td>\n",
       "      <td>1</td>\n",
       "      <td>0</td>\n",
       "      <td>0</td>\n",
       "      <td>0</td>\n",
       "      <td>0</td>\n",
       "      <td>0</td>\n",
       "      <td>0</td>\n",
       "    </tr>\n",
       "    <tr>\n",
       "      <th>3</th>\n",
       "      <td>0</td>\n",
       "      <td>1</td>\n",
       "      <td>2</td>\n",
       "      <td>5</td>\n",
       "      <td>0</td>\n",
       "      <td>2</td>\n",
       "      <td>0</td>\n",
       "      <td>4</td>\n",
       "      <td>1</td>\n",
       "      <td>0</td>\n",
       "      <td>...</td>\n",
       "      <td>0</td>\n",
       "      <td>0</td>\n",
       "      <td>0</td>\n",
       "      <td>0</td>\n",
       "      <td>1</td>\n",
       "      <td>0</td>\n",
       "      <td>1</td>\n",
       "      <td>2</td>\n",
       "      <td>1</td>\n",
       "      <td>1</td>\n",
       "    </tr>\n",
       "    <tr>\n",
       "      <th>4</th>\n",
       "      <td>1</td>\n",
       "      <td>1</td>\n",
       "      <td>0</td>\n",
       "      <td>0</td>\n",
       "      <td>0</td>\n",
       "      <td>1</td>\n",
       "      <td>0</td>\n",
       "      <td>1</td>\n",
       "      <td>0</td>\n",
       "      <td>0</td>\n",
       "      <td>...</td>\n",
       "      <td>0</td>\n",
       "      <td>1</td>\n",
       "      <td>0</td>\n",
       "      <td>0</td>\n",
       "      <td>1</td>\n",
       "      <td>0</td>\n",
       "      <td>0</td>\n",
       "      <td>0</td>\n",
       "      <td>0</td>\n",
       "      <td>0</td>\n",
       "    </tr>\n",
       "    <tr>\n",
       "      <th>5</th>\n",
       "      <td>0</td>\n",
       "      <td>1</td>\n",
       "      <td>2</td>\n",
       "      <td>5</td>\n",
       "      <td>1</td>\n",
       "      <td>0</td>\n",
       "      <td>1</td>\n",
       "      <td>2</td>\n",
       "      <td>0</td>\n",
       "      <td>1</td>\n",
       "      <td>...</td>\n",
       "      <td>0</td>\n",
       "      <td>0</td>\n",
       "      <td>1</td>\n",
       "      <td>0</td>\n",
       "      <td>0</td>\n",
       "      <td>0</td>\n",
       "      <td>1</td>\n",
       "      <td>0</td>\n",
       "      <td>0</td>\n",
       "      <td>0</td>\n",
       "    </tr>\n",
       "    <tr>\n",
       "      <th>6</th>\n",
       "      <td>0</td>\n",
       "      <td>0</td>\n",
       "      <td>0</td>\n",
       "      <td>0</td>\n",
       "      <td>0</td>\n",
       "      <td>1</td>\n",
       "      <td>0</td>\n",
       "      <td>0</td>\n",
       "      <td>3</td>\n",
       "      <td>2</td>\n",
       "      <td>...</td>\n",
       "      <td>1</td>\n",
       "      <td>0</td>\n",
       "      <td>0</td>\n",
       "      <td>0</td>\n",
       "      <td>0</td>\n",
       "      <td>0</td>\n",
       "      <td>0</td>\n",
       "      <td>0</td>\n",
       "      <td>0</td>\n",
       "      <td>0</td>\n",
       "    </tr>\n",
       "  </tbody>\n",
       "</table>\n",
       "<p>6 rows × 108 columns</p>\n",
       "</div>"
      ],
      "text/plain": [
       "Speed       5    10   15   20   22   23   24   25   28   29   ...  126  127  \\\n",
       "Generation                                                    ...             \n",
       "1             0    0    1    2    0    0    0    3    0    0  ...    0    0   \n",
       "2             1    0    4    3    0    0    0    0    0    0  ...    0    0   \n",
       "3             0    1    2    5    0    2    0    4    1    0  ...    0    0   \n",
       "4             1    1    0    0    0    1    0    1    0    0  ...    0    1   \n",
       "5             0    1    2    5    1    0    1    2    0    1  ...    0    0   \n",
       "6             0    0    0    0    0    1    0    0    3    2  ...    1    0   \n",
       "\n",
       "Speed       128  130  135  140  145  150  160  180  \n",
       "Generation                                          \n",
       "1             0    5    0    2    1    2    0    0  \n",
       "2             0    1    0    0    0    0    0    0  \n",
       "3             0    0    1    0    1    2    1    1  \n",
       "4             0    0    1    0    0    0    0    0  \n",
       "5             1    0    0    0    1    0    0    0  \n",
       "6             0    0    0    0    0    0    0    0  \n",
       "\n",
       "[6 rows x 108 columns]"
      ]
     },
     "execution_count": 30,
     "metadata": {},
     "output_type": "execute_result"
    }
   ],
   "source": [
    "# Crosstab\n",
    "pd.crosstab(df.Generation, df.Speed)"
   ]
  },
  {
   "cell_type": "markdown",
   "metadata": {},
   "source": [
    "### Correlations"
   ]
  },
  {
   "cell_type": "code",
<<<<<<< HEAD
   "execution_count": 21,
=======
   "execution_count": 31,
>>>>>>> 1928928ee12d7a943ac403fce66d694e769ed130
   "metadata": {},
   "outputs": [],
   "source": [
    "correlations = df.corr()"
   ]
  },
  {
   "cell_type": "code",
<<<<<<< HEAD
   "execution_count": 22,
=======
   "execution_count": 32,
>>>>>>> 1928928ee12d7a943ac403fce66d694e769ed130
   "metadata": {},
   "outputs": [],
   "source": [
    "import seaborn as sns"
   ]
  },
  {
   "cell_type": "code",
<<<<<<< HEAD
   "execution_count": 23,
=======
   "execution_count": 33,
>>>>>>> 1928928ee12d7a943ac403fce66d694e769ed130
   "metadata": {},
   "outputs": [
    {
     "data": {
      "text/plain": [
<<<<<<< HEAD
       "<matplotlib.axes._subplots.AxesSubplot at 0x1a1f485150>"
      ]
     },
     "execution_count": 23,
=======
       "<matplotlib.axes._subplots.AxesSubplot at 0x126d62ac8>"
      ]
     },
     "execution_count": 33,
>>>>>>> 1928928ee12d7a943ac403fce66d694e769ed130
     "metadata": {},
     "output_type": "execute_result"
    },
    {
     "data": {
<<<<<<< HEAD
      "image/png": "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\n",
=======
      "image/png": "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\n",
>>>>>>> 1928928ee12d7a943ac403fce66d694e769ed130
      "text/plain": [
       "<Figure size 864x576 with 2 Axes>"
      ]
     },
     "metadata": {
      "needs_background": "light"
     },
     "output_type": "display_data"
    }
   ],
   "source": [
    "plt.figure(figsize=(12, 8))\n",
    "sns.heatmap(correlations, annot=True)"
   ]
  },
  {
   "cell_type": "markdown",
   "metadata": {},
   "source": [
    "### Joint Distributions (BONUS)"
   ]
  },
  {
   "cell_type": "code",
<<<<<<< HEAD
   "execution_count": 24,
=======
   "execution_count": 34,
>>>>>>> 1928928ee12d7a943ac403fce66d694e769ed130
   "metadata": {},
   "outputs": [
    {
     "data": {
      "text/plain": [
<<<<<<< HEAD
       "<mpl_toolkits.mplot3d.art3d.Poly3DCollection at 0x1a1fcf1e90>"
      ]
     },
     "execution_count": 24,
=======
       "<mpl_toolkits.mplot3d.art3d.Poly3DCollection at 0x126e14b00>"
      ]
     },
     "execution_count": 34,
>>>>>>> 1928928ee12d7a943ac403fce66d694e769ed130
     "metadata": {},
     "output_type": "execute_result"
    },
    {
     "data": {
<<<<<<< HEAD
      "image/png": "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\n",
=======
      "image/png": "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\n",
>>>>>>> 1928928ee12d7a943ac403fce66d694e769ed130
      "text/plain": [
       "<Figure size 864x576 with 1 Axes>"
      ]
     },
     "metadata": {
      "needs_background": "light"
     },
     "output_type": "display_data"
    }
   ],
   "source": [
    "#! pip install mpl_toolkits\n",
    "from mpl_toolkits import mplot3d\n",
    "\n",
    "fig = plt.figure(figsize=(12, 8))\n",
    "ax = fig.add_subplot(projection='3d')\n",
    "hist, xedges, yedges = np.histogram2d(df['Speed'], df['Total']) \n",
    "\n",
    "xpos, ypos = np.meshgrid(xedges[:-1] + 0.25, yedges[:-1] + 0.25, indexing=\"ij\")\n",
    "xpos = xpos.ravel()\n",
    "ypos = ypos.ravel()\n",
    "zpos = 0\n",
    "\n",
    "dx = dy = 2 * np.ones_like(zpos)\n",
    "dz = hist.ravel()\n",
    "\n",
    "ax.bar3d(xpos, ypos, zpos, dx, dy, dz, zsort='average', shade=True)"
   ]
  },
  {
   "cell_type": "code",
   "execution_count": null,
   "metadata": {},
   "outputs": [],
   "source": []
  }
 ],
 "metadata": {
  "kernelspec": {
   "display_name": "Python 3",
   "language": "python",
   "name": "python3"
  },
  "language_info": {
   "codemirror_mode": {
    "name": "ipython",
    "version": 3
   },
   "file_extension": ".py",
   "mimetype": "text/x-python",
   "name": "python",
   "nbconvert_exporter": "python",
   "pygments_lexer": "ipython3",
   "version": "3.7.7"
  }
 },
 "nbformat": 4,
 "nbformat_minor": 4
}

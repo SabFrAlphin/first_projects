{
 "cells": [
  {
   "cell_type": "markdown",
   "metadata": {},
   "source": [
    "# Titanic Machine Learning\n",
    "## 1. Problem definition:\n",
    "- Titanic  is based on the sinking of the ‘Unsinkable’ ship Titanic in the early 1912. The dataset 'train' provides information about multiple passengers, including their ages, sexes, sibling counts, embarkment points and whether or not they survived the disaster. Based on these features, I have tried to predict if an arbitrary passenger on Titanic would survive the sinking\n",
    "\n",
    "### Approach\n",
    "- 1.1 Split train and test data set for validation \n",
    "- 2. Feature engineer the variables to be fit for the model for both the training and test data\n",
    "- 3. Train a LogReg model \n",
    "- 3.1 Calculate test score and cross validate\n",
    "- 4. Train and test Random Forest model\n",
    "- 4.1 Calculate test score and cross validate\n",
    "- 5. Optimize Hyperparameters"
   ]
  },
  {
   "cell_type": "code",
   "execution_count": 2,
   "metadata": {},
   "outputs": [],
   "source": [
    "# import libraries\n",
    "import pandas as pd\n",
    "import matplotlib.pyplot as plt\n",
    "import seaborn as sns\n",
    "import numpy as np\n",
    "\n",
    "from sklearn.linear_model import LogisticRegression\n",
    "from sklearn.model_selection import train_test_split\n",
    "from sklearn.model_selection import RandomizedSearchCV\n",
    "\n",
    "from sklearn.metrics import accuracy_score\n",
    "from sklearn.metrics import precision_score\n",
    "from sklearn.metrics import recall_score\n",
    "from sklearn.metrics import f1_score\n",
    "\n",
    "from scipy import stats\n",
    "\n",
    "from sklearn.ensemble import RandomForestClassifier\n",
    "from sklearn.metrics import confusion_matrix\n",
    "\n",
    "%matplotlib inline"
   ]
  },
  {
   "cell_type": "code",
   "execution_count": 3,
   "metadata": {
    "scrolled": true
   },
   "outputs": [],
   "source": [
    "#import data sets\n",
    "train = pd.read_csv('/Users/sabrinafruhauf/Desktop/05_SpicedCourse/Week_02_machine_learning/train.csv')\n",
    "kaggle = pd.read_csv('/Users/sabrinafruhauf/Desktop/05_SpicedCourse/Week_02_machine_learning/test.csv')"
   ]
  },
  {
   "cell_type": "markdown",
   "metadata": {},
   "source": [
    "## 1.1 Split data set in test and train"
   ]
  },
  {
   "cell_type": "code",
   "execution_count": 4,
   "metadata": {},
   "outputs": [],
   "source": [
    "x = train[['PassengerId', 'Pclass','Sex','Age','SibSp','Parch','Fare','Cabin','Embarked']]\n",
    "y = train['Survived']"
   ]
  },
  {
   "cell_type": "code",
   "execution_count": 5,
   "metadata": {},
   "outputs": [
    {
     "data": {
      "text/plain": [
       "((712, 9), (179, 9), (712,), (179,))"
      ]
     },
     "execution_count": 5,
     "metadata": {},
     "output_type": "execute_result"
    }
   ],
   "source": [
    "xtrain, xtest, ytrain, ytest = train_test_split(x,y, test_size=0.2, random_state=42)\n",
    "xtrain.shape, xtest.shape, ytrain.shape, ytest.shape"
   ]
  },
  {
   "cell_type": "code",
   "execution_count": 6,
   "metadata": {},
   "outputs": [
    {
     "data": {
      "text/plain": [
       "((712, 10), (179, 10))"
      ]
     },
     "execution_count": 6,
     "metadata": {},
     "output_type": "execute_result"
    }
   ],
   "source": [
    "df_train = pd.concat([ytrain, xtrain], axis=1)\n",
    "df_test = pd.concat([ytest, xtest], axis=1)\n",
    "\n",
    "df_train.shape, df_test.shape"
   ]
  },
  {
   "cell_type": "markdown",
   "metadata": {},
   "source": [
    "## 2. Feature engineering of the dataset"
   ]
  },
  {
   "cell_type": "markdown",
   "metadata": {},
   "source": [
    "### Check for missing values in all data sets\n",
    "- missing values age\n",
    "- missing values in Cabin, Embarked and Fare"
   ]
  },
  {
   "cell_type": "code",
   "execution_count": 7,
   "metadata": {},
   "outputs": [
    {
     "data": {
      "text/plain": [
       "Survived         0\n",
       "PassengerId      0\n",
       "Pclass           0\n",
       "Sex              0\n",
       "Age            140\n",
       "SibSp            0\n",
       "Parch            0\n",
       "Fare             0\n",
       "Cabin          553\n",
       "Embarked         2\n",
       "dtype: int64"
      ]
     },
     "execution_count": 7,
     "metadata": {},
     "output_type": "execute_result"
    }
   ],
   "source": [
    "df_train.isnull().sum()"
   ]
  },
  {
   "cell_type": "code",
   "execution_count": 8,
   "metadata": {},
   "outputs": [
    {
     "data": {
      "text/plain": [
       "Survived         0\n",
       "PassengerId      0\n",
       "Pclass           0\n",
       "Sex              0\n",
       "Age             37\n",
       "SibSp            0\n",
       "Parch            0\n",
       "Fare             0\n",
       "Cabin          134\n",
       "Embarked         0\n",
       "dtype: int64"
      ]
     },
     "execution_count": 8,
     "metadata": {},
     "output_type": "execute_result"
    }
   ],
   "source": [
    "df_test.isnull().sum()"
   ]
  },
  {
   "cell_type": "code",
   "execution_count": 9,
   "metadata": {},
   "outputs": [
    {
     "data": {
      "text/plain": [
       "PassengerId      0\n",
       "Pclass           0\n",
       "Name             0\n",
       "Sex              0\n",
       "Age             86\n",
       "SibSp            0\n",
       "Parch            0\n",
       "Ticket           0\n",
       "Fare             1\n",
       "Cabin          327\n",
       "Embarked         0\n",
       "dtype: int64"
      ]
     },
     "execution_count": 9,
     "metadata": {},
     "output_type": "execute_result"
    }
   ],
   "source": [
    "kaggle.isnull().sum()"
   ]
  },
  {
   "cell_type": "markdown",
   "metadata": {},
   "source": [
    "### Treating missing values in the data set\n",
    "- Replace missing age values with mean of Pclass and Sex\n",
    "- Replace missing Embarked port with Southhampton as most people embarked here and its only 2 missing rows"
   ]
  },
  {
   "cell_type": "code",
   "execution_count": 10,
   "metadata": {},
   "outputs": [],
   "source": [
    "age = ['Age']\n",
    "\n",
    "def fill_missing_values_age (df, fcol):\n",
    "    means = df[fcol].fillna(df.groupby(['Pclass','Sex'])['Age'].transform('mean'))\n",
    "    fcol2 = df[fcol].copy()\n",
    "    fcol2[fcol2.isna()] = means\n",
    "    df[fcol] = fcol2\n",
    "\n",
    "\n",
    "for fcol in age:\n",
    "    fill_missing_values_age(df_train, fcol)\n",
    "    fill_missing_values_age(df_test, fcol)\n",
    "    fill_missing_values_age(kaggle, fcol)"
   ]
  },
  {
   "cell_type": "code",
   "execution_count": 11,
   "metadata": {},
   "outputs": [],
   "source": [
    "embark = ['Embarked']\n",
    "\n",
    "def fill_missing_values_embark (df, fcol):\n",
    "    fill = df[fcol].fillna('S')\n",
    "    fcol2 = df[fcol].copy()\n",
    "    fcol2[fcol2.isna()] = fill\n",
    "    df[fcol] = fcol2\n",
    "\n",
    "\n",
    "for fcol in embark:\n",
    "    fill_missing_values_embark(df_train, fcol)\n",
    "    fill_missing_values_embark(df_test, fcol)\n",
    "    fill_missing_values_embark(kaggle, fcol)"
   ]
  },
  {
   "cell_type": "code",
   "execution_count": 12,
   "metadata": {},
   "outputs": [],
   "source": [
    "fare = ['Fare']\n",
    "\n",
    "def fill_missing_values_fare (df, fcol):\n",
    "    median = df[fcol].fillna(df.Fare.median())\n",
    "    fcol2 = df[fcol].copy()\n",
    "    fcol2[fcol2.isna()] = median\n",
    "    df[fcol] = fcol2\n",
    "\n",
    "\n",
    "for fcol in fare:\n",
    "    fill_missing_values_fare(df_train, fcol)\n",
    "    fill_missing_values_fare(df_test, fcol)\n",
    "    fill_missing_values_fare(kaggle, fcol)"
   ]
  },
  {
   "cell_type": "code",
   "execution_count": 13,
   "metadata": {},
   "outputs": [
    {
     "data": {
      "text/plain": [
       "(Survived         0\n",
       " PassengerId      0\n",
       " Pclass           0\n",
       " Sex              0\n",
       " Age              0\n",
       " SibSp            0\n",
       " Parch            0\n",
       " Fare             0\n",
       " Cabin          553\n",
       " Embarked         0\n",
       " dtype: int64,\n",
       " Survived         0\n",
       " PassengerId      0\n",
       " Pclass           0\n",
       " Sex              0\n",
       " Age              0\n",
       " SibSp            0\n",
       " Parch            0\n",
       " Fare             0\n",
       " Cabin          134\n",
       " Embarked         0\n",
       " dtype: int64,\n",
       " PassengerId      0\n",
       " Pclass           0\n",
       " Name             0\n",
       " Sex              0\n",
       " Age              0\n",
       " SibSp            0\n",
       " Parch            0\n",
       " Ticket           0\n",
       " Fare             0\n",
       " Cabin          327\n",
       " Embarked         0\n",
       " dtype: int64)"
      ]
     },
     "execution_count": 13,
     "metadata": {},
     "output_type": "execute_result"
    }
   ],
   "source": [
    "df_train.isnull().sum(), df_test.isnull().sum(), kaggle.isnull().sum()"
   ]
  },
  {
   "cell_type": "markdown",
   "metadata": {},
   "source": [
    "Mapping string male and female to a binary value 0,1"
   ]
  },
  {
   "cell_type": "code",
   "execution_count": 14,
   "metadata": {},
   "outputs": [],
   "source": [
    "mapping = {'male':0, 'female':1}\n",
    "df_train = df_train.replace({'Sex':mapping})\n",
    "df_test = df_test.replace({'Sex':mapping})\n",
    "kaggle = kaggle.replace({'Sex':mapping})"
   ]
  },
  {
   "cell_type": "markdown",
   "metadata": {},
   "source": [
    "Use one hot encoding to convert column 'Embarked' and attach at the end of the data frame"
   ]
  },
  {
   "cell_type": "code",
   "execution_count": 15,
   "metadata": {},
   "outputs": [],
   "source": [
    "onehot_train = pd.get_dummies(df_train['Embarked'], prefix='Embarked_')\n",
    "df_train2 = pd.concat([df_train, onehot_train], axis=1)\n",
    "onehot_test = pd.get_dummies(df_test['Embarked'], prefix='Embarked_')\n",
    "df_test2 = pd.concat([df_test, onehot_test], axis=1)\n",
    "onehot_kaggle = pd.get_dummies(kaggle['Embarked'], prefix='Embarked_')\n",
    "kaggle2 = pd.concat([kaggle, onehot_kaggle], axis=1)"
   ]
  },
  {
   "cell_type": "markdown",
   "metadata": {},
   "source": [
    "Include 4 bins for column Age in the data set and append at the end"
   ]
  },
  {
   "cell_type": "code",
   "execution_count": 16,
   "metadata": {
    "scrolled": true
   },
   "outputs": [],
   "source": [
    "bins1 = pd.IntervalIndex.from_tuples([(0, 16), (16.01, 30), (30.01, 90)])\n",
    "bins_train = pd.cut(df_train2['Age'], bins1)\n",
    "bins_train = pd.get_dummies(bins_train, prefix='Age')\n",
    "df_train3 = pd.concat([df_train2, bins_train], axis=1)\n",
    "df_train3 = df_train3.rename(columns={1:'Pclass_1',2:'Pclass_2',3:'Pclass_3', 'Age_(0.0, 16.0]':'Age_0-16', 'Age_(16.01, 30.0]':'Age_16-30','Age_(30.01, 90.0]':'Age_30-90'})\n",
    "\n",
    "bins_test = pd.cut(df_test2['Age'], bins1)\n",
    "bins_test = pd.get_dummies(bins_test, prefix='Age')\n",
    "df_test3 = pd.concat([df_test2, bins_test], axis=1)\n",
    "df_test3 = df_test3.rename(columns={1:'Pclass_1',2:'Pclass_2',3:'Pclass_3', 'Age_(0.0, 16.0]':'Age_0-16', 'Age_(16.01, 30.0]':'Age_16-30','Age_(30.01, 90.0]':'Age_30-90'})\n",
    "\n",
    "bins_kaggle = pd.cut(kaggle2['Age'], bins1)\n",
    "bins_kaggle = pd.get_dummies(bins_kaggle, prefix='Age')\n",
    "kaggle3 = pd.concat([kaggle2, bins_kaggle], axis=1)\n",
    "kaggle3 = kaggle3.rename(columns={1:'Pclass_1',2:'Pclass_2',3:'Pclass_3', 'Age_(0.0, 16.0]':'Age_0-16', 'Age_(16.01, 30.0]':'Age_16-30','Age_(30.01, 90.0]':'Age_30-90'})\n"
   ]
  },
  {
   "cell_type": "markdown",
   "metadata": {},
   "source": [
    "### Rechecking feature correlation to Survival rate\n",
    "- Sex, Pclass, Fare, Embarked_C,Embarked_S,(I will add Embarked_Q), Parch and Age all have reasonable correlation to 'Survived'\n",
    "- thus these features will be used to train the model"
   ]
  },
  {
   "cell_type": "code",
   "execution_count": 17,
   "metadata": {},
   "outputs": [
    {
     "data": {
      "image/png": "[encoded data removed]",
      "text/plain": [
       "<Figure size 720x720 with 2 Axes>"
      ]
     },
     "metadata": {
      "needs_background": "light"
     },
     "output_type": "display_data"
    }
   ],
   "source": [
    "corr=df_train3.corr() #[\"Survived\"]\n",
    "plt.figure(figsize=(10, 10))\n",
    "sns.heatmap(corr, vmax=.8, linewidths=0.01,\n",
    "            square=True,annot=True,cmap='Blues',linecolor=\"white\")\n",
    "plt.title('Correlation between features')\n",
    "plt.savefig(\"plots/feature_corr.png\")"
   ]
  },
  {
   "cell_type": "code",
   "execution_count": 18,
   "metadata": {},
   "outputs": [
    {
     "data": {
      "text/plain": [
       "Survived       1.000000\n",
       "Sex            0.541750\n",
       "Pclass         0.321750\n",
       "Fare           0.246641\n",
       "Embarked__C    0.159632\n",
       "Embarked__S    0.134623\n",
       "Age_0-16       0.114226\n",
       "Age_16-30      0.111674\n",
       "Parch          0.078311\n",
       "Age            0.054586\n",
       "SibSp          0.047602\n",
       "Age_30-90      0.040343\n",
       "PassengerId    0.019979\n",
       "Embarked__Q    0.006097\n",
       "Name: Survived, dtype: float64"
      ]
     },
     "execution_count": 18,
     "metadata": {},
     "output_type": "execute_result"
    }
   ],
   "source": [
    "df_train3.corr()[\"Survived\"].abs().sort_values(ascending=False)"
   ]
  },
  {
   "cell_type": "markdown",
   "metadata": {},
   "source": [
    "## 3. Train a LogReg model"
   ]
  },
  {
   "cell_type": "code",
   "execution_count": 19,
   "metadata": {},
   "outputs": [],
   "source": [
    "# define the variables for training and testing\n",
    "x_train = df_train3[['Sex','Pclass','Fare','Embarked__C','Embarked__S','Embarked__Q','Parch','Age']]\n",
    "y_train = df_train3['Survived'] \n",
    "x_test = df_test3[['Sex','Pclass','Fare','Embarked__C','Embarked__S','Embarked__Q','Parch','Age']]\n",
    "y_test = df_test3['Survived']\n",
    "x_kaggle = kaggle3[['Sex','Pclass','Fare','Embarked__C','Embarked__S','Embarked__Q','Parch','Age']]"
   ]
  },
  {
   "cell_type": "code",
   "execution_count": 20,
   "metadata": {},
   "outputs": [
    {
     "data": {
      "text/plain": [
       "((712, 8), (712,), (179, 8), (179,), (418, 8))"
      ]
     },
     "execution_count": 20,
     "metadata": {},
     "output_type": "execute_result"
    }
   ],
   "source": [
    "x_train.shape, y_train.shape, x_test.shape, y_test.shape, x_kaggle.shape"
   ]
  },
  {
   "cell_type": "code",
   "execution_count": 21,
   "metadata": {},
   "outputs": [
    {
     "data": {
      "text/plain": [
       "LogisticRegression(C=1.0, class_weight=None, dual=False, fit_intercept=True,\n",
       "                   intercept_scaling=1, l1_ratio=None, max_iter=2000,\n",
       "                   multi_class='auto', n_jobs=None, penalty='l2',\n",
       "                   random_state=None, solver='lbfgs', tol=0.0001, verbose=0,\n",
       "                   warm_start=False)"
      ]
     },
     "execution_count": 21,
     "metadata": {},
     "output_type": "execute_result"
    }
   ],
   "source": [
    "# fit the model\n",
    "model_lg = LogisticRegression(max_iter=2000) #initialise model\n",
    "model_lg.fit(x_train, y_train)"
   ]
  },
  {
   "cell_type": "code",
   "execution_count": 22,
   "metadata": {},
   "outputs": [
    {
     "name": "stdout",
     "output_type": "stream",
     "text": [
      "training score:  0.791\n",
      "test score:  0.804\n"
     ]
    }
   ],
   "source": [
    "# show training and test score\n",
    "print('training score: ',model_lg.score(x_train,y_train).round(3))\n",
    "print('test score: ',model_lg.score(x_test,y_test).round(3)) #check the data and how good the model is"
   ]
  },
  {
   "cell_type": "code",
   "execution_count": 23,
   "metadata": {},
   "outputs": [],
   "source": [
    "# predict y values\n",
    "y_train_pred = model_lg.predict(x_train)\n",
    "y_test_pred = model_lg.predict(x_test)\n",
    "y_kaggle_pred = model_lg.predict(x_kaggle)"
   ]
  },
  {
   "cell_type": "markdown",
   "metadata": {},
   "source": [
    "## 3.1 Calculate test score and cross validate"
   ]
  },
  {
   "cell_type": "code",
   "execution_count": 24,
   "metadata": {},
   "outputs": [
    {
     "data": {
      "text/plain": [
       "(0.7907303370786517, 0.8044692737430168)"
      ]
     },
     "execution_count": 24,
     "metadata": {},
     "output_type": "execute_result"
    }
   ],
   "source": [
    "# Accuracy\n",
    "accuracy_score(y_train, y_train_pred), accuracy_score(y_test, y_test_pred)"
   ]
  },
  {
   "cell_type": "code",
   "execution_count": 25,
   "metadata": {},
   "outputs": [
    {
     "data": {
      "text/plain": [
       "(0.7389558232931727, 0.782608695652174)"
      ]
     },
     "execution_count": 25,
     "metadata": {},
     "output_type": "execute_result"
    }
   ],
   "source": [
    "# Precision\n",
    "precision_score(y_train, y_train_pred), precision_score(y_test, y_test_pred)"
   ]
  },
  {
   "cell_type": "code",
   "execution_count": 26,
   "metadata": {},
   "outputs": [
    {
     "data": {
      "text/plain": [
       "(0.6865671641791045, 0.7297297297297297)"
      ]
     },
     "execution_count": 26,
     "metadata": {},
     "output_type": "execute_result"
    }
   ],
   "source": [
    "# Recall\n",
    "recall_score(y_train, y_train_pred), recall_score(y_test, y_test_pred)"
   ]
  },
  {
   "cell_type": "code",
   "execution_count": 27,
   "metadata": {},
   "outputs": [
    {
     "data": {
      "text/plain": [
       "(0.7117988394584139, 0.7552447552447553)"
      ]
     },
     "execution_count": 27,
     "metadata": {},
     "output_type": "execute_result"
    }
   ],
   "source": [
    "# F1\n",
    "f1_score(y_train, y_train_pred), f1_score(y_test, y_test_pred)"
   ]
  },
  {
   "cell_type": "code",
   "execution_count": 28,
   "metadata": {},
   "outputs": [
    {
     "data": {
      "text/plain": [
       "Text(0.5, 1.05, 'Confusion_matrix for Training Data')"
      ]
     },
     "execution_count": 28,
     "metadata": {},
     "output_type": "execute_result"
    },
    {
     "data": {
      "image/png": "[encoded data removed]",
      "text/plain": [
       "<Figure size 432x288 with 2 Axes>"
      ]
     },
     "metadata": {
      "needs_background": "light"
     },
     "output_type": "display_data"
    }
   ],
   "source": [
    "# confusion matrix training data\n",
    "sns.heatmap(confusion_matrix(y_train,y_train_pred),annot=True,fmt='3.0f',cmap=sns.cubehelix_palette(light=1, as_cmap=True))\n",
    "plt.title('Confusion_matrix for Training Data', y=1.05, size=15)"
   ]
  },
  {
   "cell_type": "code",
   "execution_count": 29,
   "metadata": {},
   "outputs": [
    {
     "data": {
      "text/plain": [
       "Text(0.5, 1.05, 'Confusion_matrix for Test Data')"
      ]
     },
     "execution_count": 29,
     "metadata": {},
     "output_type": "execute_result"
    },
    {
     "data": {
      "image/png": "[encoded data removed]",
      "text/plain": [
       "<Figure size 432x288 with 2 Axes>"
      ]
     },
     "metadata": {
      "needs_background": "light"
     },
     "output_type": "display_data"
    }
   ],
   "source": [
    "# confusion matrix test data\n",
    "sns.heatmap(confusion_matrix(y_test,y_test_pred),annot=True,fmt='3.0f',cmap=sns.cubehelix_palette(light=1, as_cmap=True))\n",
    "plt.title('Confusion_matrix for Test Data', y=1.05, size=15)"
   ]
  },
  {
   "cell_type": "markdown",
   "metadata": {},
   "source": [
    "## 4. Train a Random Forest model"
   ]
  },
  {
   "cell_type": "code",
   "execution_count": 30,
   "metadata": {},
   "outputs": [
    {
     "name": "stdout",
     "output_type": "stream",
     "text": [
      "training score:  0.858\n",
      "test score:  0.81\n"
     ]
    }
   ],
   "source": [
    "# train random forest model\n",
    "model_rf = RandomForestClassifier(criterion='gini',  \n",
    "                                  n_estimators=383, \n",
    "                                  min_samples_split=8, \n",
    "                                  min_samples_leaf=1,\n",
    "                                  max_depth=5,\n",
    "                                  max_features=6,\n",
    "                                  oob_score=True,\n",
    "                                  random_state=1,\n",
    "                                  n_jobs=-1)\n",
    "model_rf.fit(x_train,  np.ravel(y_train))\n",
    "\n",
    "print('training score: ',model_rf.score(x_train,y_train).round(3))\n",
    "print('test score: ',model_rf.score(x_test,y_test).round(3)) #check the data and how good the model is"
   ]
  },
  {
   "cell_type": "code",
   "execution_count": 31,
   "metadata": {},
   "outputs": [],
   "source": [
    "# predict y values\n",
    "y_train_pred_rf = model_rf.predict(x_train)\n",
    "y_test_pred_rf = model_rf.predict(x_test)\n",
    "y_kaggle_pred_rf = model_rf.predict(x_kaggle)"
   ]
  },
  {
   "cell_type": "markdown",
   "metadata": {},
   "source": [
    "## 4.1 Calculate test score and cross validate"
   ]
  },
  {
   "cell_type": "code",
   "execution_count": 32,
   "metadata": {},
   "outputs": [
    {
     "data": {
      "text/plain": [
       "(0.8581460674157303, 0.8044692737430168)"
      ]
     },
     "execution_count": 32,
     "metadata": {},
     "output_type": "execute_result"
    }
   ],
   "source": [
    "# Accuracy\n",
    "accuracy_score(y_train, y_train_pred_rf), accuracy_score(y_test, y_test_pred)"
   ]
  },
  {
   "cell_type": "code",
   "execution_count": 33,
   "metadata": {},
   "outputs": [
    {
     "data": {
      "text/plain": [
       "(0.8995215311004785, 0.782608695652174)"
      ]
     },
     "execution_count": 33,
     "metadata": {},
     "output_type": "execute_result"
    }
   ],
   "source": [
    "# Precision\n",
    "precision_score(y_train, y_train_pred_rf), precision_score(y_test, y_test_pred)"
   ]
  },
  {
   "cell_type": "code",
   "execution_count": 34,
   "metadata": {},
   "outputs": [
    {
     "data": {
      "text/plain": [
       "(0.7014925373134329, 0.7297297297297297)"
      ]
     },
     "execution_count": 34,
     "metadata": {},
     "output_type": "execute_result"
    }
   ],
   "source": [
    "# Recall\n",
    "recall_score(y_train, y_train_pred_rf), recall_score(y_test, y_test_pred)"
   ]
  },
  {
   "cell_type": "code",
   "execution_count": 35,
   "metadata": {},
   "outputs": [
    {
     "data": {
      "text/plain": [
       "(0.7882599580712788, 0.7552447552447553)"
      ]
     },
     "execution_count": 35,
     "metadata": {},
     "output_type": "execute_result"
    }
   ],
   "source": [
    "# F1\n",
    "f1_score(y_train, y_train_pred_rf), f1_score(y_test, y_test_pred)"
   ]
  },
  {
   "cell_type": "code",
   "execution_count": 36,
   "metadata": {},
   "outputs": [
    {
     "data": {
      "image/png": "[encoded data removed]",
      "text/plain": [
       "<Figure size 432x288 with 2 Axes>"
      ]
     },
     "metadata": {
      "needs_background": "light"
     },
     "output_type": "display_data"
    }
   ],
   "source": [
    "sns.heatmap(confusion_matrix(y_train,y_train_pred_rf),annot=True,fmt='3.0f',cmap=sns.cubehelix_palette(light=1, as_cmap=True))\n",
    "plt.title('Confusion_matrix for RF Training Data', y=1.05, size=15)\n",
    "plt.savefig(\"plots/RF_confusion.png\")"
   ]
  },
  {
   "cell_type": "code",
   "execution_count": 37,
   "metadata": {},
   "outputs": [
    {
     "data": {
      "text/plain": [
       "Text(0.5, 1.05, 'Confusion_matrix for RF Test Data')"
      ]
     },
     "execution_count": 37,
     "metadata": {},
     "output_type": "execute_result"
    },
    {
     "data": {
      "image/png": "[encoded data removed]",
      "text/plain": [
       "<Figure size 432x288 with 2 Axes>"
      ]
     },
     "metadata": {
      "needs_background": "light"
     },
     "output_type": "display_data"
    }
   ],
   "source": [
    "# confusion matrix test data\n",
    "sns.heatmap(confusion_matrix(y_test,y_test_pred_rf),annot=True,fmt='3.0f',cmap=sns.cubehelix_palette(light=1, as_cmap=True))\n",
    "plt.title('Confusion_matrix for RF Test Data', y=1.05, size=15)"
   ]
  },
  {
   "cell_type": "code",
   "execution_count": 38,
   "metadata": {},
   "outputs": [
    {
     "data": {
      "text/plain": [
       "<matplotlib.axes._subplots.AxesSubplot at 0x1a1b048f50>"
      ]
     },
     "execution_count": 38,
     "metadata": {},
     "output_type": "execute_result"
    },
    {
     "data": {
      "image/png": "[encoded data removed]",
      "text/plain": [
       "<Figure size 432x288 with 1 Axes>"
      ]
     },
     "metadata": {
      "needs_background": "light"
     },
     "output_type": "display_data"
    }
   ],
   "source": [
    "feat_importances = pd.Series(model_rf.feature_importances_, index=['Sex','Pclass','Fare','Embarked__C','Embarked__S','Embarked__Q','Parch','Age'])\n",
    "feat_importances.nlargest(9).plot(kind='barh')"
   ]
  },
  {
   "cell_type": "markdown",
   "metadata": {},
   "source": [
    "## 5. Hyperparameter optimization"
   ]
  },
  {
   "cell_type": "code",
   "execution_count": 39,
   "metadata": {},
   "outputs": [],
   "source": [
    "# optimization of parameters in random forest model, due to large spread between train and test scores\n",
    "# new parameter where already applied in above model to avoid lengthy code\n",
    "param_distributions = {'n_estimators': list(range(20, 700)),\n",
    "                       'min_samples_split':list(range(3,10)),\n",
    "                       'min_samples_leaf': list(range(1,5)),\n",
    "                       'max_depth': list(range(3, 15)),\n",
    "                       'max_features':list(range(2, 8))}"
   ]
  },
  {
   "cell_type": "code",
   "execution_count": 39,
   "metadata": {},
   "outputs": [
    {
     "data": {
      "text/html": [
       "<div>\n",
       "<style scoped>\n",
       "    .dataframe tbody tr th:only-of-type {\n",
       "        vertical-align: middle;\n",
       "    }\n",
       "\n",
       "    .dataframe tbody tr th {\n",
       "        vertical-align: top;\n",
       "    }\n",
       "\n",
       "    .dataframe thead th {\n",
       "        text-align: right;\n",
       "    }\n",
       "</style>\n",
       "<table border=\"1\" class=\"dataframe\">\n",
       "  <thead>\n",
       "    <tr style=\"text-align: right;\">\n",
       "      <th></th>\n",
       "      <th>mean_fit_time</th>\n",
       "      <th>std_fit_time</th>\n",
       "      <th>mean_score_time</th>\n",
       "      <th>std_score_time</th>\n",
       "      <th>param_n_estimators</th>\n",
       "      <th>param_min_samples_split</th>\n",
       "      <th>param_min_samples_leaf</th>\n",
       "      <th>param_max_features</th>\n",
       "      <th>param_max_depth</th>\n",
       "      <th>params</th>\n",
       "      <th>split0_test_score</th>\n",
       "      <th>split1_test_score</th>\n",
       "      <th>split2_test_score</th>\n",
       "      <th>split3_test_score</th>\n",
       "      <th>split4_test_score</th>\n",
       "      <th>mean_test_score</th>\n",
       "      <th>std_test_score</th>\n",
       "      <th>rank_test_score</th>\n",
       "    </tr>\n",
       "  </thead>\n",
       "  <tbody>\n",
       "    <tr>\n",
       "      <th>6</th>\n",
       "      <td>0.767851</td>\n",
       "      <td>0.070192</td>\n",
       "      <td>0.107404</td>\n",
       "      <td>0.001865</td>\n",
       "      <td>383</td>\n",
       "      <td>8</td>\n",
       "      <td>1</td>\n",
       "      <td>6</td>\n",
       "      <td>5</td>\n",
       "      <td>{'n_estimators': 383, 'min_samples_split': 8, ...</td>\n",
       "      <td>0.832168</td>\n",
       "      <td>0.846154</td>\n",
       "      <td>0.838028</td>\n",
       "      <td>0.802817</td>\n",
       "      <td>0.852113</td>\n",
       "      <td>0.834256</td>\n",
       "      <td>0.017131</td>\n",
       "      <td>1</td>\n",
       "    </tr>\n",
       "    <tr>\n",
       "      <th>3</th>\n",
       "      <td>0.400248</td>\n",
       "      <td>0.130160</td>\n",
       "      <td>0.105851</td>\n",
       "      <td>0.001784</td>\n",
       "      <td>145</td>\n",
       "      <td>3</td>\n",
       "      <td>1</td>\n",
       "      <td>2</td>\n",
       "      <td>9</td>\n",
       "      <td>{'n_estimators': 145, 'min_samples_split': 3, ...</td>\n",
       "      <td>0.804196</td>\n",
       "      <td>0.832168</td>\n",
       "      <td>0.823944</td>\n",
       "      <td>0.830986</td>\n",
       "      <td>0.845070</td>\n",
       "      <td>0.827273</td>\n",
       "      <td>0.013402</td>\n",
       "      <td>2</td>\n",
       "    </tr>\n",
       "    <tr>\n",
       "      <th>1</th>\n",
       "      <td>0.344966</td>\n",
       "      <td>0.050091</td>\n",
       "      <td>0.106638</td>\n",
       "      <td>0.002293</td>\n",
       "      <td>188</td>\n",
       "      <td>7</td>\n",
       "      <td>3</td>\n",
       "      <td>4</td>\n",
       "      <td>7</td>\n",
       "      <td>{'n_estimators': 188, 'min_samples_split': 7, ...</td>\n",
       "      <td>0.832168</td>\n",
       "      <td>0.832168</td>\n",
       "      <td>0.823944</td>\n",
       "      <td>0.795775</td>\n",
       "      <td>0.830986</td>\n",
       "      <td>0.823008</td>\n",
       "      <td>0.013957</td>\n",
       "      <td>3</td>\n",
       "    </tr>\n",
       "    <tr>\n",
       "      <th>0</th>\n",
       "      <td>0.418949</td>\n",
       "      <td>0.568612</td>\n",
       "      <td>0.105336</td>\n",
       "      <td>0.000788</td>\n",
       "      <td>47</td>\n",
       "      <td>8</td>\n",
       "      <td>4</td>\n",
       "      <td>5</td>\n",
       "      <td>10</td>\n",
       "      <td>{'n_estimators': 47, 'min_samples_split': 8, '...</td>\n",
       "      <td>0.832168</td>\n",
       "      <td>0.839161</td>\n",
       "      <td>0.816901</td>\n",
       "      <td>0.795775</td>\n",
       "      <td>0.830986</td>\n",
       "      <td>0.822998</td>\n",
       "      <td>0.015410</td>\n",
       "      <td>4</td>\n",
       "    </tr>\n",
       "    <tr>\n",
       "      <th>8</th>\n",
       "      <td>1.077273</td>\n",
       "      <td>0.090030</td>\n",
       "      <td>0.127862</td>\n",
       "      <td>0.041295</td>\n",
       "      <td>482</td>\n",
       "      <td>8</td>\n",
       "      <td>1</td>\n",
       "      <td>6</td>\n",
       "      <td>14</td>\n",
       "      <td>{'n_estimators': 482, 'min_samples_split': 8, ...</td>\n",
       "      <td>0.818182</td>\n",
       "      <td>0.832168</td>\n",
       "      <td>0.809859</td>\n",
       "      <td>0.830986</td>\n",
       "      <td>0.809859</td>\n",
       "      <td>0.820211</td>\n",
       "      <td>0.009772</td>\n",
       "      <td>5</td>\n",
       "    </tr>\n",
       "    <tr>\n",
       "      <th>7</th>\n",
       "      <td>0.695176</td>\n",
       "      <td>0.266504</td>\n",
       "      <td>0.111399</td>\n",
       "      <td>0.008257</td>\n",
       "      <td>171</td>\n",
       "      <td>6</td>\n",
       "      <td>3</td>\n",
       "      <td>4</td>\n",
       "      <td>13</td>\n",
       "      <td>{'n_estimators': 171, 'min_samples_split': 6, ...</td>\n",
       "      <td>0.804196</td>\n",
       "      <td>0.832168</td>\n",
       "      <td>0.830986</td>\n",
       "      <td>0.795775</td>\n",
       "      <td>0.830986</td>\n",
       "      <td>0.818822</td>\n",
       "      <td>0.015615</td>\n",
       "      <td>6</td>\n",
       "    </tr>\n",
       "    <tr>\n",
       "      <th>9</th>\n",
       "      <td>1.174774</td>\n",
       "      <td>0.048881</td>\n",
       "      <td>0.105605</td>\n",
       "      <td>0.001289</td>\n",
       "      <td>570</td>\n",
       "      <td>8</td>\n",
       "      <td>1</td>\n",
       "      <td>2</td>\n",
       "      <td>10</td>\n",
       "      <td>{'n_estimators': 570, 'min_samples_split': 8, ...</td>\n",
       "      <td>0.804196</td>\n",
       "      <td>0.811189</td>\n",
       "      <td>0.823944</td>\n",
       "      <td>0.802817</td>\n",
       "      <td>0.845070</td>\n",
       "      <td>0.817443</td>\n",
       "      <td>0.015710</td>\n",
       "      <td>7</td>\n",
       "    </tr>\n",
       "    <tr>\n",
       "      <th>4</th>\n",
       "      <td>1.449634</td>\n",
       "      <td>0.170350</td>\n",
       "      <td>0.168103</td>\n",
       "      <td>0.051536</td>\n",
       "      <td>599</td>\n",
       "      <td>7</td>\n",
       "      <td>1</td>\n",
       "      <td>6</td>\n",
       "      <td>13</td>\n",
       "      <td>{'n_estimators': 599, 'min_samples_split': 7, ...</td>\n",
       "      <td>0.811189</td>\n",
       "      <td>0.811189</td>\n",
       "      <td>0.809859</td>\n",
       "      <td>0.838028</td>\n",
       "      <td>0.816901</td>\n",
       "      <td>0.817433</td>\n",
       "      <td>0.010581</td>\n",
       "      <td>8</td>\n",
       "    </tr>\n",
       "    <tr>\n",
       "      <th>5</th>\n",
       "      <td>0.801763</td>\n",
       "      <td>0.075426</td>\n",
       "      <td>0.107557</td>\n",
       "      <td>0.000984</td>\n",
       "      <td>335</td>\n",
       "      <td>7</td>\n",
       "      <td>3</td>\n",
       "      <td>4</td>\n",
       "      <td>3</td>\n",
       "      <td>{'n_estimators': 335, 'min_samples_split': 7, ...</td>\n",
       "      <td>0.825175</td>\n",
       "      <td>0.846154</td>\n",
       "      <td>0.795775</td>\n",
       "      <td>0.781690</td>\n",
       "      <td>0.830986</td>\n",
       "      <td>0.815956</td>\n",
       "      <td>0.023682</td>\n",
       "      <td>9</td>\n",
       "    </tr>\n",
       "    <tr>\n",
       "      <th>2</th>\n",
       "      <td>0.696581</td>\n",
       "      <td>0.037430</td>\n",
       "      <td>0.105679</td>\n",
       "      <td>0.001422</td>\n",
       "      <td>395</td>\n",
       "      <td>8</td>\n",
       "      <td>2</td>\n",
       "      <td>2</td>\n",
       "      <td>6</td>\n",
       "      <td>{'n_estimators': 395, 'min_samples_split': 8, ...</td>\n",
       "      <td>0.804196</td>\n",
       "      <td>0.825175</td>\n",
       "      <td>0.838028</td>\n",
       "      <td>0.760563</td>\n",
       "      <td>0.845070</td>\n",
       "      <td>0.814607</td>\n",
       "      <td>0.030389</td>\n",
       "      <td>10</td>\n",
       "    </tr>\n",
       "  </tbody>\n",
       "</table>\n",
       "</div>"
      ],
      "text/plain": [
       "   mean_fit_time  std_fit_time  mean_score_time  std_score_time  \\\n",
       "6       0.767851      0.070192         0.107404        0.001865   \n",
       "3       0.400248      0.130160         0.105851        0.001784   \n",
       "1       0.344966      0.050091         0.106638        0.002293   \n",
       "0       0.418949      0.568612         0.105336        0.000788   \n",
       "8       1.077273      0.090030         0.127862        0.041295   \n",
       "7       0.695176      0.266504         0.111399        0.008257   \n",
       "9       1.174774      0.048881         0.105605        0.001289   \n",
       "4       1.449634      0.170350         0.168103        0.051536   \n",
       "5       0.801763      0.075426         0.107557        0.000984   \n",
       "2       0.696581      0.037430         0.105679        0.001422   \n",
       "\n",
       "  param_n_estimators param_min_samples_split param_min_samples_leaf  \\\n",
       "6                383                       8                      1   \n",
       "3                145                       3                      1   \n",
       "1                188                       7                      3   \n",
       "0                 47                       8                      4   \n",
       "8                482                       8                      1   \n",
       "7                171                       6                      3   \n",
       "9                570                       8                      1   \n",
       "4                599                       7                      1   \n",
       "5                335                       7                      3   \n",
       "2                395                       8                      2   \n",
       "\n",
       "  param_max_features param_max_depth  \\\n",
       "6                  6               5   \n",
       "3                  2               9   \n",
       "1                  4               7   \n",
       "0                  5              10   \n",
       "8                  6              14   \n",
       "7                  4              13   \n",
       "9                  2              10   \n",
       "4                  6              13   \n",
       "5                  4               3   \n",
       "2                  2               6   \n",
       "\n",
       "                                              params  split0_test_score  \\\n",
       "6  {'n_estimators': 383, 'min_samples_split': 8, ...           0.832168   \n",
       "3  {'n_estimators': 145, 'min_samples_split': 3, ...           0.804196   \n",
       "1  {'n_estimators': 188, 'min_samples_split': 7, ...           0.832168   \n",
       "0  {'n_estimators': 47, 'min_samples_split': 8, '...           0.832168   \n",
       "8  {'n_estimators': 482, 'min_samples_split': 8, ...           0.818182   \n",
       "7  {'n_estimators': 171, 'min_samples_split': 6, ...           0.804196   \n",
       "9  {'n_estimators': 570, 'min_samples_split': 8, ...           0.804196   \n",
       "4  {'n_estimators': 599, 'min_samples_split': 7, ...           0.811189   \n",
       "5  {'n_estimators': 335, 'min_samples_split': 7, ...           0.825175   \n",
       "2  {'n_estimators': 395, 'min_samples_split': 8, ...           0.804196   \n",
       "\n",
       "   split1_test_score  split2_test_score  split3_test_score  split4_test_score  \\\n",
       "6           0.846154           0.838028           0.802817           0.852113   \n",
       "3           0.832168           0.823944           0.830986           0.845070   \n",
       "1           0.832168           0.823944           0.795775           0.830986   \n",
       "0           0.839161           0.816901           0.795775           0.830986   \n",
       "8           0.832168           0.809859           0.830986           0.809859   \n",
       "7           0.832168           0.830986           0.795775           0.830986   \n",
       "9           0.811189           0.823944           0.802817           0.845070   \n",
       "4           0.811189           0.809859           0.838028           0.816901   \n",
       "5           0.846154           0.795775           0.781690           0.830986   \n",
       "2           0.825175           0.838028           0.760563           0.845070   \n",
       "\n",
       "   mean_test_score  std_test_score  rank_test_score  \n",
       "6         0.834256        0.017131                1  \n",
       "3         0.827273        0.013402                2  \n",
       "1         0.823008        0.013957                3  \n",
       "0         0.822998        0.015410                4  \n",
       "8         0.820211        0.009772                5  \n",
       "7         0.818822        0.015615                6  \n",
       "9         0.817443        0.015710                7  \n",
       "4         0.817433        0.010581                8  \n",
       "5         0.815956        0.023682                9  \n",
       "2         0.814607        0.030389               10  "
      ]
     },
     "metadata": {},
     "output_type": "display_data"
    }
   ],
   "source": [
    "randomizedcv = RandomizedSearchCV(model_rf, param_distributions=param_distributions)\n",
    "randomizedcv.fit(x_train, y_train)\n",
    "random_results = pd.DataFrame(randomizedcv.cv_results_)\n",
    "display(random_results.sort_values('mean_test_score', ascending=False))"
   ]
  },
  {
   "cell_type": "markdown",
   "metadata": {},
   "source": [
    "## 6. Create outputfile for kaggle"
   ]
  },
  {
   "cell_type": "code",
   "execution_count": 44,
   "metadata": {},
   "outputs": [],
   "source": [
    "output = pd.DataFrame({'PassengerId': kaggle.PassengerId, 'Survived': y_kaggle_pred_rf})\n",
    "output.to_csv('kaggle_score_saving_iceberg.csv', index=False)"
   ]
  },
  {
   "cell_type": "code",
   "execution_count": null,
   "metadata": {},
   "outputs": [],
   "source": []
  }
 ],
 "metadata": {
  "kernelspec": {
   "display_name": "Python 3",
   "language": "python",
   "name": "python3"
  },
  "language_info": {
   "codemirror_mode": {
    "name": "ipython",
    "version": 3
   },
   "file_extension": ".py",
   "mimetype": "text/x-python",
   "name": "python",
   "nbconvert_exporter": "python",
   "pygments_lexer": "ipython3",
   "version": "3.7.6"
  }
 },
 "nbformat": 4,
 "nbformat_minor": 4
}
